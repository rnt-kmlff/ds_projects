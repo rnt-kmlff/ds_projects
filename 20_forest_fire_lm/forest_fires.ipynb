{
 "cells": [
  {
   "cell_type": "markdown",
   "id": "ec1a5378",
   "metadata": {},
   "source": [
    "# Predicting Wildfire Impact: Overcoming Challenges in Portugal’s Forest Data\n",
    "\n",
    "In this data science project, our objective is to predict the area affected by forest fires in the northeast region of Portugal, a notoriously challenging regression problem. We employ a linear regression framework, enhanced by feature selection and regularization methods, and compare its performance with a K-nearest neighbors (KNN) approach. Our benchmark is the naive mean predictor, serving as a baseline against which to measure improvements.\n",
    "\n",
    "Our methodology encompasses log-transforming the response variable to mitigate heavy skewness toward zero, followed by the application of various stepwise selection techniques to optimize the feature set. Despite experimenting with advanced techniques including Lasso, Ridge regression, PCA, and KNN, our results indicate only marginal enhancements over the naive benchmark. The best performing model was obtained using forward stepwise selection applied to a second-degree polynomial transformation, which slightly surpassed the baseline metrics.\n",
    "\n",
    "The outcome of this analysis revealed that while our most effective model exhibited a moderate reduction in error rates, with a Mean Squared Error (MSE) of 1.94 and a Mean Absolute Error (MAE) of 1.13, it represents only a nominal advancement over the naive mean predictor. This suggests the necessity for alternative modeling strategies, such as a two-step approach integrating classification and regression or exploring non-parametric models, to more robustly tackle the complexities of predicting forest fire areas.\n",
    "\n",
    "Dataset: https://archive.ics.uci.edu/dataset/162/forest+fires"
   ]
  },
  {
   "cell_type": "code",
   "execution_count": 63,
   "id": "43fde877",
   "metadata": {},
   "outputs": [],
   "source": [
    "import pandas as pd\n",
    "import numpy as np\n",
    "import matplotlib.pyplot as plt"
   ]
  },
  {
   "cell_type": "code",
   "execution_count": 64,
   "id": "1a796809",
   "metadata": {},
   "outputs": [
    {
     "data": {
      "text/html": [
       "<div>\n",
       "<style scoped>\n",
       "    .dataframe tbody tr th:only-of-type {\n",
       "        vertical-align: middle;\n",
       "    }\n",
       "\n",
       "    .dataframe tbody tr th {\n",
       "        vertical-align: top;\n",
       "    }\n",
       "\n",
       "    .dataframe thead th {\n",
       "        text-align: right;\n",
       "    }\n",
       "</style>\n",
       "<table border=\"1\" class=\"dataframe\">\n",
       "  <thead>\n",
       "    <tr style=\"text-align: right;\">\n",
       "      <th></th>\n",
       "      <th>X</th>\n",
       "      <th>Y</th>\n",
       "      <th>month</th>\n",
       "      <th>day</th>\n",
       "      <th>FFMC</th>\n",
       "      <th>DMC</th>\n",
       "      <th>DC</th>\n",
       "      <th>ISI</th>\n",
       "      <th>temp</th>\n",
       "      <th>RH</th>\n",
       "      <th>wind</th>\n",
       "      <th>rain</th>\n",
       "      <th>area</th>\n",
       "    </tr>\n",
       "  </thead>\n",
       "  <tbody>\n",
       "    <tr>\n",
       "      <th>0</th>\n",
       "      <td>7</td>\n",
       "      <td>5</td>\n",
       "      <td>mar</td>\n",
       "      <td>fri</td>\n",
       "      <td>86.2</td>\n",
       "      <td>26.2</td>\n",
       "      <td>94.3</td>\n",
       "      <td>5.1</td>\n",
       "      <td>8.2</td>\n",
       "      <td>51</td>\n",
       "      <td>6.7</td>\n",
       "      <td>0.0</td>\n",
       "      <td>0.00</td>\n",
       "    </tr>\n",
       "    <tr>\n",
       "      <th>1</th>\n",
       "      <td>7</td>\n",
       "      <td>4</td>\n",
       "      <td>oct</td>\n",
       "      <td>tue</td>\n",
       "      <td>90.6</td>\n",
       "      <td>35.4</td>\n",
       "      <td>669.1</td>\n",
       "      <td>6.7</td>\n",
       "      <td>18.0</td>\n",
       "      <td>33</td>\n",
       "      <td>0.9</td>\n",
       "      <td>0.0</td>\n",
       "      <td>0.00</td>\n",
       "    </tr>\n",
       "    <tr>\n",
       "      <th>2</th>\n",
       "      <td>7</td>\n",
       "      <td>4</td>\n",
       "      <td>oct</td>\n",
       "      <td>sat</td>\n",
       "      <td>90.6</td>\n",
       "      <td>43.7</td>\n",
       "      <td>686.9</td>\n",
       "      <td>6.7</td>\n",
       "      <td>14.6</td>\n",
       "      <td>33</td>\n",
       "      <td>1.3</td>\n",
       "      <td>0.0</td>\n",
       "      <td>0.00</td>\n",
       "    </tr>\n",
       "    <tr>\n",
       "      <th>3</th>\n",
       "      <td>8</td>\n",
       "      <td>6</td>\n",
       "      <td>mar</td>\n",
       "      <td>fri</td>\n",
       "      <td>91.7</td>\n",
       "      <td>33.3</td>\n",
       "      <td>77.5</td>\n",
       "      <td>9.0</td>\n",
       "      <td>8.3</td>\n",
       "      <td>97</td>\n",
       "      <td>4.0</td>\n",
       "      <td>0.2</td>\n",
       "      <td>0.00</td>\n",
       "    </tr>\n",
       "    <tr>\n",
       "      <th>4</th>\n",
       "      <td>8</td>\n",
       "      <td>6</td>\n",
       "      <td>mar</td>\n",
       "      <td>sun</td>\n",
       "      <td>89.3</td>\n",
       "      <td>51.3</td>\n",
       "      <td>102.2</td>\n",
       "      <td>9.6</td>\n",
       "      <td>11.4</td>\n",
       "      <td>99</td>\n",
       "      <td>1.8</td>\n",
       "      <td>0.0</td>\n",
       "      <td>0.00</td>\n",
       "    </tr>\n",
       "    <tr>\n",
       "      <th>...</th>\n",
       "      <td>...</td>\n",
       "      <td>...</td>\n",
       "      <td>...</td>\n",
       "      <td>...</td>\n",
       "      <td>...</td>\n",
       "      <td>...</td>\n",
       "      <td>...</td>\n",
       "      <td>...</td>\n",
       "      <td>...</td>\n",
       "      <td>...</td>\n",
       "      <td>...</td>\n",
       "      <td>...</td>\n",
       "      <td>...</td>\n",
       "    </tr>\n",
       "    <tr>\n",
       "      <th>512</th>\n",
       "      <td>4</td>\n",
       "      <td>3</td>\n",
       "      <td>aug</td>\n",
       "      <td>sun</td>\n",
       "      <td>81.6</td>\n",
       "      <td>56.7</td>\n",
       "      <td>665.6</td>\n",
       "      <td>1.9</td>\n",
       "      <td>27.8</td>\n",
       "      <td>32</td>\n",
       "      <td>2.7</td>\n",
       "      <td>0.0</td>\n",
       "      <td>6.44</td>\n",
       "    </tr>\n",
       "    <tr>\n",
       "      <th>513</th>\n",
       "      <td>2</td>\n",
       "      <td>4</td>\n",
       "      <td>aug</td>\n",
       "      <td>sun</td>\n",
       "      <td>81.6</td>\n",
       "      <td>56.7</td>\n",
       "      <td>665.6</td>\n",
       "      <td>1.9</td>\n",
       "      <td>21.9</td>\n",
       "      <td>71</td>\n",
       "      <td>5.8</td>\n",
       "      <td>0.0</td>\n",
       "      <td>54.29</td>\n",
       "    </tr>\n",
       "    <tr>\n",
       "      <th>514</th>\n",
       "      <td>7</td>\n",
       "      <td>4</td>\n",
       "      <td>aug</td>\n",
       "      <td>sun</td>\n",
       "      <td>81.6</td>\n",
       "      <td>56.7</td>\n",
       "      <td>665.6</td>\n",
       "      <td>1.9</td>\n",
       "      <td>21.2</td>\n",
       "      <td>70</td>\n",
       "      <td>6.7</td>\n",
       "      <td>0.0</td>\n",
       "      <td>11.16</td>\n",
       "    </tr>\n",
       "    <tr>\n",
       "      <th>515</th>\n",
       "      <td>1</td>\n",
       "      <td>4</td>\n",
       "      <td>aug</td>\n",
       "      <td>sat</td>\n",
       "      <td>94.4</td>\n",
       "      <td>146.0</td>\n",
       "      <td>614.7</td>\n",
       "      <td>11.3</td>\n",
       "      <td>25.6</td>\n",
       "      <td>42</td>\n",
       "      <td>4.0</td>\n",
       "      <td>0.0</td>\n",
       "      <td>0.00</td>\n",
       "    </tr>\n",
       "    <tr>\n",
       "      <th>516</th>\n",
       "      <td>6</td>\n",
       "      <td>3</td>\n",
       "      <td>nov</td>\n",
       "      <td>tue</td>\n",
       "      <td>79.5</td>\n",
       "      <td>3.0</td>\n",
       "      <td>106.7</td>\n",
       "      <td>1.1</td>\n",
       "      <td>11.8</td>\n",
       "      <td>31</td>\n",
       "      <td>4.5</td>\n",
       "      <td>0.0</td>\n",
       "      <td>0.00</td>\n",
       "    </tr>\n",
       "  </tbody>\n",
       "</table>\n",
       "<p>517 rows × 13 columns</p>\n",
       "</div>"
      ],
      "text/plain": [
       "     X  Y month  day  FFMC    DMC     DC   ISI  temp  RH  wind  rain   area\n",
       "0    7  5   mar  fri  86.2   26.2   94.3   5.1   8.2  51   6.7   0.0   0.00\n",
       "1    7  4   oct  tue  90.6   35.4  669.1   6.7  18.0  33   0.9   0.0   0.00\n",
       "2    7  4   oct  sat  90.6   43.7  686.9   6.7  14.6  33   1.3   0.0   0.00\n",
       "3    8  6   mar  fri  91.7   33.3   77.5   9.0   8.3  97   4.0   0.2   0.00\n",
       "4    8  6   mar  sun  89.3   51.3  102.2   9.6  11.4  99   1.8   0.0   0.00\n",
       "..  .. ..   ...  ...   ...    ...    ...   ...   ...  ..   ...   ...    ...\n",
       "512  4  3   aug  sun  81.6   56.7  665.6   1.9  27.8  32   2.7   0.0   6.44\n",
       "513  2  4   aug  sun  81.6   56.7  665.6   1.9  21.9  71   5.8   0.0  54.29\n",
       "514  7  4   aug  sun  81.6   56.7  665.6   1.9  21.2  70   6.7   0.0  11.16\n",
       "515  1  4   aug  sat  94.4  146.0  614.7  11.3  25.6  42   4.0   0.0   0.00\n",
       "516  6  3   nov  tue  79.5    3.0  106.7   1.1  11.8  31   4.5   0.0   0.00\n",
       "\n",
       "[517 rows x 13 columns]"
      ]
     },
     "execution_count": 64,
     "metadata": {},
     "output_type": "execute_result"
    }
   ],
   "source": [
    "fires = pd.read_csv('forestfires.csv')\n",
    "\n",
    "fires"
   ]
  },
  {
   "cell_type": "markdown",
   "id": "25c5c10e",
   "metadata": {},
   "source": [
    "## Data Processing"
   ]
  },
  {
   "cell_type": "code",
   "execution_count": 65,
   "id": "98d73bb9",
   "metadata": {
    "scrolled": false
   },
   "outputs": [
    {
     "name": "stdout",
     "output_type": "stream",
     "text": [
      "<class 'pandas.core.frame.DataFrame'>\n",
      "RangeIndex: 517 entries, 0 to 516\n",
      "Data columns (total 13 columns):\n",
      " #   Column  Non-Null Count  Dtype  \n",
      "---  ------  --------------  -----  \n",
      " 0   X       517 non-null    int64  \n",
      " 1   Y       517 non-null    int64  \n",
      " 2   month   517 non-null    object \n",
      " 3   day     517 non-null    object \n",
      " 4   FFMC    517 non-null    float64\n",
      " 5   DMC     517 non-null    float64\n",
      " 6   DC      517 non-null    float64\n",
      " 7   ISI     517 non-null    float64\n",
      " 8   temp    517 non-null    float64\n",
      " 9   RH      517 non-null    int64  \n",
      " 10  wind    517 non-null    float64\n",
      " 11  rain    517 non-null    float64\n",
      " 12  area    517 non-null    float64\n",
      "dtypes: float64(8), int64(3), object(2)\n",
      "memory usage: 52.6+ KB\n"
     ]
    }
   ],
   "source": [
    "fires.info()"
   ]
  },
  {
   "cell_type": "markdown",
   "id": "736b69c6",
   "metadata": {},
   "source": [
    "There are no missing values, all data types seem to be correctly specified.\n",
    "\n",
    "Next we will one-hot encode categorical features (month, day)."
   ]
  },
  {
   "cell_type": "code",
   "execution_count": 66,
   "id": "9c966a77",
   "metadata": {},
   "outputs": [
    {
     "data": {
      "text/html": [
       "<div>\n",
       "<style scoped>\n",
       "    .dataframe tbody tr th:only-of-type {\n",
       "        vertical-align: middle;\n",
       "    }\n",
       "\n",
       "    .dataframe tbody tr th {\n",
       "        vertical-align: top;\n",
       "    }\n",
       "\n",
       "    .dataframe thead th {\n",
       "        text-align: right;\n",
       "    }\n",
       "</style>\n",
       "<table border=\"1\" class=\"dataframe\">\n",
       "  <thead>\n",
       "    <tr style=\"text-align: right;\">\n",
       "      <th></th>\n",
       "      <th>X</th>\n",
       "      <th>Y</th>\n",
       "      <th>FFMC</th>\n",
       "      <th>DMC</th>\n",
       "      <th>DC</th>\n",
       "      <th>ISI</th>\n",
       "      <th>temp</th>\n",
       "      <th>RH</th>\n",
       "      <th>wind</th>\n",
       "      <th>rain</th>\n",
       "      <th>...</th>\n",
       "      <th>month_may</th>\n",
       "      <th>month_nov</th>\n",
       "      <th>month_oct</th>\n",
       "      <th>month_sep</th>\n",
       "      <th>day_mon</th>\n",
       "      <th>day_sat</th>\n",
       "      <th>day_sun</th>\n",
       "      <th>day_thu</th>\n",
       "      <th>day_tue</th>\n",
       "      <th>day_wed</th>\n",
       "    </tr>\n",
       "  </thead>\n",
       "  <tbody>\n",
       "    <tr>\n",
       "      <th>0</th>\n",
       "      <td>7</td>\n",
       "      <td>5</td>\n",
       "      <td>86.2</td>\n",
       "      <td>26.2</td>\n",
       "      <td>94.3</td>\n",
       "      <td>5.1</td>\n",
       "      <td>8.2</td>\n",
       "      <td>51</td>\n",
       "      <td>6.7</td>\n",
       "      <td>0.0</td>\n",
       "      <td>...</td>\n",
       "      <td>0</td>\n",
       "      <td>0</td>\n",
       "      <td>0</td>\n",
       "      <td>0</td>\n",
       "      <td>0</td>\n",
       "      <td>0</td>\n",
       "      <td>0</td>\n",
       "      <td>0</td>\n",
       "      <td>0</td>\n",
       "      <td>0</td>\n",
       "    </tr>\n",
       "    <tr>\n",
       "      <th>1</th>\n",
       "      <td>7</td>\n",
       "      <td>4</td>\n",
       "      <td>90.6</td>\n",
       "      <td>35.4</td>\n",
       "      <td>669.1</td>\n",
       "      <td>6.7</td>\n",
       "      <td>18.0</td>\n",
       "      <td>33</td>\n",
       "      <td>0.9</td>\n",
       "      <td>0.0</td>\n",
       "      <td>...</td>\n",
       "      <td>0</td>\n",
       "      <td>0</td>\n",
       "      <td>1</td>\n",
       "      <td>0</td>\n",
       "      <td>0</td>\n",
       "      <td>0</td>\n",
       "      <td>0</td>\n",
       "      <td>0</td>\n",
       "      <td>1</td>\n",
       "      <td>0</td>\n",
       "    </tr>\n",
       "    <tr>\n",
       "      <th>2</th>\n",
       "      <td>7</td>\n",
       "      <td>4</td>\n",
       "      <td>90.6</td>\n",
       "      <td>43.7</td>\n",
       "      <td>686.9</td>\n",
       "      <td>6.7</td>\n",
       "      <td>14.6</td>\n",
       "      <td>33</td>\n",
       "      <td>1.3</td>\n",
       "      <td>0.0</td>\n",
       "      <td>...</td>\n",
       "      <td>0</td>\n",
       "      <td>0</td>\n",
       "      <td>1</td>\n",
       "      <td>0</td>\n",
       "      <td>0</td>\n",
       "      <td>1</td>\n",
       "      <td>0</td>\n",
       "      <td>0</td>\n",
       "      <td>0</td>\n",
       "      <td>0</td>\n",
       "    </tr>\n",
       "    <tr>\n",
       "      <th>3</th>\n",
       "      <td>8</td>\n",
       "      <td>6</td>\n",
       "      <td>91.7</td>\n",
       "      <td>33.3</td>\n",
       "      <td>77.5</td>\n",
       "      <td>9.0</td>\n",
       "      <td>8.3</td>\n",
       "      <td>97</td>\n",
       "      <td>4.0</td>\n",
       "      <td>0.2</td>\n",
       "      <td>...</td>\n",
       "      <td>0</td>\n",
       "      <td>0</td>\n",
       "      <td>0</td>\n",
       "      <td>0</td>\n",
       "      <td>0</td>\n",
       "      <td>0</td>\n",
       "      <td>0</td>\n",
       "      <td>0</td>\n",
       "      <td>0</td>\n",
       "      <td>0</td>\n",
       "    </tr>\n",
       "    <tr>\n",
       "      <th>4</th>\n",
       "      <td>8</td>\n",
       "      <td>6</td>\n",
       "      <td>89.3</td>\n",
       "      <td>51.3</td>\n",
       "      <td>102.2</td>\n",
       "      <td>9.6</td>\n",
       "      <td>11.4</td>\n",
       "      <td>99</td>\n",
       "      <td>1.8</td>\n",
       "      <td>0.0</td>\n",
       "      <td>...</td>\n",
       "      <td>0</td>\n",
       "      <td>0</td>\n",
       "      <td>0</td>\n",
       "      <td>0</td>\n",
       "      <td>0</td>\n",
       "      <td>0</td>\n",
       "      <td>1</td>\n",
       "      <td>0</td>\n",
       "      <td>0</td>\n",
       "      <td>0</td>\n",
       "    </tr>\n",
       "    <tr>\n",
       "      <th>...</th>\n",
       "      <td>...</td>\n",
       "      <td>...</td>\n",
       "      <td>...</td>\n",
       "      <td>...</td>\n",
       "      <td>...</td>\n",
       "      <td>...</td>\n",
       "      <td>...</td>\n",
       "      <td>...</td>\n",
       "      <td>...</td>\n",
       "      <td>...</td>\n",
       "      <td>...</td>\n",
       "      <td>...</td>\n",
       "      <td>...</td>\n",
       "      <td>...</td>\n",
       "      <td>...</td>\n",
       "      <td>...</td>\n",
       "      <td>...</td>\n",
       "      <td>...</td>\n",
       "      <td>...</td>\n",
       "      <td>...</td>\n",
       "      <td>...</td>\n",
       "    </tr>\n",
       "    <tr>\n",
       "      <th>512</th>\n",
       "      <td>4</td>\n",
       "      <td>3</td>\n",
       "      <td>81.6</td>\n",
       "      <td>56.7</td>\n",
       "      <td>665.6</td>\n",
       "      <td>1.9</td>\n",
       "      <td>27.8</td>\n",
       "      <td>32</td>\n",
       "      <td>2.7</td>\n",
       "      <td>0.0</td>\n",
       "      <td>...</td>\n",
       "      <td>0</td>\n",
       "      <td>0</td>\n",
       "      <td>0</td>\n",
       "      <td>0</td>\n",
       "      <td>0</td>\n",
       "      <td>0</td>\n",
       "      <td>1</td>\n",
       "      <td>0</td>\n",
       "      <td>0</td>\n",
       "      <td>0</td>\n",
       "    </tr>\n",
       "    <tr>\n",
       "      <th>513</th>\n",
       "      <td>2</td>\n",
       "      <td>4</td>\n",
       "      <td>81.6</td>\n",
       "      <td>56.7</td>\n",
       "      <td>665.6</td>\n",
       "      <td>1.9</td>\n",
       "      <td>21.9</td>\n",
       "      <td>71</td>\n",
       "      <td>5.8</td>\n",
       "      <td>0.0</td>\n",
       "      <td>...</td>\n",
       "      <td>0</td>\n",
       "      <td>0</td>\n",
       "      <td>0</td>\n",
       "      <td>0</td>\n",
       "      <td>0</td>\n",
       "      <td>0</td>\n",
       "      <td>1</td>\n",
       "      <td>0</td>\n",
       "      <td>0</td>\n",
       "      <td>0</td>\n",
       "    </tr>\n",
       "    <tr>\n",
       "      <th>514</th>\n",
       "      <td>7</td>\n",
       "      <td>4</td>\n",
       "      <td>81.6</td>\n",
       "      <td>56.7</td>\n",
       "      <td>665.6</td>\n",
       "      <td>1.9</td>\n",
       "      <td>21.2</td>\n",
       "      <td>70</td>\n",
       "      <td>6.7</td>\n",
       "      <td>0.0</td>\n",
       "      <td>...</td>\n",
       "      <td>0</td>\n",
       "      <td>0</td>\n",
       "      <td>0</td>\n",
       "      <td>0</td>\n",
       "      <td>0</td>\n",
       "      <td>0</td>\n",
       "      <td>1</td>\n",
       "      <td>0</td>\n",
       "      <td>0</td>\n",
       "      <td>0</td>\n",
       "    </tr>\n",
       "    <tr>\n",
       "      <th>515</th>\n",
       "      <td>1</td>\n",
       "      <td>4</td>\n",
       "      <td>94.4</td>\n",
       "      <td>146.0</td>\n",
       "      <td>614.7</td>\n",
       "      <td>11.3</td>\n",
       "      <td>25.6</td>\n",
       "      <td>42</td>\n",
       "      <td>4.0</td>\n",
       "      <td>0.0</td>\n",
       "      <td>...</td>\n",
       "      <td>0</td>\n",
       "      <td>0</td>\n",
       "      <td>0</td>\n",
       "      <td>0</td>\n",
       "      <td>0</td>\n",
       "      <td>1</td>\n",
       "      <td>0</td>\n",
       "      <td>0</td>\n",
       "      <td>0</td>\n",
       "      <td>0</td>\n",
       "    </tr>\n",
       "    <tr>\n",
       "      <th>516</th>\n",
       "      <td>6</td>\n",
       "      <td>3</td>\n",
       "      <td>79.5</td>\n",
       "      <td>3.0</td>\n",
       "      <td>106.7</td>\n",
       "      <td>1.1</td>\n",
       "      <td>11.8</td>\n",
       "      <td>31</td>\n",
       "      <td>4.5</td>\n",
       "      <td>0.0</td>\n",
       "      <td>...</td>\n",
       "      <td>0</td>\n",
       "      <td>1</td>\n",
       "      <td>0</td>\n",
       "      <td>0</td>\n",
       "      <td>0</td>\n",
       "      <td>0</td>\n",
       "      <td>0</td>\n",
       "      <td>0</td>\n",
       "      <td>1</td>\n",
       "      <td>0</td>\n",
       "    </tr>\n",
       "  </tbody>\n",
       "</table>\n",
       "<p>517 rows × 28 columns</p>\n",
       "</div>"
      ],
      "text/plain": [
       "     X  Y  FFMC    DMC     DC   ISI  temp  RH  wind  rain  ...  month_may  \\\n",
       "0    7  5  86.2   26.2   94.3   5.1   8.2  51   6.7   0.0  ...          0   \n",
       "1    7  4  90.6   35.4  669.1   6.7  18.0  33   0.9   0.0  ...          0   \n",
       "2    7  4  90.6   43.7  686.9   6.7  14.6  33   1.3   0.0  ...          0   \n",
       "3    8  6  91.7   33.3   77.5   9.0   8.3  97   4.0   0.2  ...          0   \n",
       "4    8  6  89.3   51.3  102.2   9.6  11.4  99   1.8   0.0  ...          0   \n",
       "..  .. ..   ...    ...    ...   ...   ...  ..   ...   ...  ...        ...   \n",
       "512  4  3  81.6   56.7  665.6   1.9  27.8  32   2.7   0.0  ...          0   \n",
       "513  2  4  81.6   56.7  665.6   1.9  21.9  71   5.8   0.0  ...          0   \n",
       "514  7  4  81.6   56.7  665.6   1.9  21.2  70   6.7   0.0  ...          0   \n",
       "515  1  4  94.4  146.0  614.7  11.3  25.6  42   4.0   0.0  ...          0   \n",
       "516  6  3  79.5    3.0  106.7   1.1  11.8  31   4.5   0.0  ...          0   \n",
       "\n",
       "     month_nov  month_oct  month_sep  day_mon  day_sat  day_sun  day_thu  \\\n",
       "0            0          0          0        0        0        0        0   \n",
       "1            0          1          0        0        0        0        0   \n",
       "2            0          1          0        0        1        0        0   \n",
       "3            0          0          0        0        0        0        0   \n",
       "4            0          0          0        0        0        1        0   \n",
       "..         ...        ...        ...      ...      ...      ...      ...   \n",
       "512          0          0          0        0        0        1        0   \n",
       "513          0          0          0        0        0        1        0   \n",
       "514          0          0          0        0        0        1        0   \n",
       "515          0          0          0        0        1        0        0   \n",
       "516          1          0          0        0        0        0        0   \n",
       "\n",
       "     day_tue  day_wed  \n",
       "0          0        0  \n",
       "1          1        0  \n",
       "2          0        0  \n",
       "3          0        0  \n",
       "4          0        0  \n",
       "..       ...      ...  \n",
       "512        0        0  \n",
       "513        0        0  \n",
       "514        0        0  \n",
       "515        0        0  \n",
       "516        1        0  \n",
       "\n",
       "[517 rows x 28 columns]"
      ]
     },
     "execution_count": 66,
     "metadata": {},
     "output_type": "execute_result"
    }
   ],
   "source": [
    "fires2 = pd.get_dummies(fires, drop_first=True).copy()\n",
    "\n",
    "fires2"
   ]
  },
  {
   "cell_type": "code",
   "execution_count": 67,
   "id": "b1e4acd2",
   "metadata": {},
   "outputs": [],
   "source": [
    "# Selecting predictors and response variables\n",
    "X = fires2.drop(['area'], axis=1)\n",
    "y = fires2['area']"
   ]
  },
  {
   "cell_type": "markdown",
   "id": "d49483f9",
   "metadata": {},
   "source": [
    "### Log transforming the response\n",
    "\n",
    "We will explore the distribution of the target variable."
   ]
  },
  {
   "cell_type": "code",
   "execution_count": 68,
   "id": "75ce994d",
   "metadata": {},
   "outputs": [
    {
     "data": {
      "image/png": "[encoded data removed]",
      "text/plain": [
       "<Figure size 640x480 with 1 Axes>"
      ]
     },
     "metadata": {},
     "output_type": "display_data"
    }
   ],
   "source": [
    "y.plot.hist()\n",
    "plt.show()"
   ]
  },
  {
   "cell_type": "markdown",
   "id": "67669bd4",
   "metadata": {},
   "source": [
    "The distribution of the repsonse is heavily skewed towards zero, so it might make sense to log transform it to improve prediction."
   ]
  },
  {
   "cell_type": "code",
   "execution_count": 69,
   "id": "07c1cd0d",
   "metadata": {},
   "outputs": [
    {
     "data": {
      "image/png": "[encoded data removed]",
      "text/plain": [
       "<Figure size 640x480 with 1 Axes>"
      ]
     },
     "metadata": {},
     "output_type": "display_data"
    }
   ],
   "source": [
    "y_log = np.log(y + 1)\n",
    "\n",
    "y_log.plot.hist()\n",
    "plt.show()"
   ]
  },
  {
   "cell_type": "markdown",
   "id": "d25e64ef",
   "metadata": {},
   "source": [
    "### Exploring the Features\n",
    "\n",
    "We will visualize the distribution of features with the help of boxplots."
   ]
  },
  {
   "cell_type": "code",
   "execution_count": 70,
   "id": "6e201afa",
   "metadata": {},
   "outputs": [
    {
     "data": {
      "image/png": "[encoded data removed]",
      "text/plain": [
       "<Figure size 1000x1000 with 10 Axes>"
      ]
     },
     "metadata": {},
     "output_type": "display_data"
    }
   ],
   "source": [
    "# Selecting features' names\n",
    "features = X.columns.values.tolist()\n",
    "\n",
    "# Plotting the distribution\n",
    "fig, axes = plt.subplots(nrows=2, ncols=5, figsize=(10,10))\n",
    "\n",
    "for feature, i in zip(features[:10], range(10)):\n",
    "    if i <= 4:\n",
    "        X.boxplot(column=feature, ax=axes[0,i])\n",
    "    else:\n",
    "        X.boxplot(column=feature, ax=axes[1,(i-5)])\n",
    "        \n",
    "plt.tight_layout()\n",
    "\n",
    "plt.show()"
   ]
  },
  {
   "cell_type": "markdown",
   "id": "337179a1",
   "metadata": {},
   "source": [
    "Almost all features tend to be scattered with a number of potential outliers. Since the dataset contains a limited number of observations (517) and we do not have the deep domain knowledge, we will keep all observations.\n",
    "\n",
    "Next, we will standardize the features."
   ]
  },
  {
   "cell_type": "code",
   "execution_count": 71,
   "id": "cafa4bb9",
   "metadata": {},
   "outputs": [],
   "source": [
    "from sklearn.preprocessing import StandardScaler"
   ]
  },
  {
   "cell_type": "code",
   "execution_count": 72,
   "id": "255bb514",
   "metadata": {},
   "outputs": [],
   "source": [
    "scaler = StandardScaler(with_mean=True,\n",
    "                        with_std=True,\n",
    "                        copy=True)\n",
    "scaler.fit(X)\n",
    "X_std = scaler.transform(X)\n",
    "\n",
    "X_std = pd.DataFrame(X_std, columns=features)"
   ]
  },
  {
   "cell_type": "markdown",
   "id": "4b66dcd6",
   "metadata": {},
   "source": [
    "### Exploring the Correlations Between Features And the Response\n",
    "\n",
    "Next we will plot the correlations heatmap."
   ]
  },
  {
   "cell_type": "code",
   "execution_count": 73,
   "id": "b1b0ce5e",
   "metadata": {
    "scrolled": false
   },
   "outputs": [
    {
     "data": {
      "image/png": "[encoded data removed]",
      "text/plain": [
       "<Figure size 700x500 with 2 Axes>"
      ]
     },
     "metadata": {},
     "output_type": "display_data"
    }
   ],
   "source": [
    "import seaborn as sns\n",
    "\n",
    "# Plotting the pairwise correlations heatmap\n",
    "plt.figure(figsize=(7,5))\n",
    "\n",
    "sns.heatmap(abs(round(pd.concat([X_std, y_log], axis=1).corr(), 2)), cmap='Blues')\n",
    "\n",
    "plt.title('Pairwise Correlation')\n",
    "\n",
    "plt.show()"
   ]
  },
  {
   "cell_type": "markdown",
   "id": "537e17e4",
   "metadata": {},
   "source": [
    "There is a weak correlation between the predictors and the response, and possible collinearity between some predictors, which can pose problems for model building.\n",
    "\n",
    "## Fitting a Linear Model\n",
    "\n",
    "First we will fit ordinary least squares model and examine its metrics."
   ]
  },
  {
   "cell_type": "code",
   "execution_count": 74,
   "id": "a6fe898e",
   "metadata": {},
   "outputs": [],
   "source": [
    "import statsmodels.api as sm\n",
    "\n",
    "from sklearn.model_selection import train_test_split\n",
    "\n",
    "from sklearn.metrics import mean_squared_error\n",
    "from sklearn.metrics import mean_absolute_error"
   ]
  },
  {
   "cell_type": "code",
   "execution_count": 75,
   "id": "46c17c88",
   "metadata": {},
   "outputs": [
    {
     "data": {
      "text/html": [
       "<table class=\"simpletable\">\n",
       "<caption>OLS Regression Results</caption>\n",
       "<tr>\n",
       "  <th>Dep. Variable:</th>          <td>area</td>       <th>  R-squared:         </th> <td>   0.088</td>\n",
       "</tr>\n",
       "<tr>\n",
       "  <th>Model:</th>                   <td>OLS</td>       <th>  Adj. R-squared:    </th> <td>   0.022</td>\n",
       "</tr>\n",
       "<tr>\n",
       "  <th>Method:</th>             <td>Least Squares</td>  <th>  F-statistic:       </th> <td>   1.333</td>\n",
       "</tr>\n",
       "<tr>\n",
       "  <th>Date:</th>             <td>Sun, 05 Nov 2023</td> <th>  Prob (F-statistic):</th>  <td> 0.131</td> \n",
       "</tr>\n",
       "<tr>\n",
       "  <th>Time:</th>                 <td>14:48:33</td>     <th>  Log-Likelihood:    </th> <td> -659.57</td>\n",
       "</tr>\n",
       "<tr>\n",
       "  <th>No. Observations:</th>      <td>   387</td>      <th>  AIC:               </th> <td>   1373.</td>\n",
       "</tr>\n",
       "<tr>\n",
       "  <th>Df Residuals:</th>          <td>   360</td>      <th>  BIC:               </th> <td>   1480.</td>\n",
       "</tr>\n",
       "<tr>\n",
       "  <th>Df Model:</th>              <td>    26</td>      <th>                     </th>     <td> </td>   \n",
       "</tr>\n",
       "<tr>\n",
       "  <th>Covariance Type:</th>      <td>nonrobust</td>    <th>                     </th>     <td> </td>   \n",
       "</tr>\n",
       "</table>\n",
       "<table class=\"simpletable\">\n",
       "<tr>\n",
       "      <td></td>         <th>coef</th>     <th>std err</th>      <th>t</th>      <th>P>|t|</th>  <th>[0.025</th>    <th>0.975]</th>  \n",
       "</tr>\n",
       "<tr>\n",
       "  <th>X</th>         <td>    0.1190</td> <td>    0.084</td> <td>    1.420</td> <td> 0.156</td> <td>   -0.046</td> <td>    0.284</td>\n",
       "</tr>\n",
       "<tr>\n",
       "  <th>Y</th>         <td>   -0.0414</td> <td>    0.087</td> <td>   -0.478</td> <td> 0.633</td> <td>   -0.212</td> <td>    0.129</td>\n",
       "</tr>\n",
       "<tr>\n",
       "  <th>FFMC</th>      <td>   -0.0166</td> <td>    0.118</td> <td>   -0.140</td> <td> 0.888</td> <td>   -0.249</td> <td>    0.216</td>\n",
       "</tr>\n",
       "<tr>\n",
       "  <th>DMC</th>       <td>    0.2458</td> <td>    0.139</td> <td>    1.766</td> <td> 0.078</td> <td>   -0.028</td> <td>    0.520</td>\n",
       "</tr>\n",
       "<tr>\n",
       "  <th>DC</th>        <td>   -0.4444</td> <td>    0.356</td> <td>   -1.248</td> <td> 0.213</td> <td>   -1.145</td> <td>    0.256</td>\n",
       "</tr>\n",
       "<tr>\n",
       "  <th>ISI</th>       <td>   -0.0071</td> <td>    0.115</td> <td>   -0.062</td> <td> 0.951</td> <td>   -0.233</td> <td>    0.219</td>\n",
       "</tr>\n",
       "<tr>\n",
       "  <th>temp</th>      <td>    0.1737</td> <td>    0.154</td> <td>    1.130</td> <td> 0.259</td> <td>   -0.128</td> <td>    0.476</td>\n",
       "</tr>\n",
       "<tr>\n",
       "  <th>RH</th>        <td>   -0.0266</td> <td>    0.120</td> <td>   -0.222</td> <td> 0.825</td> <td>   -0.263</td> <td>    0.209</td>\n",
       "</tr>\n",
       "<tr>\n",
       "  <th>wind</th>      <td>    0.0329</td> <td>    0.082</td> <td>    0.402</td> <td> 0.688</td> <td>   -0.128</td> <td>    0.194</td>\n",
       "</tr>\n",
       "<tr>\n",
       "  <th>rain</th>      <td>    0.0223</td> <td>    0.065</td> <td>    0.340</td> <td> 0.734</td> <td>   -0.106</td> <td>    0.151</td>\n",
       "</tr>\n",
       "<tr>\n",
       "  <th>month_aug</th> <td>    0.2548</td> <td>    0.434</td> <td>    0.587</td> <td> 0.557</td> <td>   -0.599</td> <td>    1.108</td>\n",
       "</tr>\n",
       "<tr>\n",
       "  <th>month_dec</th> <td>    0.3315</td> <td>    0.123</td> <td>    2.698</td> <td> 0.007</td> <td>    0.090</td> <td>    0.573</td>\n",
       "</tr>\n",
       "<tr>\n",
       "  <th>month_feb</th> <td>    0.1433</td> <td>    0.121</td> <td>    1.181</td> <td> 0.238</td> <td>   -0.095</td> <td>    0.382</td>\n",
       "</tr>\n",
       "<tr>\n",
       "  <th>month_jan</th> <td>   -0.0379</td> <td>    0.082</td> <td>   -0.463</td> <td> 0.644</td> <td>   -0.199</td> <td>    0.123</td>\n",
       "</tr>\n",
       "<tr>\n",
       "  <th>month_jul</th> <td>    0.0618</td> <td>    0.194</td> <td>    0.318</td> <td> 0.751</td> <td>   -0.321</td> <td>    0.444</td>\n",
       "</tr>\n",
       "<tr>\n",
       "  <th>month_jun</th> <td>    0.0306</td> <td>    0.131</td> <td>    0.234</td> <td> 0.815</td> <td>   -0.227</td> <td>    0.288</td>\n",
       "</tr>\n",
       "<tr>\n",
       "  <th>month_mar</th> <td>   -0.0005</td> <td>    0.167</td> <td>   -0.003</td> <td> 0.997</td> <td>   -0.330</td> <td>    0.329</td>\n",
       "</tr>\n",
       "<tr>\n",
       "  <th>month_may</th> <td>    0.0582</td> <td>    0.069</td> <td>    0.838</td> <td> 0.402</td> <td>   -0.078</td> <td>    0.195</td>\n",
       "</tr>\n",
       "<tr>\n",
       "  <th>month_nov</th> <td>   -0.0519</td> <td>    0.003</td> <td>  -16.748</td> <td> 0.000</td> <td>   -0.058</td> <td>   -0.046</td>\n",
       "</tr>\n",
       "<tr>\n",
       "  <th>month_oct</th> <td>    0.1070</td> <td>    0.185</td> <td>    0.577</td> <td> 0.564</td> <td>   -0.258</td> <td>    0.472</td>\n",
       "</tr>\n",
       "<tr>\n",
       "  <th>month_sep</th> <td>    0.6021</td> <td>    0.484</td> <td>    1.245</td> <td> 0.214</td> <td>   -0.349</td> <td>    1.553</td>\n",
       "</tr>\n",
       "<tr>\n",
       "  <th>day_mon</th>   <td>    0.0203</td> <td>    0.090</td> <td>    0.226</td> <td> 0.821</td> <td>   -0.156</td> <td>    0.197</td>\n",
       "</tr>\n",
       "<tr>\n",
       "  <th>day_sat</th>   <td>    0.1808</td> <td>    0.094</td> <td>    1.914</td> <td> 0.056</td> <td>   -0.005</td> <td>    0.367</td>\n",
       "</tr>\n",
       "<tr>\n",
       "  <th>day_sun</th>   <td>    0.1271</td> <td>    0.099</td> <td>    1.291</td> <td> 0.198</td> <td>   -0.067</td> <td>    0.321</td>\n",
       "</tr>\n",
       "<tr>\n",
       "  <th>day_thu</th>   <td>   -0.0356</td> <td>    0.090</td> <td>   -0.394</td> <td> 0.694</td> <td>   -0.213</td> <td>    0.142</td>\n",
       "</tr>\n",
       "<tr>\n",
       "  <th>day_tue</th>   <td>    0.0578</td> <td>    0.088</td> <td>    0.660</td> <td> 0.509</td> <td>   -0.114</td> <td>    0.230</td>\n",
       "</tr>\n",
       "<tr>\n",
       "  <th>day_wed</th>   <td>    0.0522</td> <td>    0.089</td> <td>    0.588</td> <td> 0.557</td> <td>   -0.122</td> <td>    0.227</td>\n",
       "</tr>\n",
       "<tr>\n",
       "  <th>Intercept</th> <td>    1.1790</td> <td>    0.070</td> <td>   16.748</td> <td> 0.000</td> <td>    1.041</td> <td>    1.317</td>\n",
       "</tr>\n",
       "</table>\n",
       "<table class=\"simpletable\">\n",
       "<tr>\n",
       "  <th>Omnibus:</th>       <td>45.509</td> <th>  Durbin-Watson:     </th> <td>   2.096</td>\n",
       "</tr>\n",
       "<tr>\n",
       "  <th>Prob(Omnibus):</th> <td> 0.000</td> <th>  Jarque-Bera (JB):  </th> <td>  58.491</td>\n",
       "</tr>\n",
       "<tr>\n",
       "  <th>Skew:</th>          <td> 0.937</td> <th>  Prob(JB):          </th> <td>1.99e-13</td>\n",
       "</tr>\n",
       "<tr>\n",
       "  <th>Kurtosis:</th>      <td> 3.341</td> <th>  Cond. No.          </th> <td>1.21e+16</td>\n",
       "</tr>\n",
       "</table><br/><br/>Notes:<br/>[1] Standard Errors assume that the covariance matrix of the errors is correctly specified.<br/>[2] The smallest eigenvalue is 9.69e-30. This might indicate that there are<br/>strong multicollinearity problems or that the design matrix is singular."
      ],
      "text/plain": [
       "<class 'statsmodels.iolib.summary.Summary'>\n",
       "\"\"\"\n",
       "                            OLS Regression Results                            \n",
       "==============================================================================\n",
       "Dep. Variable:                   area   R-squared:                       0.088\n",
       "Model:                            OLS   Adj. R-squared:                  0.022\n",
       "Method:                 Least Squares   F-statistic:                     1.333\n",
       "Date:                Sun, 05 Nov 2023   Prob (F-statistic):              0.131\n",
       "Time:                        14:48:33   Log-Likelihood:                -659.57\n",
       "No. Observations:                 387   AIC:                             1373.\n",
       "Df Residuals:                     360   BIC:                             1480.\n",
       "Df Model:                          26                                         \n",
       "Covariance Type:            nonrobust                                         \n",
       "==============================================================================\n",
       "                 coef    std err          t      P>|t|      [0.025      0.975]\n",
       "------------------------------------------------------------------------------\n",
       "X              0.1190      0.084      1.420      0.156      -0.046       0.284\n",
       "Y             -0.0414      0.087     -0.478      0.633      -0.212       0.129\n",
       "FFMC          -0.0166      0.118     -0.140      0.888      -0.249       0.216\n",
       "DMC            0.2458      0.139      1.766      0.078      -0.028       0.520\n",
       "DC            -0.4444      0.356     -1.248      0.213      -1.145       0.256\n",
       "ISI           -0.0071      0.115     -0.062      0.951      -0.233       0.219\n",
       "temp           0.1737      0.154      1.130      0.259      -0.128       0.476\n",
       "RH            -0.0266      0.120     -0.222      0.825      -0.263       0.209\n",
       "wind           0.0329      0.082      0.402      0.688      -0.128       0.194\n",
       "rain           0.0223      0.065      0.340      0.734      -0.106       0.151\n",
       "month_aug      0.2548      0.434      0.587      0.557      -0.599       1.108\n",
       "month_dec      0.3315      0.123      2.698      0.007       0.090       0.573\n",
       "month_feb      0.1433      0.121      1.181      0.238      -0.095       0.382\n",
       "month_jan     -0.0379      0.082     -0.463      0.644      -0.199       0.123\n",
       "month_jul      0.0618      0.194      0.318      0.751      -0.321       0.444\n",
       "month_jun      0.0306      0.131      0.234      0.815      -0.227       0.288\n",
       "month_mar     -0.0005      0.167     -0.003      0.997      -0.330       0.329\n",
       "month_may      0.0582      0.069      0.838      0.402      -0.078       0.195\n",
       "month_nov     -0.0519      0.003    -16.748      0.000      -0.058      -0.046\n",
       "month_oct      0.1070      0.185      0.577      0.564      -0.258       0.472\n",
       "month_sep      0.6021      0.484      1.245      0.214      -0.349       1.553\n",
       "day_mon        0.0203      0.090      0.226      0.821      -0.156       0.197\n",
       "day_sat        0.1808      0.094      1.914      0.056      -0.005       0.367\n",
       "day_sun        0.1271      0.099      1.291      0.198      -0.067       0.321\n",
       "day_thu       -0.0356      0.090     -0.394      0.694      -0.213       0.142\n",
       "day_tue        0.0578      0.088      0.660      0.509      -0.114       0.230\n",
       "day_wed        0.0522      0.089      0.588      0.557      -0.122       0.227\n",
       "Intercept      1.1790      0.070     16.748      0.000       1.041       1.317\n",
       "==============================================================================\n",
       "Omnibus:                       45.509   Durbin-Watson:                   2.096\n",
       "Prob(Omnibus):                  0.000   Jarque-Bera (JB):               58.491\n",
       "Skew:                           0.937   Prob(JB):                     1.99e-13\n",
       "Kurtosis:                       3.341   Cond. No.                     1.21e+16\n",
       "==============================================================================\n",
       "\n",
       "Notes:\n",
       "[1] Standard Errors assume that the covariance matrix of the errors is correctly specified.\n",
       "[2] The smallest eigenvalue is 9.69e-30. This might indicate that there are\n",
       "strong multicollinearity problems or that the design matrix is singular.\n",
       "\"\"\""
      ]
     },
     "execution_count": 75,
     "metadata": {},
     "output_type": "execute_result"
    }
   ],
   "source": [
    "X_std1 = X_std.copy()\n",
    "\n",
    "# Adding intercept column\n",
    "X_std1['Intercept'] = 1\n",
    "\n",
    "# Splitting dataset into training and test sets\n",
    "X_train1, X_test1, y_train1, y_test1 = train_test_split(X_std1, y_log, test_size=0.25, random_state=1000)\n",
    "\n",
    "# Fitting the model\n",
    "ols = sm.OLS(y_train1, X_train1)\n",
    "\n",
    "ols_results = ols.fit()\n",
    "\n",
    "ols_results.summary()"
   ]
  },
  {
   "cell_type": "markdown",
   "id": "ad33a647",
   "metadata": {},
   "source": [
    "Low R-squared, high p-values of F-statistic and almost all coefficients indicate that this linear model does not capture the relationship between predictors and response well.\n",
    "\n",
    "Next we will calculate test error rates and compare them to baseline naive mean predictor."
   ]
  },
  {
   "cell_type": "code",
   "execution_count": 76,
   "id": "32e3821a",
   "metadata": {},
   "outputs": [
    {
     "data": {
      "text/plain": [
       "2.0769147109799238"
      ]
     },
     "execution_count": 76,
     "metadata": {},
     "output_type": "execute_result"
    }
   ],
   "source": [
    "ols_predictions = ols_results.get_prediction(X_test1)\n",
    "\n",
    "ols_y_predicted = ols_predictions.predicted_mean\n",
    "\n",
    "ols_mse = mean_squared_error(ols_y_predicted, y_test1)\n",
    "ols_mse"
   ]
  },
  {
   "cell_type": "code",
   "execution_count": 77,
   "id": "f36c52eb",
   "metadata": {},
   "outputs": [
    {
     "data": {
      "text/plain": [
       "1.180427849186803"
      ]
     },
     "execution_count": 77,
     "metadata": {},
     "output_type": "execute_result"
    }
   ],
   "source": [
    "ols_mae = mean_absolute_error(ols_y_predicted, y_test1)\n",
    "ols_mae"
   ]
  },
  {
   "cell_type": "markdown",
   "id": "53a45db8",
   "metadata": {},
   "source": [
    "To benchmark our models, we will compute naive mean predictor on train set and calculate its error rates on test set."
   ]
  },
  {
   "cell_type": "code",
   "execution_count": 78,
   "id": "de9f5a8c",
   "metadata": {},
   "outputs": [
    {
     "data": {
      "text/plain": [
       "2.001771725369024"
      ]
     },
     "execution_count": 78,
     "metadata": {},
     "output_type": "execute_result"
    }
   ],
   "source": [
    "mean_predictor = y_train1.mean()\n",
    "\n",
    "mean_squared_error([mean_predictor] * y_test1.shape[0], y_test1)"
   ]
  },
  {
   "cell_type": "code",
   "execution_count": 79,
   "id": "cf5424de",
   "metadata": {},
   "outputs": [
    {
     "data": {
      "text/plain": [
       "1.1847970336733267"
      ]
     },
     "execution_count": 79,
     "metadata": {},
     "output_type": "execute_result"
    }
   ],
   "source": [
    "mean_absolute_error([mean_predictor] * y_test1.shape[0], y_test1)"
   ]
  },
  {
   "cell_type": "markdown",
   "id": "9031de0a",
   "metadata": {},
   "source": [
    "Naive mean predictor shows better results than simple linear model.\n",
    "\n",
    "Now we will try to improve our linear model."
   ]
  },
  {
   "cell_type": "markdown",
   "id": "d4526450",
   "metadata": {},
   "source": [
    "## Model Selection\n",
    "\n",
    "We will start with forward and backward stepwise selection with 5-fold cross-validation, and then use validation set to assess MSE and MAE.\n",
    "\n",
    "### Stepwise Selection"
   ]
  },
  {
   "cell_type": "code",
   "execution_count": 80,
   "id": "71feac4c",
   "metadata": {},
   "outputs": [],
   "source": [
    "import sklearn.linear_model as skl\n",
    "import sklearn.model_selection as skm\n",
    "\n",
    "from sklearn.pipeline import Pipeline\n",
    "from sklearn.feature_selection import SequentialFeatureSelector"
   ]
  },
  {
   "cell_type": "code",
   "execution_count": 81,
   "id": "223e2920",
   "metadata": {},
   "outputs": [
    {
     "data": {
      "text/plain": [
       "array(['X', 'temp', 'month_dec', 'month_jan', 'month_sep'], dtype=object)"
      ]
     },
     "execution_count": 81,
     "metadata": {},
     "output_type": "execute_result"
    }
   ],
   "source": [
    "lm = skl.LinearRegression()\n",
    "\n",
    "# 5-fold CV for selection of optimal hyperparameters\n",
    "kfold = skm.KFold(n_splits=5,\n",
    "                     shuffle=True, random_state=1500)\n",
    "\n",
    "forward_lm = SequentialFeatureSelector(estimator=lm,\n",
    "                                       n_features_to_select='auto', tol=0.0001,\n",
    "                                       direction='forward', scoring='neg_mean_squared_error',\n",
    "                                       cv=kfold)\n",
    "\n",
    "forward_lm.fit(X_std, y_log)\n",
    "\n",
    "forward_features = forward_lm.get_feature_names_out()\n",
    "\n",
    "forward_features"
   ]
  },
  {
   "cell_type": "code",
   "execution_count": 82,
   "id": "0724bf0c",
   "metadata": {},
   "outputs": [
    {
     "data": {
      "text/plain": [
       "{'fit_time': array([0.00142002]),\n",
       " 'score_time': array([0.00089407]),\n",
       " 'test_neg_mean_squared_error': array([-1.94310593]),\n",
       " 'test_neg_mean_absolute_error': array([-1.15210753])}"
      ]
     },
     "execution_count": 82,
     "metadata": {},
     "output_type": "execute_result"
    }
   ],
   "source": [
    "# Validation set for calculating test error rates\n",
    "outer_valid = skm.ShuffleSplit(n_splits=1, test_size=0.25, random_state=1000)\n",
    "\n",
    "# Scoring test metrics\n",
    "scoring_test = ['neg_mean_squared_error', 'neg_mean_absolute_error']\n",
    "\n",
    "forward_results = skm.cross_validate(lm, X_std[forward_features], y_log, cv=outer_valid,\n",
    "                            scoring=scoring_test)\n",
    "\n",
    "forward_results"
   ]
  },
  {
   "cell_type": "code",
   "execution_count": 83,
   "id": "e3679f4f",
   "metadata": {},
   "outputs": [
    {
     "data": {
      "text/plain": [
       "array(['X', 'DMC', 'DC', 'temp', 'month_dec', 'month_jan', 'month_jun',\n",
       "       'month_mar', 'month_sep'], dtype=object)"
      ]
     },
     "execution_count": 83,
     "metadata": {},
     "output_type": "execute_result"
    }
   ],
   "source": [
    "backward_lm = SequentialFeatureSelector(estimator=lm,\n",
    "                                       n_features_to_select='auto', tol=0.0001,\n",
    "                                       direction='backward', scoring='neg_mean_squared_error',\n",
    "                                       cv=kfold)\n",
    "\n",
    "backward_lm.fit(X_std, y_log)\n",
    "\n",
    "backward_features = backward_lm.get_feature_names_out()\n",
    "\n",
    "backward_features"
   ]
  },
  {
   "cell_type": "code",
   "execution_count": 84,
   "id": "8b25721b",
   "metadata": {},
   "outputs": [
    {
     "data": {
      "text/plain": [
       "{'fit_time': array([0.00142288]),\n",
       " 'score_time': array([0.00086117]),\n",
       " 'test_neg_mean_squared_error': array([-1.94039585]),\n",
       " 'test_neg_mean_absolute_error': array([-1.14938537])}"
      ]
     },
     "execution_count": 84,
     "metadata": {},
     "output_type": "execute_result"
    }
   ],
   "source": [
    "backward_results = skm.cross_validate(lm, X_std[backward_features], y_log, cv=outer_valid,\n",
    "                            scoring=scoring_test)\n",
    "\n",
    "backward_results"
   ]
  },
  {
   "cell_type": "markdown",
   "id": "26968a94",
   "metadata": {},
   "source": [
    "In both the forward and backward selections, the X-coordinate, the temperature, and a few months are selected, with the backward selection also including some drought and moisture indicators. Both models give the same MSE of 1.94 and MAE of 1.15.\n",
    "\n",
    "The stepwise selection models show little improvement over the simple naive predictor.\n",
    "\n",
    "### Best Subset Selection"
   ]
  },
  {
   "cell_type": "code",
   "execution_count": 85,
   "id": "5f8f8461",
   "metadata": {},
   "outputs": [],
   "source": [
    "from l0bnb import fit_path"
   ]
  },
  {
   "cell_type": "code",
   "execution_count": 86,
   "id": "33378f65",
   "metadata": {},
   "outputs": [
    {
     "name": "stdout",
     "output_type": "stream",
     "text": [
      "Preprocessing Data.\n",
      "BnB Started.\n",
      "Iteration: 1. Number of non-zeros:  1\n",
      "Iteration: 2. Number of non-zeros:  1\n",
      "Iteration: 3. Number of non-zeros:  1\n",
      "Iteration: 4. Number of non-zeros:  1\n",
      "Iteration: 5. Number of non-zeros:  1\n",
      "Iteration: 6. Number of non-zeros:  1\n",
      "Iteration: 7. Number of non-zeros:  1\n",
      "Iteration: 8. Number of non-zeros:  1\n",
      "Iteration: 9. Number of non-zeros:  1\n",
      "Iteration: 10. Number of non-zeros:  1\n",
      "Iteration: 11. Number of non-zeros:  1\n",
      "Iteration: 12. Number of non-zeros:  1\n",
      "Iteration: 13. Number of non-zeros:  1\n",
      "Iteration: 14. Number of non-zeros:  1\n",
      "Iteration: 15. Number of non-zeros:  1\n",
      "Iteration: 16. Number of non-zeros:  7\n",
      "Iteration: 17. Number of non-zeros:  7\n",
      "Iteration: 18. Number of non-zeros:  7\n",
      "Iteration: 19. Number of non-zeros:  7\n",
      "Iteration: 20. Number of non-zeros:  7\n",
      "Iteration: 21. Number of non-zeros:  7\n",
      "Iteration: 22. Number of non-zeros:  7\n",
      "Iteration: 23. Number of non-zeros:  7\n",
      "Iteration: 24. Number of non-zeros:  7\n",
      "Iteration: 25. Number of non-zeros:  7\n",
      "Iteration: 26. Number of non-zeros:  7\n",
      "Iteration: 27. Number of non-zeros:  7\n",
      "Iteration: 28. Number of non-zeros:  7\n",
      "Iteration: 29. Number of non-zeros:  7\n",
      "Iteration: 30. Number of non-zeros:  7\n",
      "Iteration: 31. Number of non-zeros:  7\n",
      "Iteration: 32. Number of non-zeros:  7\n",
      "Iteration: 33. Number of non-zeros:  7\n",
      "Iteration: 34. Number of non-zeros:  7\n",
      "Iteration: 35. Number of non-zeros:  7\n",
      "Iteration: 36. Number of non-zeros:  7\n",
      "Iteration: 37. Number of non-zeros:  7\n",
      "Iteration: 38. Number of non-zeros:  18\n",
      "Iteration: 39. Number of non-zeros:  18\n",
      "Iteration: 40. Number of non-zeros:  18\n",
      "Iteration: 41. Number of non-zeros:  18\n",
      "Iteration: 42. Number of non-zeros:  18\n",
      "Iteration: 43. Number of non-zeros:  18\n",
      "Iteration: 44. Number of non-zeros:  18\n",
      "Iteration: 45. Number of non-zeros:  18\n",
      "Iteration: 46. Number of non-zeros:  18\n",
      "Iteration: 47. Number of non-zeros:  18\n",
      "Iteration: 48. Number of non-zeros:  18\n",
      "Iteration: 49. Number of non-zeros:  18\n",
      "Iteration: 50. Number of non-zeros:  18\n",
      "Iteration: 51. Number of non-zeros:  18\n",
      "Iteration: 52. Number of non-zeros:  18\n",
      "Iteration: 53. Number of non-zeros:  18\n",
      "Iteration: 54. Number of non-zeros:  18\n",
      "Iteration: 55. Number of non-zeros:  18\n",
      "Iteration: 56. Number of non-zeros:  18\n",
      "Iteration: 57. Number of non-zeros:  25\n"
     ]
    }
   ],
   "source": [
    "X_std2 = np.asarray(X_std)\n",
    "y_log2 = np.asarray(y_log)\n",
    "\n",
    "X_train, X_test, y_train, y_test = train_test_split(X_std2, y_log2, test_size=0.25, random_state=1000)\n",
    "\n",
    "path = fit_path(X_train, y_train, max_nonzeros=25)"
   ]
  },
  {
   "cell_type": "code",
   "execution_count": 87,
   "id": "5a88eebf",
   "metadata": {},
   "outputs": [
    {
     "data": {
      "text/html": [
       "<div>\n",
       "<style scoped>\n",
       "    .dataframe tbody tr th:only-of-type {\n",
       "        vertical-align: middle;\n",
       "    }\n",
       "\n",
       "    .dataframe tbody tr th {\n",
       "        vertical-align: top;\n",
       "    }\n",
       "\n",
       "    .dataframe thead th {\n",
       "        text-align: right;\n",
       "    }\n",
       "</style>\n",
       "<table border=\"1\" class=\"dataframe\">\n",
       "  <thead>\n",
       "    <tr style=\"text-align: right;\">\n",
       "      <th></th>\n",
       "      <th>mse</th>\n",
       "      <th>mae</th>\n",
       "      <th>non_zero</th>\n",
       "      <th>lambda0</th>\n",
       "    </tr>\n",
       "  </thead>\n",
       "  <tbody>\n",
       "    <tr>\n",
       "      <th>0</th>\n",
       "      <td>1.958218</td>\n",
       "      <td>1.158727</td>\n",
       "      <td>1</td>\n",
       "      <td>0.008857</td>\n",
       "    </tr>\n",
       "    <tr>\n",
       "      <th>1</th>\n",
       "      <td>1.958218</td>\n",
       "      <td>1.158727</td>\n",
       "      <td>1</td>\n",
       "      <td>0.007790</td>\n",
       "    </tr>\n",
       "    <tr>\n",
       "      <th>2</th>\n",
       "      <td>1.958218</td>\n",
       "      <td>1.158727</td>\n",
       "      <td>1</td>\n",
       "      <td>0.007400</td>\n",
       "    </tr>\n",
       "    <tr>\n",
       "      <th>3</th>\n",
       "      <td>1.958218</td>\n",
       "      <td>1.158727</td>\n",
       "      <td>1</td>\n",
       "      <td>0.007030</td>\n",
       "    </tr>\n",
       "    <tr>\n",
       "      <th>4</th>\n",
       "      <td>1.958218</td>\n",
       "      <td>1.158727</td>\n",
       "      <td>1</td>\n",
       "      <td>0.006679</td>\n",
       "    </tr>\n",
       "    <tr>\n",
       "      <th>5</th>\n",
       "      <td>1.958218</td>\n",
       "      <td>1.158727</td>\n",
       "      <td>1</td>\n",
       "      <td>0.006345</td>\n",
       "    </tr>\n",
       "    <tr>\n",
       "      <th>6</th>\n",
       "      <td>1.958218</td>\n",
       "      <td>1.158727</td>\n",
       "      <td>1</td>\n",
       "      <td>0.006027</td>\n",
       "    </tr>\n",
       "    <tr>\n",
       "      <th>7</th>\n",
       "      <td>1.958218</td>\n",
       "      <td>1.158727</td>\n",
       "      <td>1</td>\n",
       "      <td>0.005726</td>\n",
       "    </tr>\n",
       "    <tr>\n",
       "      <th>8</th>\n",
       "      <td>1.958218</td>\n",
       "      <td>1.158727</td>\n",
       "      <td>1</td>\n",
       "      <td>0.005440</td>\n",
       "    </tr>\n",
       "    <tr>\n",
       "      <th>9</th>\n",
       "      <td>1.958218</td>\n",
       "      <td>1.158727</td>\n",
       "      <td>1</td>\n",
       "      <td>0.005168</td>\n",
       "    </tr>\n",
       "    <tr>\n",
       "      <th>10</th>\n",
       "      <td>1.958218</td>\n",
       "      <td>1.158727</td>\n",
       "      <td>1</td>\n",
       "      <td>0.004909</td>\n",
       "    </tr>\n",
       "    <tr>\n",
       "      <th>11</th>\n",
       "      <td>1.958218</td>\n",
       "      <td>1.158727</td>\n",
       "      <td>1</td>\n",
       "      <td>0.004664</td>\n",
       "    </tr>\n",
       "    <tr>\n",
       "      <th>12</th>\n",
       "      <td>1.958218</td>\n",
       "      <td>1.158727</td>\n",
       "      <td>1</td>\n",
       "      <td>0.004431</td>\n",
       "    </tr>\n",
       "    <tr>\n",
       "      <th>13</th>\n",
       "      <td>1.958218</td>\n",
       "      <td>1.158727</td>\n",
       "      <td>1</td>\n",
       "      <td>0.004209</td>\n",
       "    </tr>\n",
       "    <tr>\n",
       "      <th>14</th>\n",
       "      <td>1.958218</td>\n",
       "      <td>1.158727</td>\n",
       "      <td>1</td>\n",
       "      <td>0.003999</td>\n",
       "    </tr>\n",
       "    <tr>\n",
       "      <th>15</th>\n",
       "      <td>2.049123</td>\n",
       "      <td>1.180574</td>\n",
       "      <td>7</td>\n",
       "      <td>0.003799</td>\n",
       "    </tr>\n",
       "    <tr>\n",
       "      <th>16</th>\n",
       "      <td>2.051183</td>\n",
       "      <td>1.179429</td>\n",
       "      <td>7</td>\n",
       "      <td>0.002302</td>\n",
       "    </tr>\n",
       "    <tr>\n",
       "      <th>17</th>\n",
       "      <td>2.051183</td>\n",
       "      <td>1.179429</td>\n",
       "      <td>7</td>\n",
       "      <td>0.002187</td>\n",
       "    </tr>\n",
       "    <tr>\n",
       "      <th>18</th>\n",
       "      <td>2.051183</td>\n",
       "      <td>1.179429</td>\n",
       "      <td>7</td>\n",
       "      <td>0.002077</td>\n",
       "    </tr>\n",
       "    <tr>\n",
       "      <th>19</th>\n",
       "      <td>2.051183</td>\n",
       "      <td>1.179429</td>\n",
       "      <td>7</td>\n",
       "      <td>0.001973</td>\n",
       "    </tr>\n",
       "    <tr>\n",
       "      <th>20</th>\n",
       "      <td>2.051183</td>\n",
       "      <td>1.179429</td>\n",
       "      <td>7</td>\n",
       "      <td>0.001875</td>\n",
       "    </tr>\n",
       "    <tr>\n",
       "      <th>21</th>\n",
       "      <td>2.051183</td>\n",
       "      <td>1.179429</td>\n",
       "      <td>7</td>\n",
       "      <td>0.001781</td>\n",
       "    </tr>\n",
       "    <tr>\n",
       "      <th>22</th>\n",
       "      <td>2.051183</td>\n",
       "      <td>1.179429</td>\n",
       "      <td>7</td>\n",
       "      <td>0.001692</td>\n",
       "    </tr>\n",
       "    <tr>\n",
       "      <th>23</th>\n",
       "      <td>2.051183</td>\n",
       "      <td>1.179429</td>\n",
       "      <td>7</td>\n",
       "      <td>0.001607</td>\n",
       "    </tr>\n",
       "    <tr>\n",
       "      <th>24</th>\n",
       "      <td>2.051183</td>\n",
       "      <td>1.179429</td>\n",
       "      <td>7</td>\n",
       "      <td>0.001527</td>\n",
       "    </tr>\n",
       "    <tr>\n",
       "      <th>25</th>\n",
       "      <td>2.051183</td>\n",
       "      <td>1.179429</td>\n",
       "      <td>7</td>\n",
       "      <td>0.001451</td>\n",
       "    </tr>\n",
       "    <tr>\n",
       "      <th>26</th>\n",
       "      <td>2.051183</td>\n",
       "      <td>1.179429</td>\n",
       "      <td>7</td>\n",
       "      <td>0.001378</td>\n",
       "    </tr>\n",
       "    <tr>\n",
       "      <th>27</th>\n",
       "      <td>2.051183</td>\n",
       "      <td>1.179429</td>\n",
       "      <td>7</td>\n",
       "      <td>0.001309</td>\n",
       "    </tr>\n",
       "    <tr>\n",
       "      <th>28</th>\n",
       "      <td>2.051183</td>\n",
       "      <td>1.179429</td>\n",
       "      <td>7</td>\n",
       "      <td>0.001244</td>\n",
       "    </tr>\n",
       "    <tr>\n",
       "      <th>29</th>\n",
       "      <td>2.051183</td>\n",
       "      <td>1.179429</td>\n",
       "      <td>7</td>\n",
       "      <td>0.001182</td>\n",
       "    </tr>\n",
       "    <tr>\n",
       "      <th>30</th>\n",
       "      <td>2.051183</td>\n",
       "      <td>1.179429</td>\n",
       "      <td>7</td>\n",
       "      <td>0.001122</td>\n",
       "    </tr>\n",
       "    <tr>\n",
       "      <th>31</th>\n",
       "      <td>2.051183</td>\n",
       "      <td>1.179429</td>\n",
       "      <td>7</td>\n",
       "      <td>0.001066</td>\n",
       "    </tr>\n",
       "    <tr>\n",
       "      <th>32</th>\n",
       "      <td>2.051183</td>\n",
       "      <td>1.179429</td>\n",
       "      <td>7</td>\n",
       "      <td>0.001013</td>\n",
       "    </tr>\n",
       "    <tr>\n",
       "      <th>33</th>\n",
       "      <td>2.051183</td>\n",
       "      <td>1.179429</td>\n",
       "      <td>7</td>\n",
       "      <td>0.000962</td>\n",
       "    </tr>\n",
       "    <tr>\n",
       "      <th>34</th>\n",
       "      <td>2.051183</td>\n",
       "      <td>1.179429</td>\n",
       "      <td>7</td>\n",
       "      <td>0.000914</td>\n",
       "    </tr>\n",
       "    <tr>\n",
       "      <th>35</th>\n",
       "      <td>2.051183</td>\n",
       "      <td>1.179429</td>\n",
       "      <td>7</td>\n",
       "      <td>0.000869</td>\n",
       "    </tr>\n",
       "    <tr>\n",
       "      <th>36</th>\n",
       "      <td>2.051183</td>\n",
       "      <td>1.179429</td>\n",
       "      <td>7</td>\n",
       "      <td>0.000825</td>\n",
       "    </tr>\n",
       "    <tr>\n",
       "      <th>37</th>\n",
       "      <td>2.069897</td>\n",
       "      <td>1.181227</td>\n",
       "      <td>18</td>\n",
       "      <td>0.000784</td>\n",
       "    </tr>\n",
       "    <tr>\n",
       "      <th>38</th>\n",
       "      <td>2.069897</td>\n",
       "      <td>1.181227</td>\n",
       "      <td>18</td>\n",
       "      <td>0.000158</td>\n",
       "    </tr>\n",
       "    <tr>\n",
       "      <th>39</th>\n",
       "      <td>2.069897</td>\n",
       "      <td>1.181227</td>\n",
       "      <td>18</td>\n",
       "      <td>0.000150</td>\n",
       "    </tr>\n",
       "    <tr>\n",
       "      <th>40</th>\n",
       "      <td>2.069897</td>\n",
       "      <td>1.181227</td>\n",
       "      <td>18</td>\n",
       "      <td>0.000143</td>\n",
       "    </tr>\n",
       "    <tr>\n",
       "      <th>41</th>\n",
       "      <td>2.069897</td>\n",
       "      <td>1.181227</td>\n",
       "      <td>18</td>\n",
       "      <td>0.000135</td>\n",
       "    </tr>\n",
       "    <tr>\n",
       "      <th>42</th>\n",
       "      <td>2.069897</td>\n",
       "      <td>1.181227</td>\n",
       "      <td>18</td>\n",
       "      <td>0.000129</td>\n",
       "    </tr>\n",
       "    <tr>\n",
       "      <th>43</th>\n",
       "      <td>2.069897</td>\n",
       "      <td>1.181227</td>\n",
       "      <td>18</td>\n",
       "      <td>0.000122</td>\n",
       "    </tr>\n",
       "    <tr>\n",
       "      <th>44</th>\n",
       "      <td>2.069897</td>\n",
       "      <td>1.181227</td>\n",
       "      <td>18</td>\n",
       "      <td>0.000116</td>\n",
       "    </tr>\n",
       "    <tr>\n",
       "      <th>45</th>\n",
       "      <td>2.069897</td>\n",
       "      <td>1.181227</td>\n",
       "      <td>18</td>\n",
       "      <td>0.000110</td>\n",
       "    </tr>\n",
       "    <tr>\n",
       "      <th>46</th>\n",
       "      <td>2.069897</td>\n",
       "      <td>1.181227</td>\n",
       "      <td>18</td>\n",
       "      <td>0.000105</td>\n",
       "    </tr>\n",
       "    <tr>\n",
       "      <th>47</th>\n",
       "      <td>2.069897</td>\n",
       "      <td>1.181227</td>\n",
       "      <td>18</td>\n",
       "      <td>0.000100</td>\n",
       "    </tr>\n",
       "    <tr>\n",
       "      <th>48</th>\n",
       "      <td>2.069897</td>\n",
       "      <td>1.181227</td>\n",
       "      <td>18</td>\n",
       "      <td>0.000095</td>\n",
       "    </tr>\n",
       "    <tr>\n",
       "      <th>49</th>\n",
       "      <td>2.069897</td>\n",
       "      <td>1.181227</td>\n",
       "      <td>18</td>\n",
       "      <td>0.000090</td>\n",
       "    </tr>\n",
       "    <tr>\n",
       "      <th>50</th>\n",
       "      <td>2.069897</td>\n",
       "      <td>1.181227</td>\n",
       "      <td>18</td>\n",
       "      <td>0.000085</td>\n",
       "    </tr>\n",
       "    <tr>\n",
       "      <th>51</th>\n",
       "      <td>2.069897</td>\n",
       "      <td>1.181227</td>\n",
       "      <td>18</td>\n",
       "      <td>0.000081</td>\n",
       "    </tr>\n",
       "    <tr>\n",
       "      <th>52</th>\n",
       "      <td>2.069897</td>\n",
       "      <td>1.181227</td>\n",
       "      <td>18</td>\n",
       "      <td>0.000077</td>\n",
       "    </tr>\n",
       "    <tr>\n",
       "      <th>53</th>\n",
       "      <td>2.069897</td>\n",
       "      <td>1.181227</td>\n",
       "      <td>18</td>\n",
       "      <td>0.000073</td>\n",
       "    </tr>\n",
       "    <tr>\n",
       "      <th>54</th>\n",
       "      <td>2.069897</td>\n",
       "      <td>1.181227</td>\n",
       "      <td>18</td>\n",
       "      <td>0.000070</td>\n",
       "    </tr>\n",
       "    <tr>\n",
       "      <th>55</th>\n",
       "      <td>2.069897</td>\n",
       "      <td>1.181227</td>\n",
       "      <td>18</td>\n",
       "      <td>0.000066</td>\n",
       "    </tr>\n",
       "    <tr>\n",
       "      <th>56</th>\n",
       "      <td>2.074132</td>\n",
       "      <td>1.181485</td>\n",
       "      <td>25</td>\n",
       "      <td>0.000063</td>\n",
       "    </tr>\n",
       "  </tbody>\n",
       "</table>\n",
       "</div>"
      ],
      "text/plain": [
       "         mse       mae  non_zero   lambda0\n",
       "0   1.958218  1.158727         1  0.008857\n",
       "1   1.958218  1.158727         1  0.007790\n",
       "2   1.958218  1.158727         1  0.007400\n",
       "3   1.958218  1.158727         1  0.007030\n",
       "4   1.958218  1.158727         1  0.006679\n",
       "5   1.958218  1.158727         1  0.006345\n",
       "6   1.958218  1.158727         1  0.006027\n",
       "7   1.958218  1.158727         1  0.005726\n",
       "8   1.958218  1.158727         1  0.005440\n",
       "9   1.958218  1.158727         1  0.005168\n",
       "10  1.958218  1.158727         1  0.004909\n",
       "11  1.958218  1.158727         1  0.004664\n",
       "12  1.958218  1.158727         1  0.004431\n",
       "13  1.958218  1.158727         1  0.004209\n",
       "14  1.958218  1.158727         1  0.003999\n",
       "15  2.049123  1.180574         7  0.003799\n",
       "16  2.051183  1.179429         7  0.002302\n",
       "17  2.051183  1.179429         7  0.002187\n",
       "18  2.051183  1.179429         7  0.002077\n",
       "19  2.051183  1.179429         7  0.001973\n",
       "20  2.051183  1.179429         7  0.001875\n",
       "21  2.051183  1.179429         7  0.001781\n",
       "22  2.051183  1.179429         7  0.001692\n",
       "23  2.051183  1.179429         7  0.001607\n",
       "24  2.051183  1.179429         7  0.001527\n",
       "25  2.051183  1.179429         7  0.001451\n",
       "26  2.051183  1.179429         7  0.001378\n",
       "27  2.051183  1.179429         7  0.001309\n",
       "28  2.051183  1.179429         7  0.001244\n",
       "29  2.051183  1.179429         7  0.001182\n",
       "30  2.051183  1.179429         7  0.001122\n",
       "31  2.051183  1.179429         7  0.001066\n",
       "32  2.051183  1.179429         7  0.001013\n",
       "33  2.051183  1.179429         7  0.000962\n",
       "34  2.051183  1.179429         7  0.000914\n",
       "35  2.051183  1.179429         7  0.000869\n",
       "36  2.051183  1.179429         7  0.000825\n",
       "37  2.069897  1.181227        18  0.000784\n",
       "38  2.069897  1.181227        18  0.000158\n",
       "39  2.069897  1.181227        18  0.000150\n",
       "40  2.069897  1.181227        18  0.000143\n",
       "41  2.069897  1.181227        18  0.000135\n",
       "42  2.069897  1.181227        18  0.000129\n",
       "43  2.069897  1.181227        18  0.000122\n",
       "44  2.069897  1.181227        18  0.000116\n",
       "45  2.069897  1.181227        18  0.000110\n",
       "46  2.069897  1.181227        18  0.000105\n",
       "47  2.069897  1.181227        18  0.000100\n",
       "48  2.069897  1.181227        18  0.000095\n",
       "49  2.069897  1.181227        18  0.000090\n",
       "50  2.069897  1.181227        18  0.000085\n",
       "51  2.069897  1.181227        18  0.000081\n",
       "52  2.069897  1.181227        18  0.000077\n",
       "53  2.069897  1.181227        18  0.000073\n",
       "54  2.069897  1.181227        18  0.000070\n",
       "55  2.069897  1.181227        18  0.000066\n",
       "56  2.074132  1.181485        25  0.000063"
      ]
     },
     "execution_count": 87,
     "metadata": {},
     "output_type": "execute_result"
    }
   ],
   "source": [
    "bss_mse = []\n",
    "bss_mae = []\n",
    "bss_non_zero = []\n",
    "bss_lambda0 = []\n",
    "\n",
    "for i in path:\n",
    "    intercept = i['B0']\n",
    "    b_estimated = i['B']\n",
    "    lambda_0 = i['lambda_0']\n",
    "    \n",
    "    y_estimated = np.dot(X_test, b_estimated) + intercept\n",
    "    \n",
    "    mse = mean_squared_error(y_estimated, y_test)\n",
    "    mae = mean_absolute_error(y_estimated, y_test)\n",
    "    \n",
    "    bss_mse.append(mse)\n",
    "    bss_mae.append(mae)\n",
    "    \n",
    "    bss_non_zero.append(np.count_nonzero(b_estimated))\n",
    "    \n",
    "    bss_lambda0.append(lambda_0)\n",
    "    \n",
    "bss_results = pd.DataFrame()\n",
    "\n",
    "bss_results['mse'] = bss_mse\n",
    "bss_results['mae'] = bss_mae\n",
    "bss_results['non_zero'] = bss_non_zero\n",
    "bss_results['lambda0'] = bss_lambda0\n",
    "\n",
    "bss_results"
   ]
  },
  {
   "cell_type": "code",
   "execution_count": 88,
   "id": "065073d1",
   "metadata": {},
   "outputs": [
    {
     "data": {
      "text/plain": [
       "{'B': array([0.        , 0.        , 0.        , 0.        , 0.        ,\n",
       "        0.        , 0.        , 0.        , 0.        , 0.        ,\n",
       "        0.        , 0.19528739, 0.        , 0.        , 0.        ,\n",
       "        0.        , 0.        , 0.        , 0.        , 0.        ,\n",
       "        0.        , 0.        , 0.        , 0.        , 0.        ,\n",
       "        0.        , 0.        ]),\n",
       " 'B0': 1.1744349891893666,\n",
       " 'lambda_0': 0.008857034701723138,\n",
       " 'M': 0.13244680544271673,\n",
       " 'Time_exceeded': False}"
      ]
     },
     "execution_count": 88,
     "metadata": {},
     "output_type": "execute_result"
    }
   ],
   "source": [
    "path[0]"
   ]
  },
  {
   "cell_type": "markdown",
   "id": "b4b18e9a",
   "metadata": {},
   "source": [
    "It is interesting to note that the model selects only one feature, month of December, which has the highest correlation with the response (see the correlation matrix above), and this model results in only slightly worse MSE of 1.96 and MAE of 1.16 than complex models selected by forward and backward selection.\n",
    "\n",
    "Next, we apply ridge and lasso regularization.\n",
    "\n",
    "### Ridge"
   ]
  },
  {
   "cell_type": "code",
   "execution_count": 89,
   "id": "2717d0e2",
   "metadata": {},
   "outputs": [
    {
     "data": {
      "text/plain": [
       "{'fit_time': array([0.91344833]),\n",
       " 'score_time': array([0.00094485]),\n",
       " 'test_neg_mean_squared_error': array([-1.99002816]),\n",
       " 'test_neg_mean_absolute_error': array([-1.18032885])}"
      ]
     },
     "execution_count": 89,
     "metadata": {},
     "output_type": "execute_result"
    }
   ],
   "source": [
    "# Setting up the grid of 100 lambdas from 10^8 to 10^-2 scaled by the standard deviation of the response\n",
    "lambdas = 10**np.linspace(8, -2, 100) / y_log.std()\n",
    "\n",
    "ridge = skl.RidgeCV(alphas=lambdas,\n",
    "                           cv=kfold, scoring='neg_mean_squared_error')\n",
    "ridge.fit(X_std, y_log)\n",
    "\n",
    "ridge_results = skm.cross_validate(ridge, \n",
    "                             X_std,\n",
    "                             y_log,\n",
    "                             cv=outer_valid,\n",
    "                             scoring=scoring_test)\n",
    "\n",
    "ridge_results"
   ]
  },
  {
   "cell_type": "markdown",
   "id": "e262e1dc",
   "metadata": {},
   "source": [
    "### Lasso"
   ]
  },
  {
   "cell_type": "code",
   "execution_count": 90,
   "id": "5e927eb1",
   "metadata": {
    "scrolled": true
   },
   "outputs": [
    {
     "data": {
      "text/plain": [
       "array([ 0.02752031,  0.        ,  0.        ,  0.02739207,  0.        ,\n",
       "       -0.        ,  0.0388734 , -0.        ,  0.00799109,  0.        ,\n",
       "       -0.        ,  0.14703771,  0.        , -0.        ,  0.        ,\n",
       "       -0.        , -0.00401133,  0.        , -0.        , -0.        ,\n",
       "        0.05743194, -0.        ,  0.        ,  0.        , -0.        ,\n",
       "        0.        , -0.        ])"
      ]
     },
     "execution_count": 90,
     "metadata": {},
     "output_type": "execute_result"
    }
   ],
   "source": [
    "lasso = skl.ElasticNetCV(n_alphas=100, \n",
    "                           l1_ratio=1,\n",
    "                           cv=kfold)\n",
    "lasso.fit(X_std, y_log)\n",
    "\n",
    "lasso.coef_"
   ]
  },
  {
   "cell_type": "code",
   "execution_count": 91,
   "id": "2c761cd0",
   "metadata": {},
   "outputs": [
    {
     "data": {
      "text/plain": [
       "0             X\n",
       "3           DMC\n",
       "6          temp\n",
       "8          wind\n",
       "11    month_dec\n",
       "16    month_mar\n",
       "20    month_sep\n",
       "dtype: object"
      ]
     },
     "execution_count": 91,
     "metadata": {},
     "output_type": "execute_result"
    }
   ],
   "source": [
    "pd.Series(features)[((lasso.coef_ > 0) | (lasso.coef_ < 0)).tolist()]"
   ]
  },
  {
   "cell_type": "markdown",
   "id": "05883f32",
   "metadata": {},
   "source": [
    "Lasso selected features similar to those of backward selection."
   ]
  },
  {
   "cell_type": "code",
   "execution_count": 92,
   "id": "dd0ba0e1",
   "metadata": {},
   "outputs": [
    {
     "data": {
      "text/plain": [
       "{'fit_time': array([0.06507707]),\n",
       " 'score_time': array([0.00236487]),\n",
       " 'test_neg_mean_squared_error': array([-1.97898422]),\n",
       " 'test_neg_mean_absolute_error': array([-1.17200722])}"
      ]
     },
     "execution_count": 92,
     "metadata": {},
     "output_type": "execute_result"
    }
   ],
   "source": [
    "lasso_results = skm.cross_validate(lasso, \n",
    "                             X_std,\n",
    "                             y_log,\n",
    "                             cv=outer_valid,\n",
    "                             scoring=scoring_test)\n",
    "\n",
    "lasso_results"
   ]
  },
  {
   "cell_type": "markdown",
   "id": "81f3609a",
   "metadata": {},
   "source": [
    "Both lasso and ridge showed only slightly better results than our benchmark.\n",
    "\n",
    "Next we apply Principal Component Analysis to out linear model.\n",
    "\n",
    "### PCA"
   ]
  },
  {
   "cell_type": "code",
   "execution_count": 93,
   "id": "47742c7a",
   "metadata": {},
   "outputs": [],
   "source": [
    "from sklearn.decomposition import PCA"
   ]
  },
  {
   "cell_type": "code",
   "execution_count": 94,
   "id": "e5c254da",
   "metadata": {
    "scrolled": true
   },
   "outputs": [
    {
     "data": {
      "text/plain": [
       "{'pca__n_components': 12}"
      ]
     },
     "execution_count": 94,
     "metadata": {},
     "output_type": "execute_result"
    }
   ],
   "source": [
    "# Setting the grid of 27 components to cross-validate upon\n",
    "param_grid = {'pca__n_components': range(1, 28)}\n",
    "\n",
    "pca = PCA()\n",
    "\n",
    "pipe = Pipeline([('pca', pca),\n",
    "                 ('lm', lm)])\n",
    "\n",
    "grid = skm.GridSearchCV(pipe,\n",
    "                        param_grid,\n",
    "                        cv=kfold,\n",
    "                        scoring='neg_mean_squared_error')\n",
    "grid.fit(X_std, y_log)\n",
    "\n",
    "grid.best_params_"
   ]
  },
  {
   "cell_type": "code",
   "execution_count": 95,
   "id": "02164ef1",
   "metadata": {},
   "outputs": [
    {
     "data": {
      "text/plain": [
       "{'fit_time': array([0.00644183]),\n",
       " 'score_time': array([0.00128222]),\n",
       " 'test_neg_mean_squared_error': array([-2.08081075]),\n",
       " 'test_neg_mean_absolute_error': array([-1.18372596])}"
      ]
     },
     "execution_count": 95,
     "metadata": {},
     "output_type": "execute_result"
    }
   ],
   "source": [
    "# Selecting the oprimal number of components (12) as specified by CV\n",
    "pca = PCA(n_components=12)\n",
    "\n",
    "pca_results = skm.cross_validate(pipe, \n",
    "                             X_std,\n",
    "                             y_log,\n",
    "                             cv=outer_valid,\n",
    "                             scoring=scoring_test)\n",
    "\n",
    "pca_results"
   ]
  },
  {
   "cell_type": "markdown",
   "id": "0c66555a",
   "metadata": {},
   "source": [
    "PCA with 12 components selected by CV did not improve the error rates.\n",
    "\n",
    "Next, we will implement polynomials to try to capture possible non-linear relationships between predictors and response.\n",
    "\n",
    "### Polynomial (Stepwise, Ridge, Lasso)"
   ]
  },
  {
   "cell_type": "code",
   "execution_count": 96,
   "id": "f6fc96bf",
   "metadata": {},
   "outputs": [],
   "source": [
    "from sklearn.preprocessing import PolynomialFeatures"
   ]
  },
  {
   "cell_type": "code",
   "execution_count": 97,
   "id": "b28e357e",
   "metadata": {},
   "outputs": [],
   "source": [
    "# Creating 2nd degree polynomial\n",
    "poly = PolynomialFeatures(degree=2, include_bias=False).set_output(transform='pandas')\n",
    "\n",
    "# Transforming non-binary features\n",
    "X_poly = poly.fit_transform(X_std.iloc[:,:10])\n",
    "\n",
    "X_poly2 = pd.concat([X_poly, X_std.iloc[:,10:]], axis=1)"
   ]
  },
  {
   "cell_type": "code",
   "execution_count": 98,
   "id": "977f5e62",
   "metadata": {},
   "outputs": [],
   "source": [
    "features2 = X_poly2.columns.values.tolist()\n",
    "\n",
    "# Rescaling the features\n",
    "scaler.fit(X_poly2)\n",
    "\n",
    "X_poly_std = scaler.transform(X_poly2)\n",
    "\n",
    "X_poly_std = pd.DataFrame(X_poly_std, columns=features2)"
   ]
  },
  {
   "cell_type": "code",
   "execution_count": 99,
   "id": "4fb09f2f",
   "metadata": {},
   "outputs": [
    {
     "data": {
      "text/plain": [
       "{'fit_time': array([0.0015707]),\n",
       " 'score_time': array([0.00085402]),\n",
       " 'test_neg_mean_squared_error': array([-1.94427969]),\n",
       " 'test_neg_mean_absolute_error': array([-1.12829613])}"
      ]
     },
     "execution_count": 99,
     "metadata": {},
     "output_type": "execute_result"
    }
   ],
   "source": [
    "forward_poly = SequentialFeatureSelector(estimator=lm,\n",
    "                                       n_features_to_select='auto', tol=0.0001,\n",
    "                                       direction='forward', scoring='neg_mean_squared_error',\n",
    "                                       cv=kfold)\n",
    "\n",
    "forward_poly.fit(X_poly_std, y_log)\n",
    "\n",
    "forward_poly_features = forward_poly.get_feature_names_out()\n",
    "\n",
    "forward_poly_results = skm.cross_validate(lm, X_poly_std[forward_poly_features],\n",
    "                                           y_log, cv=outer_valid, scoring=scoring_test)\n",
    "\n",
    "forward_poly_results"
   ]
  },
  {
   "cell_type": "code",
   "execution_count": 100,
   "id": "b788a228",
   "metadata": {},
   "outputs": [
    {
     "data": {
      "text/plain": [
       "array(['X', 'temp', 'X DC', 'X wind', 'Y DC', 'Y ISI', 'Y RH', 'FFMC DMC',\n",
       "       'FFMC DC', 'FFMC ISI', 'temp^2', 'month_dec', 'month_sep',\n",
       "       'day_mon', 'day_tue'], dtype=object)"
      ]
     },
     "execution_count": 100,
     "metadata": {},
     "output_type": "execute_result"
    }
   ],
   "source": [
    "forward_poly_features"
   ]
  },
  {
   "cell_type": "markdown",
   "id": "066a5865",
   "metadata": {},
   "source": [
    "Polynomial model with 15 features selected by forward stepwise selection yields the best results so far, with test MSE of 1.94 and MAE of 1.13."
   ]
  },
  {
   "cell_type": "code",
   "execution_count": 101,
   "id": "55e8d154",
   "metadata": {},
   "outputs": [
    {
     "data": {
      "text/plain": [
       "{'fit_time': array([0.01059794]),\n",
       " 'score_time': array([0.00153899]),\n",
       " 'test_neg_mean_squared_error': array([-3.28702583]),\n",
       " 'test_neg_mean_absolute_error': array([-1.38202374])}"
      ]
     },
     "execution_count": 101,
     "metadata": {},
     "output_type": "execute_result"
    }
   ],
   "source": [
    "backward_poly = SequentialFeatureSelector(estimator=lm,\n",
    "                                       n_features_to_select='auto', tol=0.0001,\n",
    "                                       direction='backward', scoring='neg_mean_squared_error',\n",
    "                                       cv=kfold)\n",
    "\n",
    "backward_poly.fit(X_poly_std, y_log)\n",
    "\n",
    "backward_poly_features = backward_poly.get_feature_names_out()\n",
    "\n",
    "backward_poly_results = skm.cross_validate(lm, X_poly_std[backward_poly_features],\n",
    "                                           y_log, cv=outer_valid, scoring=scoring_test)\n",
    "\n",
    "backward_poly_results"
   ]
  },
  {
   "cell_type": "code",
   "execution_count": 102,
   "id": "a9da37b4",
   "metadata": {},
   "outputs": [
    {
     "data": {
      "text/plain": [
       "array(['X', 'Y', 'FFMC', 'DMC', 'DC', 'ISI', 'temp', 'RH', 'wind', 'rain',\n",
       "       'X^2', 'X Y', 'X FFMC', 'X DMC', 'X DC', 'X temp', 'X RH',\n",
       "       'X wind', 'X rain', 'Y^2', 'Y FFMC', 'Y DMC', 'Y DC', 'Y ISI',\n",
       "       'Y temp', 'Y RH', 'Y wind', 'FFMC^2', 'FFMC DMC', 'FFMC DC',\n",
       "       'FFMC ISI', 'FFMC temp', 'FFMC RH', 'FFMC wind', 'FFMC rain',\n",
       "       'DMC^2', 'DMC DC', 'DMC ISI', 'DMC temp', 'DMC RH', 'DMC wind',\n",
       "       'DMC rain', 'DC^2', 'DC ISI', 'DC temp', 'DC RH', 'DC wind',\n",
       "       'ISI^2', 'ISI temp', 'ISI RH', 'ISI wind', 'ISI rain', 'temp^2',\n",
       "       'temp RH', 'temp wind', 'temp rain', 'RH^2', 'RH wind', 'RH rain',\n",
       "       'wind^2', 'wind rain', 'rain^2', 'month_aug', 'month_dec',\n",
       "       'month_feb', 'month_jan', 'month_jul', 'month_jun', 'month_mar',\n",
       "       'month_may', 'month_nov', 'month_oct', 'month_sep', 'day_mon',\n",
       "       'day_sat', 'day_sun', 'day_thu', 'day_tue', 'day_wed'],\n",
       "      dtype=object)"
      ]
     },
     "execution_count": 102,
     "metadata": {},
     "output_type": "execute_result"
    }
   ],
   "source": [
    "backward_poly_features"
   ]
  },
  {
   "cell_type": "markdown",
   "id": "326a2ac5",
   "metadata": {},
   "source": [
    "Polynomial model with backward-selected features selects too many predictors and shows significantly worse results."
   ]
  },
  {
   "cell_type": "code",
   "execution_count": 103,
   "id": "eebe69f5",
   "metadata": {},
   "outputs": [
    {
     "data": {
      "text/plain": [
       "{'fit_time': array([1.50366282]),\n",
       " 'score_time': array([0.00114822]),\n",
       " 'test_neg_mean_squared_error': array([-1.99494349]),\n",
       " 'test_neg_mean_absolute_error': array([-1.17386699])}"
      ]
     },
     "execution_count": 103,
     "metadata": {},
     "output_type": "execute_result"
    }
   ],
   "source": [
    "ridge_poly = skl.RidgeCV(alphas=lambdas,\n",
    "                           cv=kfold, scoring='neg_mean_squared_error')\n",
    "\n",
    "ridge_poly.fit(X_poly_std, y_log)\n",
    "\n",
    "ridge_poly_results = skm.cross_validate(ridge_poly, \n",
    "                             X_poly_std,\n",
    "                             y_log,\n",
    "                             cv=outer_valid,\n",
    "                             scoring=scoring_test)\n",
    "\n",
    "ridge_poly_results"
   ]
  },
  {
   "cell_type": "code",
   "execution_count": 104,
   "id": "26d57fa1",
   "metadata": {},
   "outputs": [
    {
     "data": {
      "text/plain": [
       "{'fit_time': array([1.550735]),\n",
       " 'score_time': array([0.00352883]),\n",
       " 'test_neg_mean_squared_error': array([-1.9900728]),\n",
       " 'test_neg_mean_absolute_error': array([-1.17881502])}"
      ]
     },
     "execution_count": 104,
     "metadata": {},
     "output_type": "execute_result"
    }
   ],
   "source": [
    "lasso_poly = skl.ElasticNetCV(n_alphas=100, \n",
    "                           l1_ratio=1,\n",
    "                           cv=kfold,\n",
    "                           max_iter=10000)\n",
    "\n",
    "lasso_poly.fit(X_poly_std, y_log)\n",
    "\n",
    "lasso_poly_results = skm.cross_validate(lasso_poly, \n",
    "                             X_poly_std,\n",
    "                             y_log,\n",
    "                             cv=outer_valid,\n",
    "                             scoring=scoring_test)\n",
    "\n",
    "lasso_poly_results"
   ]
  },
  {
   "cell_type": "markdown",
   "id": "9139682d",
   "metadata": {},
   "source": [
    "The regularized polynom did not show improved results.\n",
    "\n",
    "Next, we try nonparametric KNN regression.\n",
    "\n",
    "### KNN"
   ]
  },
  {
   "cell_type": "code",
   "execution_count": 105,
   "id": "70430063",
   "metadata": {},
   "outputs": [],
   "source": [
    "from sklearn.neighbors import KNeighborsRegressor"
   ]
  },
  {
   "cell_type": "code",
   "execution_count": 106,
   "id": "99cb7765",
   "metadata": {},
   "outputs": [
    {
     "data": {
      "text/plain": [
       "{'algorithm': 'brute', 'n_neighbors': 23, 'p': 3, 'weights': 'uniform'}"
      ]
     },
     "execution_count": 106,
     "metadata": {},
     "output_type": "execute_result"
    }
   ],
   "source": [
    "knn = KNeighborsRegressor()\n",
    "\n",
    "# Setting up the grid of possible hyperparameters to cross-validate upon\n",
    "parameters = {'n_neighbors' : np.arange(1, 25, 1),\n",
    "              'weights': ['uniform', 'distance'],\n",
    "              'algorithm' : ['ball_tree', 'kd_tree', 'brute'],\n",
    "              'p' : [1, 2, 3, 4, 5]}\n",
    "\n",
    "gs_knn = skm.GridSearchCV(knn, parameters, cv=kfold, scoring='neg_mean_squared_error')\n",
    "\n",
    "gs_knn.fit(X_std, y_log)\n",
    "\n",
    "gs_knn.best_params_"
   ]
  },
  {
   "cell_type": "code",
   "execution_count": 107,
   "id": "5416c65d",
   "metadata": {},
   "outputs": [
    {
     "data": {
      "text/plain": [
       "{'fit_time': array([0.00140429]),\n",
       " 'score_time': array([0.01356792]),\n",
       " 'test_neg_mean_squared_error': array([-2.07432981]),\n",
       " 'test_neg_mean_absolute_error': array([-1.20440209])}"
      ]
     },
     "execution_count": 107,
     "metadata": {},
     "output_type": "execute_result"
    }
   ],
   "source": [
    "knn = KNeighborsRegressor(algorithm='brute', n_neighbors=23, p=3, weights='uniform')\n",
    "\n",
    "knn_results = skm.cross_validate(knn, \n",
    "                             X_std,\n",
    "                             y_log,\n",
    "                             cv=outer_valid,\n",
    "                             scoring=scoring_test)\n",
    "\n",
    "knn_results"
   ]
  },
  {
   "cell_type": "markdown",
   "id": "2df5fde7",
   "metadata": {},
   "source": [
    "KNN also shows worse results than benchmark.\n",
    "\n",
    "## Comparing the Performance\n",
    "\n",
    "Now we can visually compare the resulted error rates of each model."
   ]
  },
  {
   "cell_type": "code",
   "execution_count": 108,
   "id": "df58dda7",
   "metadata": {},
   "outputs": [
    {
     "data": {
      "text/html": [
       "<div>\n",
       "<style scoped>\n",
       "    .dataframe tbody tr th:only-of-type {\n",
       "        vertical-align: middle;\n",
       "    }\n",
       "\n",
       "    .dataframe tbody tr th {\n",
       "        vertical-align: top;\n",
       "    }\n",
       "\n",
       "    .dataframe thead th {\n",
       "        text-align: right;\n",
       "    }\n",
       "</style>\n",
       "<table border=\"1\" class=\"dataframe\">\n",
       "  <thead>\n",
       "    <tr style=\"text-align: right;\">\n",
       "      <th></th>\n",
       "      <th>OLS</th>\n",
       "      <th>Best Subset</th>\n",
       "      <th>Backward</th>\n",
       "      <th>Forward</th>\n",
       "      <th>Ridge</th>\n",
       "      <th>Lasso</th>\n",
       "      <th>PCA</th>\n",
       "      <th>Forward Poly</th>\n",
       "      <th>Backward Poly</th>\n",
       "      <th>Ridge Poly</th>\n",
       "      <th>Lasso Poly</th>\n",
       "      <th>KNN</th>\n",
       "    </tr>\n",
       "  </thead>\n",
       "  <tbody>\n",
       "    <tr>\n",
       "      <th>MSE</th>\n",
       "      <td>2.076915</td>\n",
       "      <td>1.958218</td>\n",
       "      <td>NaN</td>\n",
       "      <td>NaN</td>\n",
       "      <td>NaN</td>\n",
       "      <td>NaN</td>\n",
       "      <td>NaN</td>\n",
       "      <td>NaN</td>\n",
       "      <td>NaN</td>\n",
       "      <td>NaN</td>\n",
       "      <td>NaN</td>\n",
       "      <td>NaN</td>\n",
       "    </tr>\n",
       "    <tr>\n",
       "      <th>MAE</th>\n",
       "      <td>1.180428</td>\n",
       "      <td>1.158727</td>\n",
       "      <td>NaN</td>\n",
       "      <td>NaN</td>\n",
       "      <td>NaN</td>\n",
       "      <td>NaN</td>\n",
       "      <td>NaN</td>\n",
       "      <td>NaN</td>\n",
       "      <td>NaN</td>\n",
       "      <td>NaN</td>\n",
       "      <td>NaN</td>\n",
       "      <td>NaN</td>\n",
       "    </tr>\n",
       "  </tbody>\n",
       "</table>\n",
       "</div>"
      ],
      "text/plain": [
       "          OLS  Best Subset Backward Forward Ridge Lasso  PCA Forward Poly  \\\n",
       "MSE  2.076915     1.958218      NaN     NaN   NaN   NaN  NaN          NaN   \n",
       "MAE  1.180428     1.158727      NaN     NaN   NaN   NaN  NaN          NaN   \n",
       "\n",
       "    Backward Poly Ridge Poly Lasso Poly  KNN  \n",
       "MSE           NaN        NaN        NaN  NaN  \n",
       "MAE           NaN        NaN        NaN  NaN  "
      ]
     },
     "execution_count": 108,
     "metadata": {},
     "output_type": "execute_result"
    }
   ],
   "source": [
    "summary_errors = pd.DataFrame(columns=['OLS', 'Best Subset', 'Backward', 'Forward',\n",
    "                          'Ridge', 'Lasso', 'PCA', 'Forward Poly', 'Backward Poly',\n",
    "                          'Ridge Poly', 'Lasso Poly', 'KNN'],\n",
    "                             index=['MSE', 'MAE'])\n",
    "\n",
    "# Selecting results for simple linear model\n",
    "summary_errors['OLS'] = [ols_mse, ols_mae]\n",
    "\n",
    "# Selecting the results of best subset selection\n",
    "summary_errors['Best Subset'] = [bss_results.iloc[0]['mse'], bss_results.iloc[0]['mae']]\n",
    "\n",
    "summary_errors"
   ]
  },
  {
   "cell_type": "code",
   "execution_count": 109,
   "id": "095fd3f8",
   "metadata": {
    "scrolled": true
   },
   "outputs": [
    {
     "data": {
      "text/html": [
       "<div>\n",
       "<style scoped>\n",
       "    .dataframe tbody tr th:only-of-type {\n",
       "        vertical-align: middle;\n",
       "    }\n",
       "\n",
       "    .dataframe tbody tr th {\n",
       "        vertical-align: top;\n",
       "    }\n",
       "\n",
       "    .dataframe thead th {\n",
       "        text-align: right;\n",
       "    }\n",
       "</style>\n",
       "<table border=\"1\" class=\"dataframe\">\n",
       "  <thead>\n",
       "    <tr style=\"text-align: right;\">\n",
       "      <th></th>\n",
       "      <th>OLS</th>\n",
       "      <th>Best Subset</th>\n",
       "      <th>Backward</th>\n",
       "      <th>Forward</th>\n",
       "      <th>Ridge</th>\n",
       "      <th>Lasso</th>\n",
       "      <th>PCA</th>\n",
       "      <th>Forward Poly</th>\n",
       "      <th>Backward Poly</th>\n",
       "      <th>Ridge Poly</th>\n",
       "      <th>Lasso Poly</th>\n",
       "      <th>KNN</th>\n",
       "    </tr>\n",
       "  </thead>\n",
       "  <tbody>\n",
       "    <tr>\n",
       "      <th>MSE</th>\n",
       "      <td>2.076915</td>\n",
       "      <td>1.958218</td>\n",
       "      <td>1.940396</td>\n",
       "      <td>1.943106</td>\n",
       "      <td>1.990028</td>\n",
       "      <td>1.978984</td>\n",
       "      <td>2.080811</td>\n",
       "      <td>1.944280</td>\n",
       "      <td>3.287026</td>\n",
       "      <td>1.994943</td>\n",
       "      <td>1.990073</td>\n",
       "      <td>2.074330</td>\n",
       "    </tr>\n",
       "    <tr>\n",
       "      <th>MAE</th>\n",
       "      <td>1.180428</td>\n",
       "      <td>1.158727</td>\n",
       "      <td>1.149385</td>\n",
       "      <td>1.152108</td>\n",
       "      <td>1.180329</td>\n",
       "      <td>1.172007</td>\n",
       "      <td>1.183726</td>\n",
       "      <td>1.128296</td>\n",
       "      <td>1.382024</td>\n",
       "      <td>1.173867</td>\n",
       "      <td>1.178815</td>\n",
       "      <td>1.204402</td>\n",
       "    </tr>\n",
       "  </tbody>\n",
       "</table>\n",
       "</div>"
      ],
      "text/plain": [
       "          OLS  Best Subset  Backward   Forward     Ridge     Lasso       PCA  \\\n",
       "MSE  2.076915     1.958218  1.940396  1.943106  1.990028  1.978984  2.080811   \n",
       "MAE  1.180428     1.158727  1.149385  1.152108  1.180329  1.172007  1.183726   \n",
       "\n",
       "     Forward Poly  Backward Poly  Ridge Poly  Lasso Poly       KNN  \n",
       "MSE      1.944280       3.287026    1.994943    1.990073  2.074330  \n",
       "MAE      1.128296       1.382024    1.173867    1.178815  1.204402  "
      ]
     },
     "execution_count": 109,
     "metadata": {},
     "output_type": "execute_result"
    }
   ],
   "source": [
    "results_all = [backward_results, forward_results,\n",
    "               ridge_results, lasso_results, pca_results,\n",
    "               forward_poly_results, backward_poly_results,\n",
    "               ridge_poly_results, lasso_poly_results, knn_results]\n",
    "\n",
    "# Selecting the results of the remaining models\n",
    "for result, col in zip(results_all, summary_errors.columns[2:]):\n",
    "    mse = -result['test_neg_mean_squared_error'][0]\n",
    "    mae = -result['test_neg_mean_absolute_error'][0]\n",
    "    \n",
    "    summary_errors[col] = [mse, mae]\n",
    "    \n",
    "summary_errors"
   ]
  },
  {
   "cell_type": "code",
   "execution_count": 110,
   "id": "dd109dec",
   "metadata": {},
   "outputs": [
    {
     "data": {
      "image/png": "[encoded data removed]",
      "text/plain": [
       "<Figure size 700x500 with 1 Axes>"
      ]
     },
     "metadata": {},
     "output_type": "display_data"
    }
   ],
   "source": [
    "# Visualizing the test error rates of all models\n",
    "fig, ax = plt.subplots(figsize=(7,5))\n",
    "\n",
    "ax.plot(summary_errors.columns, summary_errors.T['MSE'], marker='o', label='MSE', c='g')\n",
    "ax.plot(summary_errors.columns, summary_errors.T['MAE'], marker='o', label='MAE', c='g', ls='--')\n",
    "\n",
    "ax.axvspan(xmin='Forward Poly', xmax='Lasso Poly',\n",
    "           alpha=0.1, color='grey')\n",
    "\n",
    "# Baseline mean predictors MSE and MAE\n",
    "ax.axhline(mean_squared_error([mean_predictor] * y_test1.shape[0], y_test1), c='r', label='Mean Naive Predictor')\n",
    "ax.axhline(mean_absolute_error([mean_predictor] * y_test1.shape[0], y_test1), c='r', ls='--',\n",
    "           label='Mean Naive Predictor')\n",
    "\n",
    "ax.set_title('Error Rates (Log Transformed Response)', weight='bold', alpha=0.8, size=14)\n",
    "\n",
    "ax.spines[['right', 'top']].set_visible(False)\n",
    "\n",
    "ax.legend(frameon=False)\n",
    "\n",
    "fig.autofmt_xdate(rotation=45)\n",
    "\n",
    "plt.show()"
   ]
  },
  {
   "cell_type": "markdown",
   "id": "758a9f0d",
   "metadata": {},
   "source": [
    "As shown in the graph, most models show small to zero improvement over the naive mean predictor's MSE (2.0) and MAE (1.18). The best result was achieved with forward stepwise selection on a 2nd degree polynomial model with 15 features (MSE 1.94, MAE 1.13).\n",
    "\n",
    "We can inverse transform the response and compare the error rates of this model and the baseline error rates on the initial scale (the burned area of the forest, in ha).\n",
    "\n",
    "## Model Evaluation on Initial Scale"
   ]
  },
  {
   "cell_type": "code",
   "execution_count": 111,
   "id": "bcea84ec",
   "metadata": {},
   "outputs": [
    {
     "data": {
      "text/plain": [
       "4956.171305268326"
      ]
     },
     "execution_count": 111,
     "metadata": {},
     "output_type": "execute_result"
    }
   ],
   "source": [
    "X_train3, X_test3, y_train3, y_test3 = train_test_split(X_poly_std[forward_poly_features], y_log,\n",
    "                                                        test_size=0.25, random_state=1000)\n",
    "lm = skl.LinearRegression()\n",
    "\n",
    "lm.fit(X_train3, y_train3)\n",
    "\n",
    "y_log_pred = lm.predict(X_test3)\n",
    "\n",
    "y_pred = np.exp(y_log_pred) - 1\n",
    "\n",
    "y_test4 = np.exp(y_test3) - 1\n",
    "\n",
    "mean_squared_error(y_test4, y_pred)"
   ]
  },
  {
   "cell_type": "code",
   "execution_count": 112,
   "id": "a8a08b0d",
   "metadata": {},
   "outputs": [
    {
     "data": {
      "text/plain": [
       "14.229374607003598"
      ]
     },
     "execution_count": 112,
     "metadata": {},
     "output_type": "execute_result"
    }
   ],
   "source": [
    "mean_absolute_error(y_test4, y_pred)"
   ]
  },
  {
   "cell_type": "code",
   "execution_count": 113,
   "id": "fd341916",
   "metadata": {},
   "outputs": [
    {
     "data": {
      "text/plain": [
       "count     517.000000\n",
       "mean       12.847292\n",
       "std        63.655818\n",
       "min         0.000000\n",
       "25%         0.000000\n",
       "50%         0.520000\n",
       "75%         6.570000\n",
       "max      1090.840000\n",
       "Name: area, dtype: float64"
      ]
     },
     "execution_count": 113,
     "metadata": {},
     "output_type": "execute_result"
    }
   ],
   "source": [
    "y.describe()"
   ]
  },
  {
   "cell_type": "markdown",
   "id": "ac5dd96c",
   "metadata": {},
   "source": [
    "Compared to the mean (12.85) and the standard deviation (63.66) of the response variable, an MAE of 14.2 is relatively low, and our model is performing adequately, especially since the data contains outliers and has a large range. However, the MSE is quite high, which could be heavily influenced by the model's inability to accurately predict the correct area for the larger fires or whatever is causing the outliers. The high MSE indicates that there are some large errors likely due to these outliers."
   ]
  },
  {
   "cell_type": "code",
   "execution_count": 114,
   "id": "65fad562",
   "metadata": {},
   "outputs": [
    {
     "data": {
      "text/plain": [
       "4986.54972705317"
      ]
     },
     "execution_count": 114,
     "metadata": {},
     "output_type": "execute_result"
    }
   ],
   "source": [
    "mean_predictor1 = np.exp(mean_predictor) - 1\n",
    "\n",
    "mean_squared_error([mean_predictor1] * y_test4.shape[0], y_test4)"
   ]
  },
  {
   "cell_type": "code",
   "execution_count": 115,
   "id": "c4963dbe",
   "metadata": {},
   "outputs": [
    {
     "data": {
      "text/plain": [
       "14.255817257879155"
      ]
     },
     "execution_count": 115,
     "metadata": {},
     "output_type": "execute_result"
    }
   ],
   "source": [
    "mean_absolute_error([mean_predictor1] * y_test4.shape[0], y_test4)"
   ]
  },
  {
   "cell_type": "markdown",
   "id": "38f62e51",
   "metadata": {},
   "source": [
    "Overall, the model shows an insignificant improvement over the naive mean predictor on the initial response scale compared to our benchmark.\n",
    "\n",
    "# Conclusion\n",
    "\n",
    "In pursuit of predicting the area burned by forest fires in Portugal's northeastern region, this project employed a linear regression model enriched by subset selection and regularization techniques, alongside a KNN model, with the aim of surpassing the predictive power of the naive mean predictor. Our approach involved log-transforming the response variable, optimizing feature selection, and rigorously testing multiple models, including Lasso, Ridge regression, PCA, and KNN, to refine our predictions.\n",
    "\n",
    "Our most significant findings indicate that the best performing model—a second-degree polynomial regression with carefully selected features—yielded only a slight improvement in predicting fire-affected areas, with a Mean Squared Error of 1.94 and a Mean Absolute Error of 1.13 (log transformed scale). These results suggest that the complex nature of the data limits the effectiveness of traditional linear models and points towards the potential of exploring more sophisticated approaches, such as a two-step modeling process or non-linear methods. Reflecting on these outcomes, it's clear that while we have made modest advancements, there is a compelling need for continued research and the application of innovative techniques in this environmentally and economically critical domain."
   ]
  }
 ],
 "metadata": {
  "kernelspec": {
   "display_name": "Python 3 (ipykernel)",
   "language": "python",
   "name": "python3"
  },
  "language_info": {
   "codemirror_mode": {
    "name": "ipython",
    "version": 3
   },
   "file_extension": ".py",
   "mimetype": "text/x-python",
   "name": "python",
   "nbconvert_exporter": "python",
   "pygments_lexer": "ipython3",
   "version": "3.9.13"
  }
 },
 "nbformat": 4,
 "nbformat_minor": 5
}
