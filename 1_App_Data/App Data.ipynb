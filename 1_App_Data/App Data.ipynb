{
 "cells": [
  {
   "cell_type": "markdown",
   "id": "f08f2c19",
   "metadata": {
    "scrolled": true
   },
   "source": [
    "# Finding Perspective App Niches - Analyzing AppStore and Google Play Data"
   ]
  },
  {
   "cell_type": "markdown",
   "id": "082680ef",
   "metadata": {},
   "source": [
    "The goal of this project is to analyze app data and determine what kind of apps is most likely to attract more users both on iOS and Android.\n",
    "\n",
    "We will look at two datasets, for iOS and Android apps:\n",
    "\n",
    "- A dataset containing data about approximately 10,000 Android apps from Google Play; the data was collected in August 2018:\n",
    "\n",
    "https://dq-content.s3.amazonaws.com/350/googleplaystore.csv\n",
    "\n",
    "- A dataset containing data about approximately 7,000 iOS apps from the App Store; the data was collected in July 2017:\n",
    "\n",
    "https://dq-content.s3.amazonaws.com/350/AppleStore.csv\n",
    "\n",
    "We will analyze the data from the point of view of an app-developing company focused on free apps, with revenue coming from in-app ads, thus we are keen to know what kind of apps are the most popular and successful."
   ]
  },
  {
   "cell_type": "code",
   "execution_count": 35,
   "id": "b6bde4cc",
   "metadata": {},
   "outputs": [],
   "source": [
    "# Create a helper function to better visualize the data\n",
    "\n",
    "def explore_data(dataset, start, end, rows_and_columns = False):\n",
    "    dataset_slice = dataset[start:end]    \n",
    "    for row in dataset_slice:\n",
    "        print(row)\n",
    "        print('\\n')\n",
    "\n",
    "    if rows_and_columns:\n",
    "        print('Number of rows:', len(dataset))\n",
    "        print('Number of columns:', len(dataset[0]))"
   ]
  },
  {
   "cell_type": "code",
   "execution_count": 36,
   "id": "f4ba0581",
   "metadata": {},
   "outputs": [],
   "source": [
    "# Read and transform the datasets in lists of lists\n",
    "dataset1 = open('AppleStore.csv')\n",
    "from csv import reader\n",
    "ios = list(reader(dataset1))"
   ]
  },
  {
   "cell_type": "code",
   "execution_count": 37,
   "id": "9a40fe05",
   "metadata": {},
   "outputs": [],
   "source": [
    "dataset2 = open('googleplaystore.csv')\n",
    "android = list(reader(dataset2))"
   ]
  },
  {
   "cell_type": "code",
   "execution_count": 38,
   "id": "2fe23c1c",
   "metadata": {
    "scrolled": true
   },
   "outputs": [
    {
     "name": "stdout",
     "output_type": "stream",
     "text": [
      "['App', 'Category', 'Rating', 'Reviews', 'Size', 'Installs', 'Type', 'Price', 'Content Rating', 'Genres', 'Last Updated', 'Current Ver', 'Android Ver']\n",
      "\n",
      "\n",
      "['Photo Editor & Candy Camera & Grid & ScrapBook', 'ART_AND_DESIGN', '4.1', '159', '19M', '10,000+', 'Free', '0', 'Everyone', 'Art & Design', 'January 7, 2018', '1.0.0', '4.0.3 and up']\n",
      "\n",
      "\n",
      "['Coloring book moana', 'ART_AND_DESIGN', '3.9', '967', '14M', '500,000+', 'Free', '0', 'Everyone', 'Art & Design;Pretend Play', 'January 15, 2018', '2.0.0', '4.0.3 and up']\n",
      "\n",
      "\n",
      "['U Launcher Lite – FREE Live Cool Themes, Hide Apps', 'ART_AND_DESIGN', '4.7', '87510', '8.7M', '5,000,000+', 'Free', '0', 'Everyone', 'Art & Design', 'August 1, 2018', '1.2.4', '4.0.3 and up']\n",
      "\n",
      "\n",
      "Number of rows: 10842\n",
      "Number of columns: 13\n"
     ]
    }
   ],
   "source": [
    "# Explore the data\n",
    "explore_data(android, 0, 4, rows_and_columns = True)"
   ]
  },
  {
   "cell_type": "code",
   "execution_count": 39,
   "id": "fb943110",
   "metadata": {
    "scrolled": false
   },
   "outputs": [
    {
     "name": "stdout",
     "output_type": "stream",
     "text": [
      "['', 'id', 'track_name', 'size_bytes', 'currency', 'price', 'rating_count_tot', 'rating_count_ver', 'user_rating', 'user_rating_ver', 'ver', 'cont_rating', 'prime_genre', 'sup_devices.num', 'ipadSc_urls.num', 'lang.num', 'vpp_lic']\n",
      "\n",
      "\n",
      "['1', '281656475', 'PAC-MAN Premium', '100788224', 'USD', '3.99', '21292', '26', '4', '4.5', '6.3.5', '4+', 'Games', '38', '5', '10', '1']\n",
      "\n",
      "\n",
      "['2', '281796108', 'Evernote - stay organized', '158578688', 'USD', '0', '161065', '26', '4', '3.5', '8.2.2', '4+', 'Productivity', '37', '5', '23', '1']\n",
      "\n",
      "\n",
      "['3', '281940292', 'WeatherBug - Local Weather, Radar, Maps, Alerts', '100524032', 'USD', '0', '188583', '2822', '3.5', '4.5', '5.0.0', '4+', 'Weather', '37', '5', '3', '1']\n",
      "\n",
      "\n",
      "Number of rows: 7198\n",
      "Number of columns: 17\n"
     ]
    }
   ],
   "source": [
    "explore_data(ios, 0, 4, rows_and_columns = True)"
   ]
  },
  {
   "cell_type": "markdown",
   "id": "dbe3c05b",
   "metadata": {},
   "source": [
    "## Cleaning the data"
   ]
  },
  {
   "cell_type": "markdown",
   "id": "3bceca95",
   "metadata": {},
   "source": [
    "**First we check for and remove any rows with missing values that may deteriorate data processing**"
   ]
  },
  {
   "cell_type": "code",
   "execution_count": 40,
   "id": "15df490e",
   "metadata": {
    "scrolled": true
   },
   "outputs": [
    {
     "name": "stdout",
     "output_type": "stream",
     "text": [
      "['Life Made WI-Fi Touchscreen Photo Frame', '1.9', '19', '3.0M', '1,000+', 'Free', '0', 'Everyone', '', 'February 11, 2018', '1.0.19', '4.0 and up']\n",
      "\n",
      "\n",
      "Index postion is: 10473\n",
      "10842\n",
      "10840\n"
     ]
    }
   ],
   "source": [
    "android_header = android[0] # We will use the header as a criterion\n",
    "android_clean0 = []\n",
    "for row in android[1:]:\n",
    "    if len(row) != len(android_header): # Check if any row has different length from the header\n",
    "        print(row)\n",
    "        print(\"\\n\")\n",
    "        print(\"Index postion is:\", android.index(row))\n",
    "    else:\n",
    "        android_clean0.append(row)\n",
    "print(len(android))\n",
    "print(len(android_clean0))"
   ]
  },
  {
   "cell_type": "code",
   "execution_count": 41,
   "id": "daa4c4aa",
   "metadata": {},
   "outputs": [],
   "source": [
    "ios_header = ios[0]\n",
    "\n",
    "for row in ios[1:]:\n",
    "    if len(row) != len(ios_header):\n",
    "        print(row)\n",
    "        print(\"\\n\")\n",
    "        print(\"Index postion is:\", ios.index(row))"
   ]
  },
  {
   "cell_type": "markdown",
   "id": "a3410d97",
   "metadata": {},
   "source": [
    "**Then we check for and remove duplicate entries**"
   ]
  },
  {
   "cell_type": "code",
   "execution_count": 42,
   "id": "ee4b5c4d",
   "metadata": {},
   "outputs": [
    {
     "name": "stdout",
     "output_type": "stream",
     "text": [
      "Duplicates:  0\n",
      "\n",
      "\n",
      "Some examples of duplicates: []\n"
     ]
    }
   ],
   "source": [
    "unique_apps_ios = []\n",
    "duplicate_apps_ios = []\n",
    "for app in ios:\n",
    "    if app[1] in unique_apps_ios:\n",
    "        duplicate_apps_ios.append(app[1])\n",
    "    else:\n",
    "        unique_apps_ios.append(app[1])\n",
    "print('Duplicates: ', len(duplicate_apps_ios))\n",
    "print('\\n')\n",
    "print('Some examples of duplicates:', duplicate_apps_ios[:10])"
   ]
  },
  {
   "cell_type": "code",
   "execution_count": 43,
   "id": "26d313ac",
   "metadata": {
    "scrolled": false
   },
   "outputs": [
    {
     "name": "stdout",
     "output_type": "stream",
     "text": [
      "Duplicates:  1181\n",
      "\n",
      "\n",
      "Some examples of duplicates: ['Quick PDF Scanner + OCR FREE', 'Box', 'Google My Business', 'ZOOM Cloud Meetings', 'join.me - Simple Meetings', 'Box', 'Zenefits', 'Google Ads', 'Google My Business', 'Slack']\n"
     ]
    }
   ],
   "source": [
    "unique_apps_android = []\n",
    "duplicate_apps_android = []\n",
    "for app in android_clean0:\n",
    "    if app[0] in unique_apps_android:\n",
    "        duplicate_apps_android.append(app[0])\n",
    "    else:\n",
    "        unique_apps_android.append(app[0])\n",
    "print('Duplicates: ', len(duplicate_apps_android))\n",
    "print('\\n')\n",
    "print('Some examples of duplicates:', duplicate_apps_android[:10])"
   ]
  },
  {
   "cell_type": "markdown",
   "id": "c2fa1e56",
   "metadata": {},
   "source": [
    "There seems to be a lot of duplicates for Android data, let's investigate further."
   ]
  },
  {
   "cell_type": "code",
   "execution_count": 44,
   "id": "2b1296b6",
   "metadata": {
    "scrolled": true
   },
   "outputs": [
    {
     "name": "stdout",
     "output_type": "stream",
     "text": [
      "['Slack', 'BUSINESS', '4.4', '51507', 'Varies with device', '5,000,000+', 'Free', '0', 'Everyone', 'Business', 'August 2, 2018', 'Varies with device', 'Varies with device']\n",
      "['Slack', 'BUSINESS', '4.4', '51507', 'Varies with device', '5,000,000+', 'Free', '0', 'Everyone', 'Business', 'August 2, 2018', 'Varies with device', 'Varies with device']\n",
      "['Slack', 'BUSINESS', '4.4', '51510', 'Varies with device', '5,000,000+', 'Free', '0', 'Everyone', 'Business', 'August 2, 2018', 'Varies with device', 'Varies with device']\n"
     ]
    }
   ],
   "source": [
    "for app in android_clean0:\n",
    "    if app[0] == 'Slack': # Examine the duplicates\n",
    "        print(app)"
   ]
  },
  {
   "cell_type": "markdown",
   "id": "1a26d2cc",
   "metadata": {},
   "source": [
    "Since the number of reviews seems to be the only difference among duplicates, implying that the data was collected at different times, we will use it as a criterion for removal. We will keep only the row with the highest number of reviews, which should be the most recent data."
   ]
  },
  {
   "cell_type": "code",
   "execution_count": 45,
   "id": "26400ee5",
   "metadata": {
    "scrolled": false
   },
   "outputs": [
    {
     "name": "stdout",
     "output_type": "stream",
     "text": [
      "9659\n"
     ]
    }
   ],
   "source": [
    "# Create a dictionary to store rows with unique names and max reviews\n",
    "reviews_max = {} \n",
    "for app in android_clean0:\n",
    "    name = app[0]\n",
    "    reviews = float(app[3])\n",
    "    if name in reviews_max and reviews_max[name] < reviews:\n",
    "        reviews_max[name] = reviews\n",
    "    if name not in reviews_max:\n",
    "        reviews_max[name] = reviews\n",
    "print(len(reviews_max))"
   ]
  },
  {
   "cell_type": "code",
   "execution_count": 46,
   "id": "07de26fa",
   "metadata": {},
   "outputs": [
    {
     "name": "stdout",
     "output_type": "stream",
     "text": [
      "9659\n"
     ]
    }
   ],
   "source": [
    "# Clean Android data\n",
    "android_clean = []\n",
    "already_added = []\n",
    "for app in android_clean0:\n",
    "    name = app[0]\n",
    "    reviews = float(app[3])\n",
    "    if reviews == reviews_max[name] and name not in already_added: # We only need one (unique) row with max reviews\n",
    "        android_clean.append(app)\n",
    "        already_added.append(name)\n",
    "print(len(android_clean)) # Check if we stored the necessary number of unique apps"
   ]
  },
  {
   "cell_type": "markdown",
   "id": "a4fb84eb",
   "metadata": {},
   "source": [
    "**Now we remove any non-English apps**"
   ]
  },
  {
   "cell_type": "markdown",
   "id": "c5ef9024",
   "metadata": {},
   "source": [
    "Assuming our company works solely in English-speaking markets, we will exclude non-English apps.\n",
    "\n",
    "The numbers corresponding to the characters we commonly use in an English text are all in the range 0 to 127, according to the ASCII system. So if the number is equal to or less than 127, then the character belongs to the set of common English characters, and if an app name contains a character that is greater than 127, then it probably means that the app has a non-English name. To account for emojis and other symbols that may occur in English-named apps, we set the criterion on more than 3 symbols with ASCII number over 127"
   ]
  },
  {
   "cell_type": "code",
   "execution_count": 47,
   "id": "28e19bf8",
   "metadata": {},
   "outputs": [],
   "source": [
    "# Create a function that detects non-English symbols\n",
    "def eng_detector(string):\n",
    "    i = 0\n",
    "    for letter in string:\n",
    "        if ord(letter) > 127:\n",
    "            i += 1\n",
    "            if i > 3: # Check if our criterion for the number of non-English symbols holds\n",
    "                return False\n",
    "    return True"
   ]
  },
  {
   "cell_type": "code",
   "execution_count": 48,
   "id": "40f41108",
   "metadata": {
    "scrolled": true
   },
   "outputs": [
    {
     "name": "stdout",
     "output_type": "stream",
     "text": [
      "['1', '281656475', 'PAC-MAN Premium', '100788224', 'USD', '3.99', '21292', '26', '4', '4.5', '6.3.5', '4+', 'Games', '38', '5', '10', '1']\n",
      "\n",
      "\n",
      "['2', '281796108', 'Evernote - stay organized', '158578688', 'USD', '0', '161065', '26', '4', '3.5', '8.2.2', '4+', 'Productivity', '37', '5', '23', '1']\n",
      "\n",
      "\n",
      "Number of rows: 6183\n",
      "Number of columns: 17\n"
     ]
    }
   ],
   "source": [
    "# Clean iOS data\n",
    "ios_clean = []\n",
    "for app in ios[1:]:\n",
    "    name = app[2]\n",
    "    if eng_detector(name):\n",
    "        ios_clean.append(app)\n",
    "explore_data(ios_clean, 0, 2, rows_and_columns = True)"
   ]
  },
  {
   "cell_type": "code",
   "execution_count": 49,
   "id": "b2492402",
   "metadata": {},
   "outputs": [
    {
     "name": "stdout",
     "output_type": "stream",
     "text": [
      "['Photo Editor & Candy Camera & Grid & ScrapBook', 'ART_AND_DESIGN', '4.1', '159', '19M', '10,000+', 'Free', '0', 'Everyone', 'Art & Design', 'January 7, 2018', '1.0.0', '4.0.3 and up']\n",
      "\n",
      "\n",
      "['U Launcher Lite – FREE Live Cool Themes, Hide Apps', 'ART_AND_DESIGN', '4.7', '87510', '8.7M', '5,000,000+', 'Free', '0', 'Everyone', 'Art & Design', 'August 1, 2018', '1.2.4', '4.0.3 and up']\n",
      "\n",
      "\n",
      "Number of rows: 9614\n",
      "Number of columns: 13\n"
     ]
    }
   ],
   "source": [
    "# Clean Android data\n",
    "android_clean2 = []\n",
    "for app in android_clean:\n",
    "    name = app[0]\n",
    "    if eng_detector(name):\n",
    "        android_clean2.append(app)\n",
    "explore_data(android_clean2, 0, 2, rows_and_columns = True)"
   ]
  },
  {
   "cell_type": "markdown",
   "id": "8165d79f",
   "metadata": {},
   "source": [
    "**Last we remove non-free apps as they are out of the scope of this project**"
   ]
  },
  {
   "cell_type": "code",
   "execution_count": 50,
   "id": "30e32357",
   "metadata": {
    "scrolled": true
   },
   "outputs": [
    {
     "name": "stdout",
     "output_type": "stream",
     "text": [
      "['2', '281796108', 'Evernote - stay organized', '158578688', 'USD', '0', '161065', '26', '4', '3.5', '8.2.2', '4+', 'Productivity', '37', '5', '23', '1']\n",
      "\n",
      "\n",
      "['3', '281940292', 'WeatherBug - Local Weather, Radar, Maps, Alerts', '100524032', 'USD', '0', '188583', '2822', '3.5', '4.5', '5.0.0', '4+', 'Weather', '37', '5', '3', '1']\n",
      "\n",
      "\n",
      "Number of rows: 3222\n",
      "Number of columns: 17\n"
     ]
    }
   ],
   "source": [
    "ios_clean3 = []\n",
    "for app in ios_clean:\n",
    "    price = float(app[5])\n",
    "    if price == 0.0:\n",
    "        ios_clean3.append(app)\n",
    "explore_data(ios_clean3, 0, 2, rows_and_columns = True)"
   ]
  },
  {
   "cell_type": "code",
   "execution_count": 51,
   "id": "9f98b7f9",
   "metadata": {
    "scrolled": false
   },
   "outputs": [
    {
     "name": "stdout",
     "output_type": "stream",
     "text": [
      "['Photo Editor & Candy Camera & Grid & ScrapBook', 'ART_AND_DESIGN', '4.1', '159', '19M', '10,000+', 'Free', '0', 'Everyone', 'Art & Design', 'January 7, 2018', '1.0.0', '4.0.3 and up']\n",
      "\n",
      "\n",
      "['U Launcher Lite – FREE Live Cool Themes, Hide Apps', 'ART_AND_DESIGN', '4.7', '87510', '8.7M', '5,000,000+', 'Free', '0', 'Everyone', 'Art & Design', 'August 1, 2018', '1.2.4', '4.0.3 and up']\n",
      "\n",
      "\n",
      "Number of rows: 8864\n",
      "Number of columns: 13\n"
     ]
    }
   ],
   "source": [
    "android_clean3 = []\n",
    "for app in android_clean2:\n",
    "    price = app[7] # There are symbols in Android data' prices so we cannot use float() \n",
    "    if price == '0.0' or price == '0':\n",
    "        android_clean3.append(app)\n",
    "explore_data(android_clean3, 0, 2, rows_and_columns = True)"
   ]
  },
  {
   "cell_type": "markdown",
   "id": "cf11e48f",
   "metadata": {},
   "source": [
    "Though it is not our concern right now, one can notice that the proportion of paid apps on AppStore is much bigger than on Google Play."
   ]
  },
  {
   "cell_type": "markdown",
   "id": "f83b97ba",
   "metadata": {},
   "source": [
    "## Analyzing the Data"
   ]
  },
  {
   "cell_type": "markdown",
   "id": "7837df72",
   "metadata": {},
   "source": [
    "Our goal is to determine what kind of app is more likely to attract users and thus genereate more revenue. Let's suppose we have the following validation strategy for an app idea:\n",
    "- Build a minimal Android version of the app, and add it to Google Play.\n",
    "- If the app has a good response from users, we develop it further.\n",
    "- If the app is profitable after six months, we build an iOS version of the app and add it to the App Store.\n",
    "\n",
    "Because our end goal is to add the app on both Google Play and the App Store, we need to find app profiles that are successful in both markets. Thus we begin the analysis by determining the most common genres for each market."
   ]
  },
  {
   "cell_type": "code",
   "execution_count": 52,
   "id": "e9feb67c",
   "metadata": {},
   "outputs": [],
   "source": [
    "# Create a function that makes a frequency table for any given column of the dataset\n",
    "def freq_table(dataset, index):\n",
    "    fr_table = {}\n",
    "    total = len(dataset)\n",
    "    for row in dataset:\n",
    "        key = row[index]\n",
    "        if key in fr_table:\n",
    "            fr_table[key] += 1\n",
    "        else:\n",
    "            fr_table[key] = 1\n",
    "    for key in fr_table:\n",
    "        fr_table[key] = round(fr_table[key]/total*100, 2) # Show distribution as percentage of total\n",
    "    return fr_table"
   ]
  },
  {
   "cell_type": "code",
   "execution_count": 53,
   "id": "60bf2604",
   "metadata": {},
   "outputs": [],
   "source": [
    "# Create a function to sort the frequency table\n",
    "def display_table(dataset, index):\n",
    "    table = freq_table(dataset, index)\n",
    "    table_display = []\n",
    "    for key in table:\n",
    "        key_val_as_tuple = (table[key], key)\n",
    "        table_display.append(key_val_as_tuple)\n",
    "\n",
    "    table_sorted = sorted(table_display, reverse = True)\n",
    "    for entry in table_sorted:\n",
    "        print(entry[1], ':', entry[0])"
   ]
  },
  {
   "cell_type": "code",
   "execution_count": 54,
   "id": "01d7d26c",
   "metadata": {
    "scrolled": true
   },
   "outputs": [
    {
     "name": "stdout",
     "output_type": "stream",
     "text": [
      "Games : 58.16\n",
      "Entertainment : 7.88\n",
      "Photo & Video : 4.97\n",
      "Education : 3.66\n",
      "Social Networking : 3.29\n",
      "Shopping : 2.61\n",
      "Utilities : 2.51\n",
      "Sports : 2.14\n",
      "Music : 2.05\n",
      "Health & Fitness : 2.02\n",
      "Productivity : 1.74\n",
      "Lifestyle : 1.58\n",
      "News : 1.33\n",
      "Travel : 1.24\n",
      "Finance : 1.12\n",
      "Weather : 0.87\n",
      "Food & Drink : 0.81\n",
      "Reference : 0.56\n",
      "Business : 0.53\n",
      "Book : 0.43\n",
      "Navigation : 0.19\n",
      "Medical : 0.19\n",
      "Catalogs : 0.12\n"
     ]
    }
   ],
   "source": [
    "# Use new functions to look at most popular genres for both datasets\n",
    "display_table(ios_clean3, 12)"
   ]
  },
  {
   "cell_type": "code",
   "execution_count": 55,
   "id": "0db28d33",
   "metadata": {
    "scrolled": true
   },
   "outputs": [
    {
     "name": "stdout",
     "output_type": "stream",
     "text": [
      "FAMILY : 18.91\n",
      "GAME : 9.72\n",
      "TOOLS : 8.46\n",
      "BUSINESS : 4.59\n",
      "LIFESTYLE : 3.9\n",
      "PRODUCTIVITY : 3.89\n",
      "FINANCE : 3.7\n",
      "MEDICAL : 3.53\n",
      "SPORTS : 3.4\n",
      "PERSONALIZATION : 3.32\n",
      "COMMUNICATION : 3.24\n",
      "HEALTH_AND_FITNESS : 3.08\n",
      "PHOTOGRAPHY : 2.94\n",
      "NEWS_AND_MAGAZINES : 2.8\n",
      "SOCIAL : 2.66\n",
      "TRAVEL_AND_LOCAL : 2.34\n",
      "SHOPPING : 2.25\n",
      "BOOKS_AND_REFERENCE : 2.14\n",
      "DATING : 1.86\n",
      "VIDEO_PLAYERS : 1.79\n",
      "MAPS_AND_NAVIGATION : 1.4\n",
      "FOOD_AND_DRINK : 1.24\n",
      "EDUCATION : 1.16\n",
      "ENTERTAINMENT : 0.96\n",
      "LIBRARIES_AND_DEMO : 0.94\n",
      "AUTO_AND_VEHICLES : 0.93\n",
      "HOUSE_AND_HOME : 0.82\n",
      "WEATHER : 0.8\n",
      "EVENTS : 0.71\n",
      "PARENTING : 0.65\n",
      "ART_AND_DESIGN : 0.64\n",
      "COMICS : 0.62\n",
      "BEAUTY : 0.6\n"
     ]
    }
   ],
   "source": [
    "display_table(android_clean3, 1)"
   ]
  },
  {
   "cell_type": "code",
   "execution_count": 56,
   "id": "7151e7c2",
   "metadata": {
    "scrolled": true
   },
   "outputs": [
    {
     "name": "stdout",
     "output_type": "stream",
     "text": [
      "Tools : 8.45\n",
      "Entertainment : 6.07\n",
      "Education : 5.35\n",
      "Business : 4.59\n",
      "Productivity : 3.89\n",
      "Lifestyle : 3.89\n",
      "Finance : 3.7\n",
      "Medical : 3.53\n",
      "Sports : 3.46\n",
      "Personalization : 3.32\n",
      "Communication : 3.24\n",
      "Action : 3.1\n",
      "Health & Fitness : 3.08\n",
      "Photography : 2.94\n",
      "News & Magazines : 2.8\n",
      "Social : 2.66\n",
      "Travel & Local : 2.32\n",
      "Shopping : 2.25\n",
      "Books & Reference : 2.14\n",
      "Simulation : 2.04\n",
      "Dating : 1.86\n",
      "Arcade : 1.85\n",
      "Video Players & Editors : 1.77\n",
      "Casual : 1.76\n",
      "Maps & Navigation : 1.4\n",
      "Food & Drink : 1.24\n",
      "Puzzle : 1.13\n",
      "Racing : 0.99\n",
      "Role Playing : 0.94\n",
      "Libraries & Demo : 0.94\n",
      "Auto & Vehicles : 0.93\n",
      "Strategy : 0.91\n",
      "House & Home : 0.82\n",
      "Weather : 0.8\n",
      "Events : 0.71\n",
      "Adventure : 0.68\n",
      "Comics : 0.61\n",
      "Beauty : 0.6\n",
      "Art & Design : 0.6\n",
      "Parenting : 0.5\n",
      "Card : 0.45\n",
      "Casino : 0.43\n",
      "Trivia : 0.42\n",
      "Educational;Education : 0.39\n",
      "Board : 0.38\n",
      "Educational : 0.37\n",
      "Education;Education : 0.34\n",
      "Word : 0.26\n",
      "Casual;Pretend Play : 0.24\n",
      "Music : 0.2\n",
      "Racing;Action & Adventure : 0.17\n",
      "Puzzle;Brain Games : 0.17\n",
      "Entertainment;Music & Video : 0.17\n",
      "Casual;Brain Games : 0.14\n",
      "Casual;Action & Adventure : 0.14\n",
      "Arcade;Action & Adventure : 0.12\n",
      "Action;Action & Adventure : 0.1\n",
      "Educational;Pretend Play : 0.09\n",
      "Simulation;Action & Adventure : 0.08\n",
      "Parenting;Education : 0.08\n",
      "Entertainment;Brain Games : 0.08\n",
      "Board;Brain Games : 0.08\n",
      "Parenting;Music & Video : 0.07\n",
      "Educational;Brain Games : 0.07\n",
      "Casual;Creativity : 0.07\n",
      "Art & Design;Creativity : 0.07\n",
      "Education;Pretend Play : 0.06\n",
      "Role Playing;Pretend Play : 0.05\n",
      "Education;Creativity : 0.05\n",
      "Role Playing;Action & Adventure : 0.03\n",
      "Puzzle;Action & Adventure : 0.03\n",
      "Entertainment;Creativity : 0.03\n",
      "Entertainment;Action & Adventure : 0.03\n",
      "Educational;Creativity : 0.03\n",
      "Educational;Action & Adventure : 0.03\n",
      "Education;Music & Video : 0.03\n",
      "Education;Brain Games : 0.03\n",
      "Education;Action & Adventure : 0.03\n",
      "Adventure;Action & Adventure : 0.03\n",
      "Video Players & Editors;Music & Video : 0.02\n",
      "Sports;Action & Adventure : 0.02\n",
      "Simulation;Pretend Play : 0.02\n",
      "Puzzle;Creativity : 0.02\n",
      "Music;Music & Video : 0.02\n",
      "Entertainment;Pretend Play : 0.02\n",
      "Casual;Education : 0.02\n",
      "Board;Action & Adventure : 0.02\n",
      "Video Players & Editors;Creativity : 0.01\n",
      "Trivia;Education : 0.01\n",
      "Travel & Local;Action & Adventure : 0.01\n",
      "Tools;Education : 0.01\n",
      "Strategy;Education : 0.01\n",
      "Strategy;Creativity : 0.01\n",
      "Strategy;Action & Adventure : 0.01\n",
      "Simulation;Education : 0.01\n",
      "Role Playing;Brain Games : 0.01\n",
      "Racing;Pretend Play : 0.01\n",
      "Puzzle;Education : 0.01\n",
      "Parenting;Brain Games : 0.01\n",
      "Music & Audio;Music & Video : 0.01\n",
      "Lifestyle;Pretend Play : 0.01\n",
      "Lifestyle;Education : 0.01\n",
      "Health & Fitness;Education : 0.01\n",
      "Health & Fitness;Action & Adventure : 0.01\n",
      "Entertainment;Education : 0.01\n",
      "Communication;Creativity : 0.01\n",
      "Comics;Creativity : 0.01\n",
      "Casual;Music & Video : 0.01\n",
      "Card;Action & Adventure : 0.01\n",
      "Books & Reference;Education : 0.01\n",
      "Art & Design;Pretend Play : 0.01\n",
      "Art & Design;Action & Adventure : 0.01\n",
      "Arcade;Pretend Play : 0.01\n",
      "Adventure;Education : 0.01\n"
     ]
    }
   ],
   "source": [
    "display_table(android_clean3, 9)"
   ]
  },
  {
   "cell_type": "markdown",
   "id": "c452e7d6",
   "metadata": {},
   "source": [
    "The frequency tables show that apps designed for fun dominate the App Store, while Google Play shows a more balanced landscape of both practical and fun apps. Now, we're going to determine the kind of apps with the most users.\n",
    "\n",
    "One way to find out what genres are the most popular (i.e. have the most users) is to calculate the average number of installs for each app genre. For the Google Play data set, we can use the average number of installs for each app genre ('Installs'), for the App Store data set we'll take the total number of user ratings as a proxy ('rating_count_tot')."
   ]
  },
  {
   "cell_type": "code",
   "execution_count": 57,
   "id": "6fdc75bc",
   "metadata": {
    "scrolled": false
   },
   "outputs": [
    {
     "name": "stdout",
     "output_type": "stream",
     "text": [
      "Productivity  :  21028\n",
      "Weather  :  52280\n",
      "Shopping  :  26920\n",
      "Reference  :  74942\n",
      "Finance  :  31468\n",
      "Music  :  57327\n",
      "Utilities  :  18684\n",
      "Travel  :  28244\n",
      "Social Networking  :  71548\n",
      "Sports  :  23009\n",
      "Health & Fitness  :  23298\n",
      "Games  :  22789\n",
      "Food & Drink  :  33334\n",
      "News  :  21248\n",
      "Book  :  39758\n",
      "Photo & Video  :  28442\n",
      "Entertainment  :  14030\n",
      "Business  :  7491\n",
      "Lifestyle  :  16486\n",
      "Education  :  7004\n",
      "Navigation  :  86090\n",
      "Medical  :  612\n",
      "Catalogs  :  4004\n"
     ]
    }
   ],
   "source": [
    "# Create frequency table for genres based on total number of user ratings (iOS dataset)\n",
    "table = freq_table(ios_clean3, 12)\n",
    "for genre in table:\n",
    "    total = 0\n",
    "    len_genre = 0\n",
    "    for row in ios_clean3:\n",
    "        genre_app = row[12]\n",
    "        if genre_app == genre:\n",
    "            users = float(row[6]) # Take the total number of user ratings as a proxy for popularity\n",
    "            total += users\n",
    "            len_genre += 1\n",
    "    aver_users = round(total / len_genre) # Show average number of user rating per genre\n",
    "    print(genre, ' : ', aver_users)"
   ]
  },
  {
   "cell_type": "markdown",
   "id": "dd031a3f",
   "metadata": {},
   "source": [
    "Most popular app genres on AppStore are Social Networking, Navigation, and Reference (apps that assist the user in accessing or retrieving information)."
   ]
  },
  {
   "cell_type": "code",
   "execution_count": 58,
   "id": "8f6892b0",
   "metadata": {
    "scrolled": true
   },
   "outputs": [
    {
     "name": "stdout",
     "output_type": "stream",
     "text": [
      "ART_AND_DESIGN  :  1.99\n",
      "AUTO_AND_VEHICLES  :  0.65\n",
      "BEAUTY  :  0.51\n",
      "BOOKS_AND_REFERENCE  :  8.77\n",
      "BUSINESS  :  1.71\n",
      "COMICS  :  0.82\n",
      "COMMUNICATION  :  38.46\n",
      "DATING  :  0.85\n",
      "EDUCATION  :  1.83\n",
      "ENTERTAINMENT  :  11.64\n",
      "EVENTS  :  0.25\n",
      "FINANCE  :  1.39\n",
      "FOOD_AND_DRINK  :  1.92\n",
      "HEALTH_AND_FITNESS  :  4.19\n",
      "HOUSE_AND_HOME  :  1.33\n",
      "LIBRARIES_AND_DEMO  :  0.64\n",
      "LIFESTYLE  :  1.44\n",
      "GAME  :  15.59\n",
      "FAMILY  :  3.7\n",
      "MEDICAL  :  0.12\n",
      "SOCIAL  :  23.25\n",
      "SHOPPING  :  7.04\n",
      "PHOTOGRAPHY  :  17.84\n",
      "SPORTS  :  3.64\n",
      "TRAVEL_AND_LOCAL  :  13.98\n",
      "TOOLS  :  10.8\n",
      "PERSONALIZATION  :  5.2\n",
      "PRODUCTIVITY  :  16.79\n",
      "PARENTING  :  0.54\n",
      "WEATHER  :  5.07\n",
      "VIDEO_PLAYERS  :  24.73\n",
      "NEWS_AND_MAGAZINES  :  9.55\n",
      "MAPS_AND_NAVIGATION  :  4.06\n"
     ]
    }
   ],
   "source": [
    "# Create frequency table for categories based on the number of installation (Android dataset) \n",
    "table = freq_table(android_clean3, 1)\n",
    "for category in table:\n",
    "    total = 0\n",
    "    len_category = 0\n",
    "    for row in android_clean3:\n",
    "        category_app = row[1]\n",
    "        if category_app == category:\n",
    "            installs = row[5]\n",
    "            installs = installs.replace(',', '') # Remove ','\n",
    "            installs = installs.replace('+', '') # Remove '+'\n",
    "            installs = float(installs) / 1000000 # Convert to float and show in millions\n",
    "            total += installs\n",
    "            len_category += 1\n",
    "    aver_installs = round(total / len_category, 2) # Show average number of installs per category\n",
    "    print(category, ' : ', aver_installs)"
   ]
  },
  {
   "cell_type": "markdown",
   "id": "098ae843",
   "metadata": {},
   "source": [
    "The situation is quite different for Google Play, where most installed apps are Communication, Game, Social, Photography, Travel, and Video Players."
   ]
  },
  {
   "cell_type": "markdown",
   "id": "bcc3ac07",
   "metadata": {},
   "source": [
    "## Conclusion"
   ]
  },
  {
   "cell_type": "markdown",
   "id": "8fc6f03f",
   "metadata": {},
   "source": [
    "We analyzed app data across both iOS and Android app markets to understand which apps appeal to users, and which ones we need to focus upon.\n",
    "\n",
    "We analysed AppStore and Google Play data, removed apps irrelevant to our project's objectives, and investigated the most popular genres.\n",
    "\n",
    "Looking at both AppStore and Google Play analytics, we can conclude that our developers should focus on new social networking apps (one of the hottest categories on both marketplaces), the success of which may, however, be dependent on what new features we can offer users in comparison to established social networks (Facebook, Telegram, Whatsapp, etc.).\n",
    "\n",
    "Alternatively, we could explore opportunities in a less saturated segment by creating a dictionary or some other reference app, using cutting-edge technology such as ChatGPT or Midjourney to give us a competitive edge."
   ]
  }
 ],
 "metadata": {
  "kernelspec": {
   "display_name": "Python 3 (ipykernel)",
   "language": "python",
   "name": "python3"
  },
  "language_info": {
   "codemirror_mode": {
    "name": "ipython",
    "version": 3
   },
   "file_extension": ".py",
   "mimetype": "text/x-python",
   "name": "python",
   "nbconvert_exporter": "python",
   "pygments_lexer": "ipython3",
   "version": "3.9.13"
  }
 },
 "nbformat": 4,
 "nbformat_minor": 5
}
