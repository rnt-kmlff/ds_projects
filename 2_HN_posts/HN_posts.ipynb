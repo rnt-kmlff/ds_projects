{
 "cells": [
  {
   "cell_type": "markdown",
   "id": "f3732164",
   "metadata": {},
   "source": [
    "# Hacker News Posts - Ask HN or Show HN?"
   ]
  },
  {
   "cell_type": "markdown",
   "id": "06eb63d9",
   "metadata": {},
   "source": [
    "There are two specific types of posts on Hacker News - Ask HN and Show HN. Users submit Ask HN posts to ask the Hacker News community a specific question, and Show HN posts to show the Hacker News community a project, product, or just something interesting.\n",
    "\n",
    "The goal of the project is to analyze what kind of posts on Hacker News website are commented the most, Ask or Show HN.\n",
    "\n",
    "We will examine a data set containing Hacker News posts from September 2015 to September 2016.\n",
    "\n",
    "Source of dataset:\n",
    "https://www.kaggle.com/datasets/hacker-news/hacker-news-posts\n",
    "\n",
    "The dataset includes the following columns:\n",
    "- id: the unique identifier from Hacker News for the post\n",
    "- title: title of the post (self explanatory)\n",
    "- url: the url of the item being linked to\n",
    "- num_points: the number of upvotes the post received\n",
    "- num_comments: the number of comments the post received\n",
    "- author: the name of the account that made the post\n",
    "- created_at: the date and time the post was made (the time zone is Eastern Time in the US)"
   ]
  },
  {
   "cell_type": "code",
   "execution_count": 1,
   "id": "3f953ebb",
   "metadata": {},
   "outputs": [],
   "source": [
    "# Open dataset and store it as a list of lists\n",
    "opened_hn = open('HN_posts_year_to_Sep_26_2016.csv')\n",
    "\n",
    "from csv import reader # import function reader from csv module\n",
    "read_hn = reader(opened_hn)\n",
    "\n",
    "hn = list(read_hn)"
   ]
  },
  {
   "cell_type": "markdown",
   "id": "88861e90",
   "metadata": {},
   "source": [
    "## Snapshot of HN data set"
   ]
  },
  {
   "cell_type": "code",
   "execution_count": 2,
   "id": "f90468d4",
   "metadata": {
    "scrolled": true
   },
   "outputs": [
    {
     "name": "stdout",
     "output_type": "stream",
     "text": [
      "The dataset has 293119 entries and a header \n",
      "\n",
      "['id', 'title', 'url', 'num_points', 'num_comments', 'author', 'created_at'] \n",
      "\n",
      "['12579008', 'You have two days to comment if you want stem cells to be classified as your own', 'http://www.regulations.gov/document?D=FDA-2015-D-3719-0018', '1', '0', 'altstar', '9/26/2016 3:26'] \n",
      "\n",
      "['12579005', 'SQLAR  the SQLite Archiver', 'https://www.sqlite.org/sqlar/doc/trunk/README.md', '1', '0', 'blacksqr', '9/26/2016 3:24'] \n",
      "\n",
      "['12578997', 'What if we just printed a flatscreen television on the side of our boxes?', 'https://medium.com/vanmoof/our-secrets-out-f21c1f03fdc8#.ietxmez43', '1', '0', 'pavel_lishin', '9/26/2016 3:19'] \n",
      "\n",
      "['12578989', 'algorithmic music', 'http://cacm.acm.org/magazines/2011/7/109891-algorithmic-composition/fulltext', '1', '0', 'poindontcare', '9/26/2016 3:16'] \n",
      "\n"
     ]
    }
   ],
   "source": [
    "# Take a look at the dataset\n",
    "print(\"The dataset has\", len(hn[1:]), \"entries\", \"and a header\",'\\n')\n",
    "for row in hn[:5]:\n",
    "    print(row, '\\n')"
   ]
  },
  {
   "cell_type": "code",
   "execution_count": 21,
   "id": "16a0cd9d",
   "metadata": {
    "scrolled": false
   },
   "outputs": [
    {
     "name": "stdout",
     "output_type": "stream",
     "text": [
      "212719 posts ( 73.0 % of all HN posts) received zero comments \n",
      "\n"
     ]
    }
   ],
   "source": [
    "count_comments = 0\n",
    "for row in hn[1:]:\n",
    "    num_comments = int(row[4])\n",
    "    if num_comments != 0:\n",
    "        count_comments += 1\n",
    "print(len(hn) - count_comments,\n",
    "      \"posts (\",\n",
    "      round(1 - count_comments/len(hn), 2)*100,\n",
    "      \"% of all HN posts)\",\n",
    "      \"received zero comments\", '\\n')"
   ]
  },
  {
   "cell_type": "markdown",
   "id": "763dadc4",
   "metadata": {},
   "source": [
    "## Data Cleaning"
   ]
  },
  {
   "cell_type": "markdown",
   "id": "b2852ed2",
   "metadata": {},
   "source": [
    "To better understand which posts get the most attention, we will reduce the dataset by removing all submissions that didn't receive any comments"
   ]
  },
  {
   "cell_type": "code",
   "execution_count": 22,
   "id": "85236a51",
   "metadata": {
    "scrolled": false
   },
   "outputs": [
    {
     "name": "stdout",
     "output_type": "stream",
     "text": [
      "Reduced dataset has 80401 entries \n",
      "\n",
      "['12578975', 'Saving the Hassle of Shopping', 'https://blog.menswr.com/2016/09/07/whats-new-with-your-style-feed/', '1', '1', 'bdoux', '9/26/2016 3:13'] \n",
      "\n",
      "['12578908', 'Ask HN: What TLD do you use for local development?', '', '4', '7', 'Sevrene', '9/26/2016 2:53'] \n",
      "\n",
      "['12578822', 'Amazons Algorithms Dont Find You the Best Deals', 'https://www.technologyreview.com/s/602442/amazons-algorithms-dont-find-you-the-best-deals/', '1', '1', 'yarapavan', '9/26/2016 2:26'] \n",
      "\n",
      "['12578694', 'Emergency dose of epinephrine that does not cost an arm and a leg', 'http://m.imgur.com/gallery/th6Ua', '2', '1', 'dredmorbius', '9/26/2016 1:54'] \n",
      "\n",
      "['12578624', 'Phone Makers Could Cut Off Drivers. So Why Dont They?', 'http://www.nytimes.com/2016/09/25/technology/phone-makers-could-cut-off-drivers-so-why-dont-they.html', '4', '1', 'danso', '9/26/2016 1:37'] \n",
      "\n"
     ]
    }
   ],
   "source": [
    "hn_short = []\n",
    "for row in hn[1:]:\n",
    "    num_comments = int(row[4])\n",
    "    if num_comments != 0:\n",
    "        hn_short.append(row)\n",
    "\n",
    "#Take a look at a reduced dataset\n",
    "print(\"Reduced dataset has\", len(hn_short), \"entries\", '\\n') \n",
    "\n",
    "for row in hn_short[:5]:\n",
    "    print(row, '\\n')"
   ]
  },
  {
   "cell_type": "markdown",
   "id": "648fd208",
   "metadata": {},
   "source": [
    "We'll compare these two types of posts to determine the following:\n",
    "- Do Ask HN or Show HN receive more comments on average?\n",
    "- Do Ask HN or Show HN receive more upvotes on average?\n",
    "- Do posts created at a certain time receive more comments on average?"
   ]
  },
  {
   "cell_type": "code",
   "execution_count": 4,
   "id": "e853a56f",
   "metadata": {
    "scrolled": true
   },
   "outputs": [
    {
     "name": "stdout",
     "output_type": "stream",
     "text": [
      "Ask HN posts dataset has 6911 entries \n",
      "\n",
      "9.0 % of commented HN posts are Ask HN posts \n",
      "\n",
      "Show HN posts dataset has 5059 entries \n",
      "\n",
      "6.0 % of commented HN posts are Show HN posts \n",
      "\n",
      "Other posts dataset has 68431 entries \n",
      "\n",
      "85.0 % of commented HN posts are Other posts \n",
      "\n"
     ]
    }
   ],
   "source": [
    "# Separate Ask HN, Show HN, and all other posts\n",
    "ask_posts = []\n",
    "show_posts = []\n",
    "other_posts = []\n",
    "\n",
    "for row in hn_short:\n",
    "    title = row[1].lower() # extract the title of the post and make it lowercase for easy comparison\n",
    "    if title.startswith('ask hn'): # if title starts with 'ask hn' the row goes to new ask posts dataset\n",
    "        ask_posts.append(row)\n",
    "    elif title.startswith('show hn'):\n",
    "        show_posts.append(row)\n",
    "    else:\n",
    "        other_posts.append(row)\n",
    "\n",
    "#Take a look at Ask HN, Show HN and other posts datasets\n",
    "print(\"Ask HN posts dataset has\", len(ask_posts), \"entries\", '\\n') \n",
    "print(round(len(ask_posts)/len(hn_short), 2)*100, \"% of commented HN posts are Ask HN posts\", '\\n')\n",
    "\n",
    "print(\"Show HN posts dataset has\", len(show_posts), \"entries\", '\\n') \n",
    "print(round(len(show_posts)/len(hn_short), 2)*100, \"% of commented HN posts are Show HN posts\", '\\n')\n",
    "\n",
    "print(\"Other posts dataset has\", len(other_posts), \"entries\", '\\n') \n",
    "print(round(len(other_posts)/len(hn_short), 2)*100, \"% of commented HN posts are Other posts\", '\\n')"
   ]
  },
  {
   "cell_type": "markdown",
   "id": "f119d768",
   "metadata": {},
   "source": [
    "## Comparison of Ask HN and Show HN posts"
   ]
  },
  {
   "cell_type": "markdown",
   "id": "ae23f298",
   "metadata": {},
   "source": [
    "Now we can compare which posts, Ask HN or Show HN, receive more comments and upvotes on average"
   ]
  },
  {
   "cell_type": "code",
   "execution_count": 24,
   "id": "1879e1fb",
   "metadata": {
    "scrolled": false
   },
   "outputs": [
    {
     "name": "stdout",
     "output_type": "stream",
     "text": [
      "Ask HN posts on average receive 13.7 comments and 14.4 upvotes\n",
      "Show HN posts on average receive 9.8 comments and 26.6 upvotes\n"
     ]
    }
   ],
   "source": [
    "# Count average Ask HN comments and upvotes\n",
    "total_ask_comments = 0\n",
    "total_ask_upvotes = 0\n",
    "for row in ask_posts:\n",
    "    num_comments = int(row[4])\n",
    "    num_upvotes = int(row[3])\n",
    "    total_ask_comments += num_comments\n",
    "    total_ask_upvotes += num_upvotes\n",
    "\n",
    "avg_ask_comments = total_ask_comments / len(ask_posts)\n",
    "avg_ask_upvotes = total_ask_upvotes / len(ask_posts)\n",
    "print('Ask HN posts on average receive',\n",
    "      round(avg_ask_comments, 1),\n",
    "      'comments and',\n",
    "      round(avg_ask_upvotes, 1),\n",
    "      'upvotes')\n",
    "\n",
    "# Count average Show HN comments and upvotes\n",
    "total_show_comments = 0\n",
    "total_show_upvotes = 0\n",
    "for row in show_posts:\n",
    "    num_comments = int(row[4])\n",
    "    num_upvotes = int(row[3])\n",
    "    total_show_comments += num_comments\n",
    "    total_show_upvotes += num_upvotes\n",
    "\n",
    "avg_show_comments = total_show_comments / len(show_posts)\n",
    "avg_show_upvotes = total_show_upvotes / len(show_posts)\n",
    "print('Show HN posts on average receive',\n",
    "      round(avg_show_comments, 1),\n",
    "      'comments and',\n",
    "      round(avg_show_upvotes, 1),\n",
    "      'upvotes')"
   ]
  },
  {
   "cell_type": "markdown",
   "id": "0dde1699",
   "metadata": {},
   "source": [
    "On average, HN users tend to comment more on posts that ask questions, but upvote more posts that show something. Since ask posts are more likely to receive comments, we'll focus our remaining analysis just on these posts."
   ]
  },
  {
   "cell_type": "markdown",
   "id": "567cd9d3",
   "metadata": {},
   "source": [
    "## What time is best to post Ask HN?"
   ]
  },
  {
   "cell_type": "markdown",
   "id": "70242535",
   "metadata": {},
   "source": [
    "Next, we'll determine if ask posts created at a certain time are more likely to attract comments"
   ]
  },
  {
   "cell_type": "code",
   "execution_count": 6,
   "id": "0b90c835",
   "metadata": {},
   "outputs": [],
   "source": [
    "import datetime as dt # import datetime module to work with dates and times of posts"
   ]
  },
  {
   "cell_type": "code",
   "execution_count": 7,
   "id": "1f8af721",
   "metadata": {},
   "outputs": [
    {
     "name": "stdout",
     "output_type": "stream",
     "text": [
      "[[datetime.datetime(2016, 9, 26, 2, 53), 7], [datetime.datetime(2016, 9, 26, 1, 17), 3], [datetime.datetime(2016, 9, 25, 22, 48), 3], [datetime.datetime(2016, 9, 25, 21, 50), 2], [datetime.datetime(2016, 9, 25, 19, 30), 1]]\n"
     ]
    }
   ],
   "source": [
    "result_list = []\n",
    "for row in ask_posts:\n",
    "    created_at = dt.datetime.strptime(row[6], '%m/%d/%Y %H:%M') # store the creation time \n",
    "                                                                # of the post as a datetime object\n",
    "    num_comments = int(row[4]) # store the number of comments for the post\n",
    "    result_list.append([created_at, num_comments])\n",
    "print(result_list[:5])"
   ]
  },
  {
   "cell_type": "code",
   "execution_count": 8,
   "id": "1065b95a",
   "metadata": {},
   "outputs": [
    {
     "name": "stdout",
     "output_type": "stream",
     "text": [
      "{'02': 227, '01': 223, '22': 287, '21': 407, '19': 420, '17': 404, '15': 467, '14': 378, '13': 326, '11': 251, '10': 219, '09': 176, '07': 157, '03': 212, '16': 415, '08': 190, '00': 231, '23': 276, '20': 392, '18': 452, '12': 274, '04': 186, '06': 176, '05': 165} {'02': 2996, '01': 2089, '22': 3372, '21': 4500, '19': 3954, '17': 5547, '15': 18525, '14': 4972, '13': 7245, '11': 2797, '10': 3013, '09': 1477, '07': 1585, '03': 2154, '16': 4466, '08': 2362, '00': 2277, '23': 2297, '20': 4462, '18': 4877, '12': 4234, '04': 2360, '06': 1587, '05': 1838}\n"
     ]
    }
   ],
   "source": [
    "# Create two auxillary dictionaries to store how many posts were created at each hour of the day,\n",
    "# and how many comments were given to posts created at each hour\n",
    "counts_by_hour = {}\n",
    "comments_by_hour = {}\n",
    "for row in result_list:\n",
    "    hour = row[0].strftime('%H') # extract only the hour the post was created\n",
    "    comments = row[1]\n",
    "    if hour in counts_by_hour:\n",
    "        counts_by_hour[hour] += 1\n",
    "        comments_by_hour[hour] += comments\n",
    "    else:\n",
    "        counts_by_hour[hour] = 1\n",
    "        comments_by_hour[hour] = comments\n",
    "print(counts_by_hour, comments_by_hour)"
   ]
  },
  {
   "cell_type": "code",
   "execution_count": 9,
   "id": "f4a7704f",
   "metadata": {},
   "outputs": [
    {
     "name": "stdout",
     "output_type": "stream",
     "text": [
      "[['02', 13.2], ['01', 9.4], ['22', 11.7], ['21', 11.1], ['19', 9.4], ['17', 13.7], ['15', 39.7], ['14', 13.2], ['13', 22.2], ['11', 11.1], ['10', 13.8], ['09', 8.4], ['07', 10.1], ['03', 10.2], ['16', 10.8], ['08', 12.4], ['00', 9.9], ['23', 8.3], ['20', 11.4], ['18', 10.8], ['12', 15.5], ['04', 12.7], ['06', 9.0], ['05', 11.1]]\n"
     ]
    }
   ],
   "source": [
    "# Create a list with average number of comments per post for each hour of the day\n",
    "avg_comments_by_hour = []\n",
    "for hour in counts_by_hour:\n",
    "    avg_comment = round(comments_by_hour[hour] / counts_by_hour[hour], 1) # calculate average comments \n",
    "                                                                        # per post and round it to 1 decimal point\n",
    "    avg_comments_by_hour.append([hour, avg_comment])\n",
    "print(avg_comments_by_hour)"
   ]
  },
  {
   "cell_type": "code",
   "execution_count": 10,
   "id": "4e68b67e",
   "metadata": {},
   "outputs": [
    {
     "name": "stdout",
     "output_type": "stream",
     "text": [
      "[[39.7, '15'], [22.2, '13'], [15.5, '12'], [13.8, '10'], [13.7, '17'], [13.2, '14'], [13.2, '02'], [12.7, '04'], [12.4, '08'], [11.7, '22'], [11.4, '20'], [11.1, '21'], [11.1, '11'], [11.1, '05'], [10.8, '18'], [10.8, '16'], [10.2, '03'], [10.1, '07'], [9.9, '00'], [9.4, '19'], [9.4, '01'], [9.0, '06'], [8.4, '09'], [8.3, '23']]\n"
     ]
    }
   ],
   "source": [
    "# Sorting the list by highest average number of comments per post\n",
    "avg_comments = []\n",
    "for row in avg_comments_by_hour:\n",
    "    avg_comments.append([row[1], row[0]])\n",
    "sorted_avg_comments = sorted(avg_comments, reverse = True)\n",
    "print(sorted_avg_comments)"
   ]
  },
  {
   "cell_type": "code",
   "execution_count": 11,
   "id": "0ed0ce4f",
   "metadata": {
    "scrolled": true
   },
   "outputs": [
    {
     "name": "stdout",
     "output_type": "stream",
     "text": [
      "Top 5 Hours for Ask Posts Comments:\n",
      "15:00  :  39.7 average comments per post\n",
      "13:00  :  22.2 average comments per post\n",
      "12:00  :  15.5 average comments per post\n",
      "10:00  :  13.8 average comments per post\n",
      "17:00  :  13.7 average comments per post\n"
     ]
    }
   ],
   "source": [
    "print('Top 5 Hours for Ask Posts Comments:')\n",
    "for row in sorted_avg_comments[:5]:\n",
    "    hour = dt.datetime.strptime(row[1], '%H')\n",
    "    hour = hour.strftime('%H:%M')\n",
    "    print(hour, ' : ', row[0], 'average comments per post')"
   ]
  },
  {
   "cell_type": "markdown",
   "id": "c9817b69",
   "metadata": {},
   "source": [
    "## Conclusion"
   ]
  },
  {
   "cell_type": "markdown",
   "id": "24bd86f0",
   "metadata": {},
   "source": [
    "The goal of the project was to analyze what kind of posts on Hacker News website are commented the most, posts that ask the community (Ask HN) or posts that show something (Show HN).\n",
    "\n",
    "We found out that Ask HN posts get more comments (and less upvotes) on average than Show HN posts, implying HN users tend to say something when they are directly asked to. And the best time to ask them will be around 15:00 Eastern Time US.\n",
    "\n",
    "Finally comments/upvotes dynamic for Show HN posts suggests users prefer prefer simpler activities that do not require involvement to more complex ones. The fact that 73% of all posts on HN were never commented at all further supports this suggestion."
   ]
  }
 ],
 "metadata": {
  "kernelspec": {
   "display_name": "Python 3 (ipykernel)",
   "language": "python",
   "name": "python3"
  },
  "language_info": {
   "codemirror_mode": {
    "name": "ipython",
    "version": 3
   },
   "file_extension": ".py",
   "mimetype": "text/x-python",
   "name": "python",
   "nbconvert_exporter": "python",
   "pygments_lexer": "ipython3",
   "version": "3.9.13"
  }
 },
 "nbformat": 4,
 "nbformat_minor": 5
}
