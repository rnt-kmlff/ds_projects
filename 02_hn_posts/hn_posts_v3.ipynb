{
 "cells": [
  {
   "cell_type": "markdown",
   "id": "06eb63d9",
   "metadata": {},
   "source": [
    "# Decoding Popularity on Hacker News: A Machine Learning Approach to Predicting Post Engagement\n",
    "\n",
    "This project presents an analysis of post popularity on Hacker News using data from a 12-month period ending on April 2023. Our dataset encompasses over 300,000 posts, and our objective is to determine the factors that contribute to a post being classified as 'Popular', defined as receiving more than 8 reactions, which are a sum of comments and points.\n",
    "\n",
    "To approach this binary classification problem, we initially considered a range of machine learning models. After a comprehensive evaluation process, which included assessing models such as Support Vector Machines and Gradient Boosting Trees, we selected Logistic Regression for its performance and interpretability. The model tuning was achieved through grid search techniques, focusing on optimizing the hyperparameters and the classification threshold to improve the f1 score for the 'Popular' class.\n",
    "\n",
    "The subsequent sections will detail the methodologies applied in our exploratory data analysis, feature engineering, and model evaluation. We will also discuss the insights gained from the model coefficients, particularly in relation to the significance of words in post titles and the influence of external domains linked within these posts.\n",
    "\n",
    "---\n",
    "Source of dataset:\n",
    "https://www.kaggle.com/datasets/santiagobasulto/all-hacker-news-posts-stories-askshow-hn-polls/data"
   ]
  },
  {
   "cell_type": "code",
   "execution_count": 1,
   "id": "7ccf5701-342e-4f37-8e9a-796437c3f0c4",
   "metadata": {},
   "outputs": [],
   "source": [
    "import pandas as pd\n",
    "import numpy as np\n",
    "import matplotlib.pyplot as plt"
   ]
  },
  {
   "cell_type": "code",
   "execution_count": 2,
   "id": "89afb72c-d6fd-401f-b674-76f04cec7213",
   "metadata": {},
   "outputs": [],
   "source": [
    "pd.set_option('display.max_colwidth', None)"
   ]
  },
  {
   "cell_type": "code",
   "execution_count": 3,
   "id": "6bb2c2ad-2a60-420d-820d-0d4e6677d8f7",
   "metadata": {
    "scrolled": true
   },
   "outputs": [
    {
     "data": {
      "text/html": [
       "<div>\n",
       "<style scoped>\n",
       "    .dataframe tbody tr th:only-of-type {\n",
       "        vertical-align: middle;\n",
       "    }\n",
       "\n",
       "    .dataframe tbody tr th {\n",
       "        vertical-align: top;\n",
       "    }\n",
       "\n",
       "    .dataframe thead th {\n",
       "        text-align: right;\n",
       "    }\n",
       "</style>\n",
       "<table border=\"1\" class=\"dataframe\">\n",
       "  <thead>\n",
       "    <tr style=\"text-align: right;\">\n",
       "      <th></th>\n",
       "      <th>Object ID</th>\n",
       "      <th>Title</th>\n",
       "      <th>Post Type</th>\n",
       "      <th>Author</th>\n",
       "      <th>Created At</th>\n",
       "      <th>URL</th>\n",
       "      <th>Points</th>\n",
       "      <th>Number of Comments</th>\n",
       "    </tr>\n",
       "  </thead>\n",
       "  <tbody>\n",
       "    <tr>\n",
       "      <th>0</th>\n",
       "      <td>1</td>\n",
       "      <td>Y Combinator</td>\n",
       "      <td>story</td>\n",
       "      <td>pg</td>\n",
       "      <td>2006-10-09 18:21:51</td>\n",
       "      <td>http://ycombinator.com</td>\n",
       "      <td>61</td>\n",
       "      <td>18.0</td>\n",
       "    </tr>\n",
       "    <tr>\n",
       "      <th>1</th>\n",
       "      <td>2</td>\n",
       "      <td>A Student's Guide to Startups</td>\n",
       "      <td>story</td>\n",
       "      <td>phyllis</td>\n",
       "      <td>2006-10-09 18:30:28</td>\n",
       "      <td>http://www.paulgraham.com/mit.html</td>\n",
       "      <td>16</td>\n",
       "      <td>1.0</td>\n",
       "    </tr>\n",
       "    <tr>\n",
       "      <th>2</th>\n",
       "      <td>3</td>\n",
       "      <td>Woz Interview: the early days of Apple</td>\n",
       "      <td>story</td>\n",
       "      <td>phyllis</td>\n",
       "      <td>2006-10-09 18:40:33</td>\n",
       "      <td>http://www.foundersatwork.com/stevewozniak.html</td>\n",
       "      <td>7</td>\n",
       "      <td>1.0</td>\n",
       "    </tr>\n",
       "    <tr>\n",
       "      <th>3</th>\n",
       "      <td>4</td>\n",
       "      <td>NYC Developer Dilemma</td>\n",
       "      <td>story</td>\n",
       "      <td>onebeerdave</td>\n",
       "      <td>2006-10-09 18:47:42</td>\n",
       "      <td>http://avc.blogs.com/a_vc/2006/10/the_nyc_develop.html</td>\n",
       "      <td>5</td>\n",
       "      <td>1.0</td>\n",
       "    </tr>\n",
       "    <tr>\n",
       "      <th>4</th>\n",
       "      <td>5</td>\n",
       "      <td>Google, YouTube acquisition announcement could come tonight</td>\n",
       "      <td>story</td>\n",
       "      <td>perler</td>\n",
       "      <td>2006-10-09 18:51:04</td>\n",
       "      <td>http://www.techcrunch.com/2006/10/09/google-youtube-sign-more-separate-deals/</td>\n",
       "      <td>7</td>\n",
       "      <td>1.0</td>\n",
       "    </tr>\n",
       "    <tr>\n",
       "      <th>...</th>\n",
       "      <td>...</td>\n",
       "      <td>...</td>\n",
       "      <td>...</td>\n",
       "      <td>...</td>\n",
       "      <td>...</td>\n",
       "      <td>...</td>\n",
       "      <td>...</td>\n",
       "      <td>...</td>\n",
       "    </tr>\n",
       "    <tr>\n",
       "      <th>3885794</th>\n",
       "      <td>35480629</td>\n",
       "      <td>Neovim 0.9 Released</td>\n",
       "      <td>story</td>\n",
       "      <td>eugene_pirogov</td>\n",
       "      <td>2023-04-07 11:50:56</td>\n",
       "      <td>https://github.com/neovim/neovim/commit/040f1459849ab05b04f6bb1e77b3def16b4c2f2b</td>\n",
       "      <td>2</td>\n",
       "      <td>0.0</td>\n",
       "    </tr>\n",
       "    <tr>\n",
       "      <th>3885795</th>\n",
       "      <td>35480632</td>\n",
       "      <td>Analogy between GPTs of today and CPUs from the early days of computing</td>\n",
       "      <td>story</td>\n",
       "      <td>cal85</td>\n",
       "      <td>2023-04-07 11:51:39</td>\n",
       "      <td>https://twitter.com/karpathy/status/1644183721405464576</td>\n",
       "      <td>1</td>\n",
       "      <td>0.0</td>\n",
       "    </tr>\n",
       "    <tr>\n",
       "      <th>3885796</th>\n",
       "      <td>35480641</td>\n",
       "      <td>Show HN: Shoogle – fast, FOSS and tracking-free Yellow Pages powered by OSM data</td>\n",
       "      <td>show_hn</td>\n",
       "      <td>midzer</td>\n",
       "      <td>2023-04-07 11:53:17</td>\n",
       "      <td>https://us.shoogle.net/</td>\n",
       "      <td>1</td>\n",
       "      <td>1.0</td>\n",
       "    </tr>\n",
       "    <tr>\n",
       "      <th>3885797</th>\n",
       "      <td>35480652</td>\n",
       "      <td>UFOs had sexual encounters with witnesses and left woman pregnant: Pentagon docs</td>\n",
       "      <td>story</td>\n",
       "      <td>Gys</td>\n",
       "      <td>2023-04-07 11:54:59</td>\n",
       "      <td>https://www.news.com.au/technology/science/space/ufos-had-sexual-encounters-with-witnesses-and-left-one-woman-pregnant-bombshell-pentagon-docs-claim/news-story/ef4f818e09d2a753deec97d02cb97599</td>\n",
       "      <td>1</td>\n",
       "      <td>0.0</td>\n",
       "    </tr>\n",
       "    <tr>\n",
       "      <th>3885798</th>\n",
       "      <td>35480661</td>\n",
       "      <td>My (never complete) Tube Tester Collection</td>\n",
       "      <td>story</td>\n",
       "      <td>belter</td>\n",
       "      <td>2023-04-07 11:56:53</td>\n",
       "      <td>http://www.jacmusic.com/Tube-testers/index-temporary-text.html#SOFIA</td>\n",
       "      <td>1</td>\n",
       "      <td>0.0</td>\n",
       "    </tr>\n",
       "  </tbody>\n",
       "</table>\n",
       "<p>3885799 rows × 8 columns</p>\n",
       "</div>"
      ],
      "text/plain": [
       "         Object ID  \\\n",
       "0                1   \n",
       "1                2   \n",
       "2                3   \n",
       "3                4   \n",
       "4                5   \n",
       "...            ...   \n",
       "3885794   35480629   \n",
       "3885795   35480632   \n",
       "3885796   35480641   \n",
       "3885797   35480652   \n",
       "3885798   35480661   \n",
       "\n",
       "                                                                                    Title  \\\n",
       "0                                                                            Y Combinator   \n",
       "1                                                           A Student's Guide to Startups   \n",
       "2                                                  Woz Interview: the early days of Apple   \n",
       "3                                                                   NYC Developer Dilemma   \n",
       "4                             Google, YouTube acquisition announcement could come tonight   \n",
       "...                                                                                   ...   \n",
       "3885794                                                               Neovim 0.9 Released   \n",
       "3885795           Analogy between GPTs of today and CPUs from the early days of computing   \n",
       "3885796  Show HN: Shoogle – fast, FOSS and tracking-free Yellow Pages powered by OSM data   \n",
       "3885797  UFOs had sexual encounters with witnesses and left woman pregnant: Pentagon docs   \n",
       "3885798                                        My (never complete) Tube Tester Collection   \n",
       "\n",
       "        Post Type          Author           Created At  \\\n",
       "0           story              pg  2006-10-09 18:21:51   \n",
       "1           story         phyllis  2006-10-09 18:30:28   \n",
       "2           story         phyllis  2006-10-09 18:40:33   \n",
       "3           story     onebeerdave  2006-10-09 18:47:42   \n",
       "4           story          perler  2006-10-09 18:51:04   \n",
       "...           ...             ...                  ...   \n",
       "3885794     story  eugene_pirogov  2023-04-07 11:50:56   \n",
       "3885795     story           cal85  2023-04-07 11:51:39   \n",
       "3885796   show_hn          midzer  2023-04-07 11:53:17   \n",
       "3885797     story             Gys  2023-04-07 11:54:59   \n",
       "3885798     story          belter  2023-04-07 11:56:53   \n",
       "\n",
       "                                                                                                                                                                                                      URL  \\\n",
       "0                                                                                                                                                                                  http://ycombinator.com   \n",
       "1                                                                                                                                                                      http://www.paulgraham.com/mit.html   \n",
       "2                                                                                                                                                         http://www.foundersatwork.com/stevewozniak.html   \n",
       "3                                                                                                                                                  http://avc.blogs.com/a_vc/2006/10/the_nyc_develop.html   \n",
       "4                                                                                                                           http://www.techcrunch.com/2006/10/09/google-youtube-sign-more-separate-deals/   \n",
       "...                                                                                                                                                                                                   ...   \n",
       "3885794                                                                                                                  https://github.com/neovim/neovim/commit/040f1459849ab05b04f6bb1e77b3def16b4c2f2b   \n",
       "3885795                                                                                                                                           https://twitter.com/karpathy/status/1644183721405464576   \n",
       "3885796                                                                                                                                                                           https://us.shoogle.net/   \n",
       "3885797  https://www.news.com.au/technology/science/space/ufos-had-sexual-encounters-with-witnesses-and-left-one-woman-pregnant-bombshell-pentagon-docs-claim/news-story/ef4f818e09d2a753deec97d02cb97599   \n",
       "3885798                                                                                                                              http://www.jacmusic.com/Tube-testers/index-temporary-text.html#SOFIA   \n",
       "\n",
       "         Points  Number of Comments  \n",
       "0            61                18.0  \n",
       "1            16                 1.0  \n",
       "2             7                 1.0  \n",
       "3             5                 1.0  \n",
       "4             7                 1.0  \n",
       "...         ...                 ...  \n",
       "3885794       2                 0.0  \n",
       "3885795       1                 0.0  \n",
       "3885796       1                 1.0  \n",
       "3885797       1                 0.0  \n",
       "3885798       1                 0.0  \n",
       "\n",
       "[3885799 rows x 8 columns]"
      ]
     },
     "execution_count": 3,
     "metadata": {},
     "output_type": "execute_result"
    }
   ],
   "source": [
    "hn = pd.read_csv('hn.csv')\n",
    "hn"
   ]
  },
  {
   "cell_type": "code",
   "execution_count": 4,
   "id": "16125d15-094c-40ed-bd92-42701ff3c1e0",
   "metadata": {
    "scrolled": true
   },
   "outputs": [
    {
     "name": "stdout",
     "output_type": "stream",
     "text": [
      "<class 'pandas.core.frame.DataFrame'>\n",
      "RangeIndex: 3885799 entries, 0 to 3885798\n",
      "Data columns (total 8 columns):\n",
      " #   Column              Dtype  \n",
      "---  ------              -----  \n",
      " 0   Object ID           int64  \n",
      " 1   Title               object \n",
      " 2   Post Type           object \n",
      " 3   Author              object \n",
      " 4   Created At          object \n",
      " 5   URL                 object \n",
      " 6   Points              int64  \n",
      " 7   Number of Comments  float64\n",
      "dtypes: float64(1), int64(2), object(5)\n",
      "memory usage: 237.2+ MB\n"
     ]
    }
   ],
   "source": [
    "hn.info()"
   ]
  },
  {
   "cell_type": "markdown",
   "id": "da1f21d9-ab16-4bac-9042-7144b28311c2",
   "metadata": {},
   "source": [
    "## Data Cleaning\n",
    "\n",
    "We will use the data for the last available 12 months (04/07/2022 - 04/07/2023). First we will convert date to datetime format."
   ]
  },
  {
   "cell_type": "code",
   "execution_count": 5,
   "id": "f3f8b71c-8834-4324-a7f1-b0f58aab85ce",
   "metadata": {},
   "outputs": [],
   "source": [
    "hn['created_at'] = pd.to_datetime(hn['Created At'])"
   ]
  },
  {
   "cell_type": "code",
   "execution_count": 6,
   "id": "8e148963-3ac8-4c58-9221-b2ad0126cf5e",
   "metadata": {
    "scrolled": true
   },
   "outputs": [
    {
     "data": {
      "text/html": [
       "<div>\n",
       "<style scoped>\n",
       "    .dataframe tbody tr th:only-of-type {\n",
       "        vertical-align: middle;\n",
       "    }\n",
       "\n",
       "    .dataframe tbody tr th {\n",
       "        vertical-align: top;\n",
       "    }\n",
       "\n",
       "    .dataframe thead th {\n",
       "        text-align: right;\n",
       "    }\n",
       "</style>\n",
       "<table border=\"1\" class=\"dataframe\">\n",
       "  <thead>\n",
       "    <tr style=\"text-align: right;\">\n",
       "      <th></th>\n",
       "      <th>Object ID</th>\n",
       "      <th>Title</th>\n",
       "      <th>Post Type</th>\n",
       "      <th>Author</th>\n",
       "      <th>Created At</th>\n",
       "      <th>URL</th>\n",
       "      <th>Points</th>\n",
       "      <th>Number of Comments</th>\n",
       "      <th>created_at</th>\n",
       "    </tr>\n",
       "  </thead>\n",
       "  <tbody>\n",
       "    <tr>\n",
       "      <th>3583114</th>\n",
       "      <td>30939000</td>\n",
       "      <td>Hi-Mom – Say hi to your mom FAST</td>\n",
       "      <td>story</td>\n",
       "      <td>maydemir</td>\n",
       "      <td>2022-04-07 00:00:25</td>\n",
       "      <td>https://github.com/tsivinsky/hi-mom</td>\n",
       "      <td>2</td>\n",
       "      <td>0.0</td>\n",
       "      <td>2022-04-07 00:00:25</td>\n",
       "    </tr>\n",
       "    <tr>\n",
       "      <th>3583115</th>\n",
       "      <td>30939037</td>\n",
       "      <td>Bear hibernation: More than a winter’s nap</td>\n",
       "      <td>story</td>\n",
       "      <td>gmays</td>\n",
       "      <td>2022-04-07 00:05:02</td>\n",
       "      <td>https://knowablemagazine.org/article/living-world/2022/bear-hibernation-more-winters-nap</td>\n",
       "      <td>3</td>\n",
       "      <td>0.0</td>\n",
       "      <td>2022-04-07 00:05:02</td>\n",
       "    </tr>\n",
       "    <tr>\n",
       "      <th>3583116</th>\n",
       "      <td>30939040</td>\n",
       "      <td>Show HN: The Causes of Latency in Computing Systems, and Why It Frustrates Us</td>\n",
       "      <td>show_hn</td>\n",
       "      <td>narner</td>\n",
       "      <td>2022-04-07 00:05:40</td>\n",
       "      <td>https://nickarner.com/notes/the-causes-of-latency-in-computing-systems-and-why-exactly-it-frustrates-us-april-6-2022/</td>\n",
       "      <td>4</td>\n",
       "      <td>0.0</td>\n",
       "      <td>2022-04-07 00:05:40</td>\n",
       "    </tr>\n",
       "    <tr>\n",
       "      <th>3583117</th>\n",
       "      <td>30939052</td>\n",
       "      <td>How much do you generate in terms of donations?</td>\n",
       "      <td>story</td>\n",
       "      <td>victor_e</td>\n",
       "      <td>2022-04-07 00:06:41</td>\n",
       "      <td>NaN</td>\n",
       "      <td>2</td>\n",
       "      <td>2.0</td>\n",
       "      <td>2022-04-07 00:06:41</td>\n",
       "    </tr>\n",
       "    <tr>\n",
       "      <th>3583118</th>\n",
       "      <td>30939055</td>\n",
       "      <td>Meet with Wallet</td>\n",
       "      <td>story</td>\n",
       "      <td>ycombdoramon</td>\n",
       "      <td>2022-04-07 00:07:18</td>\n",
       "      <td>https://meetwithwallet.xyz</td>\n",
       "      <td>2</td>\n",
       "      <td>0.0</td>\n",
       "      <td>2022-04-07 00:07:18</td>\n",
       "    </tr>\n",
       "    <tr>\n",
       "      <th>...</th>\n",
       "      <td>...</td>\n",
       "      <td>...</td>\n",
       "      <td>...</td>\n",
       "      <td>...</td>\n",
       "      <td>...</td>\n",
       "      <td>...</td>\n",
       "      <td>...</td>\n",
       "      <td>...</td>\n",
       "      <td>...</td>\n",
       "    </tr>\n",
       "    <tr>\n",
       "      <th>3885794</th>\n",
       "      <td>35480629</td>\n",
       "      <td>Neovim 0.9 Released</td>\n",
       "      <td>story</td>\n",
       "      <td>eugene_pirogov</td>\n",
       "      <td>2023-04-07 11:50:56</td>\n",
       "      <td>https://github.com/neovim/neovim/commit/040f1459849ab05b04f6bb1e77b3def16b4c2f2b</td>\n",
       "      <td>2</td>\n",
       "      <td>0.0</td>\n",
       "      <td>2023-04-07 11:50:56</td>\n",
       "    </tr>\n",
       "    <tr>\n",
       "      <th>3885795</th>\n",
       "      <td>35480632</td>\n",
       "      <td>Analogy between GPTs of today and CPUs from the early days of computing</td>\n",
       "      <td>story</td>\n",
       "      <td>cal85</td>\n",
       "      <td>2023-04-07 11:51:39</td>\n",
       "      <td>https://twitter.com/karpathy/status/1644183721405464576</td>\n",
       "      <td>1</td>\n",
       "      <td>0.0</td>\n",
       "      <td>2023-04-07 11:51:39</td>\n",
       "    </tr>\n",
       "    <tr>\n",
       "      <th>3885796</th>\n",
       "      <td>35480641</td>\n",
       "      <td>Show HN: Shoogle – fast, FOSS and tracking-free Yellow Pages powered by OSM data</td>\n",
       "      <td>show_hn</td>\n",
       "      <td>midzer</td>\n",
       "      <td>2023-04-07 11:53:17</td>\n",
       "      <td>https://us.shoogle.net/</td>\n",
       "      <td>1</td>\n",
       "      <td>1.0</td>\n",
       "      <td>2023-04-07 11:53:17</td>\n",
       "    </tr>\n",
       "    <tr>\n",
       "      <th>3885797</th>\n",
       "      <td>35480652</td>\n",
       "      <td>UFOs had sexual encounters with witnesses and left woman pregnant: Pentagon docs</td>\n",
       "      <td>story</td>\n",
       "      <td>Gys</td>\n",
       "      <td>2023-04-07 11:54:59</td>\n",
       "      <td>https://www.news.com.au/technology/science/space/ufos-had-sexual-encounters-with-witnesses-and-left-one-woman-pregnant-bombshell-pentagon-docs-claim/news-story/ef4f818e09d2a753deec97d02cb97599</td>\n",
       "      <td>1</td>\n",
       "      <td>0.0</td>\n",
       "      <td>2023-04-07 11:54:59</td>\n",
       "    </tr>\n",
       "    <tr>\n",
       "      <th>3885798</th>\n",
       "      <td>35480661</td>\n",
       "      <td>My (never complete) Tube Tester Collection</td>\n",
       "      <td>story</td>\n",
       "      <td>belter</td>\n",
       "      <td>2023-04-07 11:56:53</td>\n",
       "      <td>http://www.jacmusic.com/Tube-testers/index-temporary-text.html#SOFIA</td>\n",
       "      <td>1</td>\n",
       "      <td>0.0</td>\n",
       "      <td>2023-04-07 11:56:53</td>\n",
       "    </tr>\n",
       "  </tbody>\n",
       "</table>\n",
       "<p>302685 rows × 9 columns</p>\n",
       "</div>"
      ],
      "text/plain": [
       "         Object ID  \\\n",
       "3583114   30939000   \n",
       "3583115   30939037   \n",
       "3583116   30939040   \n",
       "3583117   30939052   \n",
       "3583118   30939055   \n",
       "...            ...   \n",
       "3885794   35480629   \n",
       "3885795   35480632   \n",
       "3885796   35480641   \n",
       "3885797   35480652   \n",
       "3885798   35480661   \n",
       "\n",
       "                                                                                    Title  \\\n",
       "3583114                                                  Hi-Mom – Say hi to your mom FAST   \n",
       "3583115                                        Bear hibernation: More than a winter’s nap   \n",
       "3583116     Show HN: The Causes of Latency in Computing Systems, and Why It Frustrates Us   \n",
       "3583117                                   How much do you generate in terms of donations?   \n",
       "3583118                                                                  Meet with Wallet   \n",
       "...                                                                                   ...   \n",
       "3885794                                                               Neovim 0.9 Released   \n",
       "3885795           Analogy between GPTs of today and CPUs from the early days of computing   \n",
       "3885796  Show HN: Shoogle – fast, FOSS and tracking-free Yellow Pages powered by OSM data   \n",
       "3885797  UFOs had sexual encounters with witnesses and left woman pregnant: Pentagon docs   \n",
       "3885798                                        My (never complete) Tube Tester Collection   \n",
       "\n",
       "        Post Type          Author           Created At  \\\n",
       "3583114     story        maydemir  2022-04-07 00:00:25   \n",
       "3583115     story           gmays  2022-04-07 00:05:02   \n",
       "3583116   show_hn          narner  2022-04-07 00:05:40   \n",
       "3583117     story        victor_e  2022-04-07 00:06:41   \n",
       "3583118     story    ycombdoramon  2022-04-07 00:07:18   \n",
       "...           ...             ...                  ...   \n",
       "3885794     story  eugene_pirogov  2023-04-07 11:50:56   \n",
       "3885795     story           cal85  2023-04-07 11:51:39   \n",
       "3885796   show_hn          midzer  2023-04-07 11:53:17   \n",
       "3885797     story             Gys  2023-04-07 11:54:59   \n",
       "3885798     story          belter  2023-04-07 11:56:53   \n",
       "\n",
       "                                                                                                                                                                                                      URL  \\\n",
       "3583114                                                                                                                                                               https://github.com/tsivinsky/hi-mom   \n",
       "3583115                                                                                                          https://knowablemagazine.org/article/living-world/2022/bear-hibernation-more-winters-nap   \n",
       "3583116                                                                             https://nickarner.com/notes/the-causes-of-latency-in-computing-systems-and-why-exactly-it-frustrates-us-april-6-2022/   \n",
       "3583117                                                                                                                                                                                               NaN   \n",
       "3583118                                                                                                                                                                        https://meetwithwallet.xyz   \n",
       "...                                                                                                                                                                                                   ...   \n",
       "3885794                                                                                                                  https://github.com/neovim/neovim/commit/040f1459849ab05b04f6bb1e77b3def16b4c2f2b   \n",
       "3885795                                                                                                                                           https://twitter.com/karpathy/status/1644183721405464576   \n",
       "3885796                                                                                                                                                                           https://us.shoogle.net/   \n",
       "3885797  https://www.news.com.au/technology/science/space/ufos-had-sexual-encounters-with-witnesses-and-left-one-woman-pregnant-bombshell-pentagon-docs-claim/news-story/ef4f818e09d2a753deec97d02cb97599   \n",
       "3885798                                                                                                                              http://www.jacmusic.com/Tube-testers/index-temporary-text.html#SOFIA   \n",
       "\n",
       "         Points  Number of Comments          created_at  \n",
       "3583114       2                 0.0 2022-04-07 00:00:25  \n",
       "3583115       3                 0.0 2022-04-07 00:05:02  \n",
       "3583116       4                 0.0 2022-04-07 00:05:40  \n",
       "3583117       2                 2.0 2022-04-07 00:06:41  \n",
       "3583118       2                 0.0 2022-04-07 00:07:18  \n",
       "...         ...                 ...                 ...  \n",
       "3885794       2                 0.0 2023-04-07 11:50:56  \n",
       "3885795       1                 0.0 2023-04-07 11:51:39  \n",
       "3885796       1                 1.0 2023-04-07 11:53:17  \n",
       "3885797       1                 0.0 2023-04-07 11:54:59  \n",
       "3885798       1                 0.0 2023-04-07 11:56:53  \n",
       "\n",
       "[302685 rows x 9 columns]"
      ]
     },
     "execution_count": 6,
     "metadata": {},
     "output_type": "execute_result"
    }
   ],
   "source": [
    "hn2 = hn[hn['created_at'] > pd.to_datetime('2022-04-07')].copy()\n",
    "hn2"
   ]
  },
  {
   "cell_type": "markdown",
   "id": "6eff5303-6b8a-4614-8158-ab55a4eff404",
   "metadata": {},
   "source": [
    "### Introducing hour as the new feature"
   ]
  },
  {
   "cell_type": "code",
   "execution_count": 7,
   "id": "10da3890-8a28-4579-9c02-5f4091485b6a",
   "metadata": {},
   "outputs": [],
   "source": [
    "import matplotlib.style as style\n",
    "\n",
    "style.use('dark_background')"
   ]
  },
  {
   "cell_type": "code",
   "execution_count": 8,
   "id": "f2207e4d-abbf-4313-9049-4f58ebd90064",
   "metadata": {},
   "outputs": [
    {
     "data": {
      "image/png": "[encoded data removed]",
      "text/plain": [
       "<Figure size 640x480 with 1 Axes>"
      ]
     },
     "metadata": {},
     "output_type": "display_data"
    }
   ],
   "source": [
    "hn2['hour_created'] = hn2['created_at'].dt.hour\n",
    "\n",
    "hn2['hour_created'].plot.hist(bins=24, color='blueviolet')\n",
    "plt.title('Posts Creation by Hour'+'\\n', size=16)\n",
    "plt.show()"
   ]
  },
  {
   "cell_type": "markdown",
   "id": "783de9fb-f7c7-4d0a-9206-64f0a9bfe964",
   "metadata": {},
   "source": [
    "Most posts are created from around 12-00 to 18-00."
   ]
  },
  {
   "cell_type": "markdown",
   "id": "4cd9fb6f-1df2-4e23-a192-e4383968947c",
   "metadata": {},
   "source": [
    "### Transforming URLs\n",
    "\n",
    "First we will extract domains from url column."
   ]
  },
  {
   "cell_type": "code",
   "execution_count": 9,
   "id": "14430bb4-298a-400d-96f3-008b9ed6ada4",
   "metadata": {},
   "outputs": [],
   "source": [
    "from urllib.parse import urlparse"
   ]
  },
  {
   "cell_type": "code",
   "execution_count": 10,
   "id": "6f8f0cea-3663-40bc-a2e7-c97e005d0647",
   "metadata": {},
   "outputs": [],
   "source": [
    "hn2['URL'] = hn2['URL'].fillna('no_url')"
   ]
  },
  {
   "cell_type": "code",
   "execution_count": 11,
   "id": "9abbb644-acc9-428e-923f-832d7e038417",
   "metadata": {
    "scrolled": true
   },
   "outputs": [
    {
     "data": {
      "text/html": [
       "<div>\n",
       "<style scoped>\n",
       "    .dataframe tbody tr th:only-of-type {\n",
       "        vertical-align: middle;\n",
       "    }\n",
       "\n",
       "    .dataframe tbody tr th {\n",
       "        vertical-align: top;\n",
       "    }\n",
       "\n",
       "    .dataframe thead th {\n",
       "        text-align: right;\n",
       "    }\n",
       "</style>\n",
       "<table border=\"1\" class=\"dataframe\">\n",
       "  <thead>\n",
       "    <tr style=\"text-align: right;\">\n",
       "      <th></th>\n",
       "      <th>Object ID</th>\n",
       "      <th>Title</th>\n",
       "      <th>Post Type</th>\n",
       "      <th>Author</th>\n",
       "      <th>Created At</th>\n",
       "      <th>URL</th>\n",
       "      <th>Points</th>\n",
       "      <th>Number of Comments</th>\n",
       "      <th>created_at</th>\n",
       "      <th>hour_created</th>\n",
       "      <th>url_domain</th>\n",
       "    </tr>\n",
       "  </thead>\n",
       "  <tbody>\n",
       "    <tr>\n",
       "      <th>3583114</th>\n",
       "      <td>30939000</td>\n",
       "      <td>Hi-Mom – Say hi to your mom FAST</td>\n",
       "      <td>story</td>\n",
       "      <td>maydemir</td>\n",
       "      <td>2022-04-07 00:00:25</td>\n",
       "      <td>https://github.com/tsivinsky/hi-mom</td>\n",
       "      <td>2</td>\n",
       "      <td>0.0</td>\n",
       "      <td>2022-04-07 00:00:25</td>\n",
       "      <td>0</td>\n",
       "      <td>github.com</td>\n",
       "    </tr>\n",
       "    <tr>\n",
       "      <th>3583115</th>\n",
       "      <td>30939037</td>\n",
       "      <td>Bear hibernation: More than a winter’s nap</td>\n",
       "      <td>story</td>\n",
       "      <td>gmays</td>\n",
       "      <td>2022-04-07 00:05:02</td>\n",
       "      <td>https://knowablemagazine.org/article/living-world/2022/bear-hibernation-more-winters-nap</td>\n",
       "      <td>3</td>\n",
       "      <td>0.0</td>\n",
       "      <td>2022-04-07 00:05:02</td>\n",
       "      <td>0</td>\n",
       "      <td>knowablemagazine.org</td>\n",
       "    </tr>\n",
       "    <tr>\n",
       "      <th>3583116</th>\n",
       "      <td>30939040</td>\n",
       "      <td>Show HN: The Causes of Latency in Computing Systems, and Why It Frustrates Us</td>\n",
       "      <td>show_hn</td>\n",
       "      <td>narner</td>\n",
       "      <td>2022-04-07 00:05:40</td>\n",
       "      <td>https://nickarner.com/notes/the-causes-of-latency-in-computing-systems-and-why-exactly-it-frustrates-us-april-6-2022/</td>\n",
       "      <td>4</td>\n",
       "      <td>0.0</td>\n",
       "      <td>2022-04-07 00:05:40</td>\n",
       "      <td>0</td>\n",
       "      <td>nickarner.com</td>\n",
       "    </tr>\n",
       "    <tr>\n",
       "      <th>3583117</th>\n",
       "      <td>30939052</td>\n",
       "      <td>How much do you generate in terms of donations?</td>\n",
       "      <td>story</td>\n",
       "      <td>victor_e</td>\n",
       "      <td>2022-04-07 00:06:41</td>\n",
       "      <td>no_url</td>\n",
       "      <td>2</td>\n",
       "      <td>2.0</td>\n",
       "      <td>2022-04-07 00:06:41</td>\n",
       "      <td>0</td>\n",
       "      <td></td>\n",
       "    </tr>\n",
       "    <tr>\n",
       "      <th>3583118</th>\n",
       "      <td>30939055</td>\n",
       "      <td>Meet with Wallet</td>\n",
       "      <td>story</td>\n",
       "      <td>ycombdoramon</td>\n",
       "      <td>2022-04-07 00:07:18</td>\n",
       "      <td>https://meetwithwallet.xyz</td>\n",
       "      <td>2</td>\n",
       "      <td>0.0</td>\n",
       "      <td>2022-04-07 00:07:18</td>\n",
       "      <td>0</td>\n",
       "      <td>meetwithwallet.xyz</td>\n",
       "    </tr>\n",
       "    <tr>\n",
       "      <th>...</th>\n",
       "      <td>...</td>\n",
       "      <td>...</td>\n",
       "      <td>...</td>\n",
       "      <td>...</td>\n",
       "      <td>...</td>\n",
       "      <td>...</td>\n",
       "      <td>...</td>\n",
       "      <td>...</td>\n",
       "      <td>...</td>\n",
       "      <td>...</td>\n",
       "      <td>...</td>\n",
       "    </tr>\n",
       "    <tr>\n",
       "      <th>3885794</th>\n",
       "      <td>35480629</td>\n",
       "      <td>Neovim 0.9 Released</td>\n",
       "      <td>story</td>\n",
       "      <td>eugene_pirogov</td>\n",
       "      <td>2023-04-07 11:50:56</td>\n",
       "      <td>https://github.com/neovim/neovim/commit/040f1459849ab05b04f6bb1e77b3def16b4c2f2b</td>\n",
       "      <td>2</td>\n",
       "      <td>0.0</td>\n",
       "      <td>2023-04-07 11:50:56</td>\n",
       "      <td>11</td>\n",
       "      <td>github.com</td>\n",
       "    </tr>\n",
       "    <tr>\n",
       "      <th>3885795</th>\n",
       "      <td>35480632</td>\n",
       "      <td>Analogy between GPTs of today and CPUs from the early days of computing</td>\n",
       "      <td>story</td>\n",
       "      <td>cal85</td>\n",
       "      <td>2023-04-07 11:51:39</td>\n",
       "      <td>https://twitter.com/karpathy/status/1644183721405464576</td>\n",
       "      <td>1</td>\n",
       "      <td>0.0</td>\n",
       "      <td>2023-04-07 11:51:39</td>\n",
       "      <td>11</td>\n",
       "      <td>twitter.com</td>\n",
       "    </tr>\n",
       "    <tr>\n",
       "      <th>3885796</th>\n",
       "      <td>35480641</td>\n",
       "      <td>Show HN: Shoogle – fast, FOSS and tracking-free Yellow Pages powered by OSM data</td>\n",
       "      <td>show_hn</td>\n",
       "      <td>midzer</td>\n",
       "      <td>2023-04-07 11:53:17</td>\n",
       "      <td>https://us.shoogle.net/</td>\n",
       "      <td>1</td>\n",
       "      <td>1.0</td>\n",
       "      <td>2023-04-07 11:53:17</td>\n",
       "      <td>11</td>\n",
       "      <td>us.shoogle.net</td>\n",
       "    </tr>\n",
       "    <tr>\n",
       "      <th>3885797</th>\n",
       "      <td>35480652</td>\n",
       "      <td>UFOs had sexual encounters with witnesses and left woman pregnant: Pentagon docs</td>\n",
       "      <td>story</td>\n",
       "      <td>Gys</td>\n",
       "      <td>2023-04-07 11:54:59</td>\n",
       "      <td>https://www.news.com.au/technology/science/space/ufos-had-sexual-encounters-with-witnesses-and-left-one-woman-pregnant-bombshell-pentagon-docs-claim/news-story/ef4f818e09d2a753deec97d02cb97599</td>\n",
       "      <td>1</td>\n",
       "      <td>0.0</td>\n",
       "      <td>2023-04-07 11:54:59</td>\n",
       "      <td>11</td>\n",
       "      <td>www.news.com.au</td>\n",
       "    </tr>\n",
       "    <tr>\n",
       "      <th>3885798</th>\n",
       "      <td>35480661</td>\n",
       "      <td>My (never complete) Tube Tester Collection</td>\n",
       "      <td>story</td>\n",
       "      <td>belter</td>\n",
       "      <td>2023-04-07 11:56:53</td>\n",
       "      <td>http://www.jacmusic.com/Tube-testers/index-temporary-text.html#SOFIA</td>\n",
       "      <td>1</td>\n",
       "      <td>0.0</td>\n",
       "      <td>2023-04-07 11:56:53</td>\n",
       "      <td>11</td>\n",
       "      <td>www.jacmusic.com</td>\n",
       "    </tr>\n",
       "  </tbody>\n",
       "</table>\n",
       "<p>302685 rows × 11 columns</p>\n",
       "</div>"
      ],
      "text/plain": [
       "         Object ID  \\\n",
       "3583114   30939000   \n",
       "3583115   30939037   \n",
       "3583116   30939040   \n",
       "3583117   30939052   \n",
       "3583118   30939055   \n",
       "...            ...   \n",
       "3885794   35480629   \n",
       "3885795   35480632   \n",
       "3885796   35480641   \n",
       "3885797   35480652   \n",
       "3885798   35480661   \n",
       "\n",
       "                                                                                    Title  \\\n",
       "3583114                                                  Hi-Mom – Say hi to your mom FAST   \n",
       "3583115                                        Bear hibernation: More than a winter’s nap   \n",
       "3583116     Show HN: The Causes of Latency in Computing Systems, and Why It Frustrates Us   \n",
       "3583117                                   How much do you generate in terms of donations?   \n",
       "3583118                                                                  Meet with Wallet   \n",
       "...                                                                                   ...   \n",
       "3885794                                                               Neovim 0.9 Released   \n",
       "3885795           Analogy between GPTs of today and CPUs from the early days of computing   \n",
       "3885796  Show HN: Shoogle – fast, FOSS and tracking-free Yellow Pages powered by OSM data   \n",
       "3885797  UFOs had sexual encounters with witnesses and left woman pregnant: Pentagon docs   \n",
       "3885798                                        My (never complete) Tube Tester Collection   \n",
       "\n",
       "        Post Type          Author           Created At  \\\n",
       "3583114     story        maydemir  2022-04-07 00:00:25   \n",
       "3583115     story           gmays  2022-04-07 00:05:02   \n",
       "3583116   show_hn          narner  2022-04-07 00:05:40   \n",
       "3583117     story        victor_e  2022-04-07 00:06:41   \n",
       "3583118     story    ycombdoramon  2022-04-07 00:07:18   \n",
       "...           ...             ...                  ...   \n",
       "3885794     story  eugene_pirogov  2023-04-07 11:50:56   \n",
       "3885795     story           cal85  2023-04-07 11:51:39   \n",
       "3885796   show_hn          midzer  2023-04-07 11:53:17   \n",
       "3885797     story             Gys  2023-04-07 11:54:59   \n",
       "3885798     story          belter  2023-04-07 11:56:53   \n",
       "\n",
       "                                                                                                                                                                                                      URL  \\\n",
       "3583114                                                                                                                                                               https://github.com/tsivinsky/hi-mom   \n",
       "3583115                                                                                                          https://knowablemagazine.org/article/living-world/2022/bear-hibernation-more-winters-nap   \n",
       "3583116                                                                             https://nickarner.com/notes/the-causes-of-latency-in-computing-systems-and-why-exactly-it-frustrates-us-april-6-2022/   \n",
       "3583117                                                                                                                                                                                            no_url   \n",
       "3583118                                                                                                                                                                        https://meetwithwallet.xyz   \n",
       "...                                                                                                                                                                                                   ...   \n",
       "3885794                                                                                                                  https://github.com/neovim/neovim/commit/040f1459849ab05b04f6bb1e77b3def16b4c2f2b   \n",
       "3885795                                                                                                                                           https://twitter.com/karpathy/status/1644183721405464576   \n",
       "3885796                                                                                                                                                                           https://us.shoogle.net/   \n",
       "3885797  https://www.news.com.au/technology/science/space/ufos-had-sexual-encounters-with-witnesses-and-left-one-woman-pregnant-bombshell-pentagon-docs-claim/news-story/ef4f818e09d2a753deec97d02cb97599   \n",
       "3885798                                                                                                                              http://www.jacmusic.com/Tube-testers/index-temporary-text.html#SOFIA   \n",
       "\n",
       "         Points  Number of Comments          created_at  hour_created  \\\n",
       "3583114       2                 0.0 2022-04-07 00:00:25             0   \n",
       "3583115       3                 0.0 2022-04-07 00:05:02             0   \n",
       "3583116       4                 0.0 2022-04-07 00:05:40             0   \n",
       "3583117       2                 2.0 2022-04-07 00:06:41             0   \n",
       "3583118       2                 0.0 2022-04-07 00:07:18             0   \n",
       "...         ...                 ...                 ...           ...   \n",
       "3885794       2                 0.0 2023-04-07 11:50:56            11   \n",
       "3885795       1                 0.0 2023-04-07 11:51:39            11   \n",
       "3885796       1                 1.0 2023-04-07 11:53:17            11   \n",
       "3885797       1                 0.0 2023-04-07 11:54:59            11   \n",
       "3885798       1                 0.0 2023-04-07 11:56:53            11   \n",
       "\n",
       "                   url_domain  \n",
       "3583114            github.com  \n",
       "3583115  knowablemagazine.org  \n",
       "3583116         nickarner.com  \n",
       "3583117                        \n",
       "3583118    meetwithwallet.xyz  \n",
       "...                       ...  \n",
       "3885794            github.com  \n",
       "3885795           twitter.com  \n",
       "3885796        us.shoogle.net  \n",
       "3885797       www.news.com.au  \n",
       "3885798      www.jacmusic.com  \n",
       "\n",
       "[302685 rows x 11 columns]"
      ]
     },
     "execution_count": 11,
     "metadata": {},
     "output_type": "execute_result"
    }
   ],
   "source": [
    "hn2['url_domain'] = hn2['URL'].apply(lambda x: urlparse(x).netloc)\n",
    "hn2"
   ]
  },
  {
   "cell_type": "code",
   "execution_count": 12,
   "id": "7ff1f6ee-8628-430f-96e7-dfb2483e07af",
   "metadata": {
    "scrolled": true
   },
   "outputs": [
    {
     "data": {
      "text/plain": [
       "                            22959\n",
       "github.com                  13233\n",
       "www.youtube.com             10788\n",
       "twitter.com                  7336\n",
       "en.wikipedia.org             5689\n",
       "www.nytimes.com              4737\n",
       "www.theguardian.com          3834\n",
       "www.bloomberg.com            3600\n",
       "www.wsj.com                  3307\n",
       "arstechnica.com              3084\n",
       "medium.com                   2944\n",
       "www.theverge.com             2893\n",
       "www.theregister.com          2522\n",
       "www.reuters.com              2512\n",
       "www.bbc.com                  2092\n",
       "techcrunch.com               2029\n",
       "www.nature.com               1691\n",
       "www.cnbc.com                 1690\n",
       "arxiv.org                    1637\n",
       "www.washingtonpost.com       1586\n",
       "www.ft.com                   1577\n",
       "www.cnn.com                  1409\n",
       "old.reddit.com               1370\n",
       "www.wired.com                1330\n",
       "phys.org                     1316\n",
       "www.theatlantic.com          1285\n",
       "www.bbc.co.uk                1116\n",
       "www.businessinsider.com      1016\n",
       "www.economist.com             969\n",
       "www.npr.org                   932\n",
       "www.vice.com                  835\n",
       "www.newyorker.com             792\n",
       "www.science.org               708\n",
       "www.axios.com                 682\n",
       "spectrum.ieee.org             678\n",
       "www.quantamagazine.org        675\n",
       "apnews.com                    662\n",
       "gizmodo.com                   642\n",
       "www.forbes.com                640\n",
       "www.phoronix.com              639\n",
       "hackaday.com                  600\n",
       "www.macrumors.com             590\n",
       "lite.cnn.com                  556\n",
       "www.engadget.com              522\n",
       "theconversation.com           521\n",
       "www.bleepingcomputer.com      501\n",
       "thenewstack.io                481\n",
       "www.technologyreview.com      466\n",
       "www.tomshardware.com          452\n",
       "github.blog                   444\n",
       "Name: url_domain, dtype: int64"
      ]
     },
     "execution_count": 12,
     "metadata": {},
     "output_type": "execute_result"
    }
   ],
   "source": [
    "hn2['url_domain'].value_counts().head(50)"
   ]
  },
  {
   "cell_type": "markdown",
   "id": "628ce1fc-6288-4f00-ae90-e7b21729716b",
   "metadata": {},
   "source": [
    "We will select top-50 most used url domains, group the remaining, and categorize them all."
   ]
  },
  {
   "cell_type": "code",
   "execution_count": 13,
   "id": "b31aac15-f043-4c6b-9519-72e80ac62366",
   "metadata": {},
   "outputs": [
    {
     "data": {
      "text/plain": [
       "no_url                  22959\n",
       "github.com              13233\n",
       "www.youtube.com         10788\n",
       "twitter.com              7336\n",
       "en.wikipedia.org         5689\n",
       "                        ...  \n",
       "www.workationlist.co        1\n",
       "algorithms.design           1\n",
       "blog.asana.com              1\n",
       "blog.akerl.org              1\n",
       "www.jacmusic.com            1\n",
       "Name: url_domain, Length: 55229, dtype: int64"
      ]
     },
     "execution_count": 13,
     "metadata": {},
     "output_type": "execute_result"
    }
   ],
   "source": [
    "hn2.loc[hn2['url_domain'] == '', 'url_domain'] = hn2['URL']\n",
    "hn2['url_domain'].value_counts()"
   ]
  },
  {
   "cell_type": "code",
   "execution_count": 14,
   "id": "30f8208d-92d3-4015-ae22-2aa10b80fc3c",
   "metadata": {
    "scrolled": true
   },
   "outputs": [
    {
     "data": {
      "text/plain": [
       "other                       178116\n",
       "no_url                       22959\n",
       "github.com                   13233\n",
       "www.youtube.com              10788\n",
       "twitter.com                   7336\n",
       "en.wikipedia.org              5689\n",
       "www.nytimes.com               4737\n",
       "www.theguardian.com           3834\n",
       "www.bloomberg.com             3600\n",
       "www.wsj.com                   3307\n",
       "arstechnica.com               3084\n",
       "medium.com                    2944\n",
       "www.theverge.com              2893\n",
       "www.theregister.com           2522\n",
       "www.reuters.com               2512\n",
       "www.bbc.com                   2092\n",
       "techcrunch.com                2029\n",
       "www.nature.com                1691\n",
       "www.cnbc.com                  1690\n",
       "arxiv.org                     1637\n",
       "www.washingtonpost.com        1586\n",
       "www.ft.com                    1577\n",
       "www.cnn.com                   1409\n",
       "old.reddit.com                1370\n",
       "www.wired.com                 1330\n",
       "phys.org                      1316\n",
       "www.theatlantic.com           1285\n",
       "www.bbc.co.uk                 1116\n",
       "www.businessinsider.com       1016\n",
       "www.economist.com              969\n",
       "www.npr.org                    932\n",
       "www.vice.com                   835\n",
       "www.newyorker.com              792\n",
       "www.science.org                708\n",
       "www.axios.com                  682\n",
       "spectrum.ieee.org              678\n",
       "www.quantamagazine.org         675\n",
       "apnews.com                     662\n",
       "gizmodo.com                    642\n",
       "www.forbes.com                 640\n",
       "www.phoronix.com               639\n",
       "hackaday.com                   600\n",
       "www.macrumors.com              590\n",
       "lite.cnn.com                   556\n",
       "www.engadget.com               522\n",
       "theconversation.com            521\n",
       "www.bleepingcomputer.com       501\n",
       "thenewstack.io                 481\n",
       "www.technologyreview.com       466\n",
       "www.tomshardware.com           452\n",
       "github.blog                    444\n",
       "Name: domain_categorized, dtype: int64"
      ]
     },
     "execution_count": 14,
     "metadata": {},
     "output_type": "execute_result"
    }
   ],
   "source": [
    "top_domains = hn2['url_domain'].value_counts().nlargest(50).index\n",
    "\n",
    "hn2['domain_categorized'] = hn2['url_domain'].apply(lambda x: x if x in top_domains else 'other')\n",
    "\n",
    "hn2['domain_categorized'].value_counts()"
   ]
  },
  {
   "cell_type": "code",
   "execution_count": 15,
   "id": "21aa5015-bf89-4657-b406-e4fef2270b30",
   "metadata": {},
   "outputs": [
    {
     "name": "stdout",
     "output_type": "stream",
     "text": [
      "<class 'pandas.core.frame.DataFrame'>\n",
      "Int64Index: 302685 entries, 3583114 to 3885798\n",
      "Data columns (total 12 columns):\n",
      " #   Column              Non-Null Count   Dtype         \n",
      "---  ------              --------------   -----         \n",
      " 0   Object ID           302685 non-null  int64         \n",
      " 1   Title               302681 non-null  object        \n",
      " 2   Post Type           302685 non-null  object        \n",
      " 3   Author              302685 non-null  object        \n",
      " 4   Created At          302685 non-null  object        \n",
      " 5   URL                 302685 non-null  object        \n",
      " 6   Points              302685 non-null  int64         \n",
      " 7   Number of Comments  302685 non-null  float64       \n",
      " 8   created_at          302685 non-null  datetime64[ns]\n",
      " 9   hour_created        302685 non-null  int64         \n",
      " 10  url_domain          302685 non-null  object        \n",
      " 11  domain_categorized  302685 non-null  object        \n",
      "dtypes: datetime64[ns](1), float64(1), int64(3), object(7)\n",
      "memory usage: 38.1+ MB\n"
     ]
    }
   ],
   "source": [
    "hn2.info()"
   ]
  },
  {
   "cell_type": "markdown",
   "id": "748c8405-1955-4650-a7a3-838e40def16a",
   "metadata": {},
   "source": [
    "### Transforming Author column"
   ]
  },
  {
   "cell_type": "code",
   "execution_count": 16,
   "id": "c18eb86d-cd93-4f0f-ac66-128901974e10",
   "metadata": {},
   "outputs": [
    {
     "data": {
      "text/plain": [
       "rntn              4003\n",
       "Tomte             3978\n",
       "mfiguiere         3390\n",
       "mooreds           3157\n",
       "tosh              2665\n",
       "                  ... \n",
       "cain                 1\n",
       "dillings             1\n",
       "ghostpirate          1\n",
       "krtab                1\n",
       "eugene_pirogov       1\n",
       "Name: Author, Length: 49364, dtype: int64"
      ]
     },
     "execution_count": 16,
     "metadata": {},
     "output_type": "execute_result"
    }
   ],
   "source": [
    "hn2['Author'].value_counts()"
   ]
  },
  {
   "cell_type": "markdown",
   "id": "f3901897-9a46-4215-9041-bbc4595f5800",
   "metadata": {},
   "source": [
    "There are over 49k unique authors. We will categorize this feature as well, depending on how many posts each author made during the period:\n",
    "- Inactive (authors with less than 1 post/month)\n",
    "- Low active (more than 1 post/month, but less than 1 post/week)\n",
    "- Medium active (more than 1 post/week, but less than 1 post per day)\n",
    "- High active (more than 1 post per day)"
   ]
  },
  {
   "cell_type": "code",
   "execution_count": 17,
   "id": "505210d4-d806-4a93-b268-71b33d9722fc",
   "metadata": {},
   "outputs": [
    {
     "data": {
      "text/html": [
       "<div>\n",
       "<style scoped>\n",
       "    .dataframe tbody tr th:only-of-type {\n",
       "        vertical-align: middle;\n",
       "    }\n",
       "\n",
       "    .dataframe tbody tr th {\n",
       "        vertical-align: top;\n",
       "    }\n",
       "\n",
       "    .dataframe thead th {\n",
       "        text-align: right;\n",
       "    }\n",
       "</style>\n",
       "<table border=\"1\" class=\"dataframe\">\n",
       "  <thead>\n",
       "    <tr style=\"text-align: right;\">\n",
       "      <th></th>\n",
       "      <th>Author</th>\n",
       "      <th>author_activity</th>\n",
       "    </tr>\n",
       "  </thead>\n",
       "  <tbody>\n",
       "    <tr>\n",
       "      <th>0</th>\n",
       "      <td>000000</td>\n",
       "      <td>Inactive</td>\n",
       "    </tr>\n",
       "    <tr>\n",
       "      <th>1</th>\n",
       "      <td>00117</td>\n",
       "      <td>Inactive</td>\n",
       "    </tr>\n",
       "    <tr>\n",
       "      <th>2</th>\n",
       "      <td>0066cc</td>\n",
       "      <td>Inactive</td>\n",
       "    </tr>\n",
       "    <tr>\n",
       "      <th>3</th>\n",
       "      <td>00702</td>\n",
       "      <td>Inactive</td>\n",
       "    </tr>\n",
       "    <tr>\n",
       "      <th>4</th>\n",
       "      <td>007lva</td>\n",
       "      <td>Inactive</td>\n",
       "    </tr>\n",
       "    <tr>\n",
       "      <th>...</th>\n",
       "      <td>...</td>\n",
       "      <td>...</td>\n",
       "    </tr>\n",
       "    <tr>\n",
       "      <th>49359</th>\n",
       "      <td>zzz_sleeping</td>\n",
       "      <td>Inactive</td>\n",
       "    </tr>\n",
       "    <tr>\n",
       "      <th>49360</th>\n",
       "      <td>zzzbra</td>\n",
       "      <td>Inactive</td>\n",
       "    </tr>\n",
       "    <tr>\n",
       "      <th>49361</th>\n",
       "      <td>zzzeek</td>\n",
       "      <td>Low</td>\n",
       "    </tr>\n",
       "    <tr>\n",
       "      <th>49362</th>\n",
       "      <td>zzzhangjinpeng</td>\n",
       "      <td>Inactive</td>\n",
       "    </tr>\n",
       "    <tr>\n",
       "      <th>49363</th>\n",
       "      <td>zzzzzzzza</td>\n",
       "      <td>Inactive</td>\n",
       "    </tr>\n",
       "  </tbody>\n",
       "</table>\n",
       "<p>49364 rows × 2 columns</p>\n",
       "</div>"
      ],
      "text/plain": [
       "               Author author_activity\n",
       "0              000000        Inactive\n",
       "1               00117        Inactive\n",
       "2              0066cc        Inactive\n",
       "3               00702        Inactive\n",
       "4              007lva        Inactive\n",
       "...               ...             ...\n",
       "49359    zzz_sleeping        Inactive\n",
       "49360          zzzbra        Inactive\n",
       "49361          zzzeek             Low\n",
       "49362  zzzhangjinpeng        Inactive\n",
       "49363       zzzzzzzza        Inactive\n",
       "\n",
       "[49364 rows x 2 columns]"
      ]
     },
     "execution_count": 17,
     "metadata": {},
     "output_type": "execute_result"
    }
   ],
   "source": [
    "# Calculating posting frequency\n",
    "total_days = (hn2['created_at'].max() - hn2['created_at'].min()).days\n",
    "post_counts = hn2.groupby('Author').size()\n",
    "posts_per_day = post_counts / total_days\n",
    "\n",
    "# Defining activity level categories\n",
    "bins = [0, 1/30, 1/7, 1, float('inf')]\n",
    "labels = ['Inactive', 'Low', 'Medium', 'High']\n",
    "author_activity_levels = pd.cut(posts_per_day, bins, labels=labels)\n",
    "\n",
    "# Merging with hn dataset\n",
    "activity_level_df = pd.DataFrame({'Author': post_counts.index, 'author_activity': author_activity_levels}).reset_index(drop=True)\n",
    "activity_level_df"
   ]
  },
  {
   "cell_type": "code",
   "execution_count": 18,
   "id": "32585d2b-3bc5-4570-873e-b9222b50c1d8",
   "metadata": {
    "scrolled": true
   },
   "outputs": [
    {
     "data": {
      "text/html": [
       "<div>\n",
       "<style scoped>\n",
       "    .dataframe tbody tr th:only-of-type {\n",
       "        vertical-align: middle;\n",
       "    }\n",
       "\n",
       "    .dataframe tbody tr th {\n",
       "        vertical-align: top;\n",
       "    }\n",
       "\n",
       "    .dataframe thead th {\n",
       "        text-align: right;\n",
       "    }\n",
       "</style>\n",
       "<table border=\"1\" class=\"dataframe\">\n",
       "  <thead>\n",
       "    <tr style=\"text-align: right;\">\n",
       "      <th></th>\n",
       "      <th>Object ID</th>\n",
       "      <th>Title</th>\n",
       "      <th>Post Type</th>\n",
       "      <th>Author</th>\n",
       "      <th>Created At</th>\n",
       "      <th>URL</th>\n",
       "      <th>Points</th>\n",
       "      <th>Number of Comments</th>\n",
       "      <th>created_at</th>\n",
       "      <th>hour_created</th>\n",
       "      <th>url_domain</th>\n",
       "      <th>domain_categorized</th>\n",
       "      <th>author_activity</th>\n",
       "    </tr>\n",
       "  </thead>\n",
       "  <tbody>\n",
       "    <tr>\n",
       "      <th>0</th>\n",
       "      <td>30939000</td>\n",
       "      <td>Hi-Mom – Say hi to your mom FAST</td>\n",
       "      <td>story</td>\n",
       "      <td>maydemir</td>\n",
       "      <td>2022-04-07 00:00:25</td>\n",
       "      <td>https://github.com/tsivinsky/hi-mom</td>\n",
       "      <td>2</td>\n",
       "      <td>0.0</td>\n",
       "      <td>2022-04-07 00:00:25</td>\n",
       "      <td>0</td>\n",
       "      <td>github.com</td>\n",
       "      <td>github.com</td>\n",
       "      <td>Medium</td>\n",
       "    </tr>\n",
       "    <tr>\n",
       "      <th>1</th>\n",
       "      <td>30939037</td>\n",
       "      <td>Bear hibernation: More than a winter’s nap</td>\n",
       "      <td>story</td>\n",
       "      <td>gmays</td>\n",
       "      <td>2022-04-07 00:05:02</td>\n",
       "      <td>https://knowablemagazine.org/article/living-world/2022/bear-hibernation-more-winters-nap</td>\n",
       "      <td>3</td>\n",
       "      <td>0.0</td>\n",
       "      <td>2022-04-07 00:05:02</td>\n",
       "      <td>0</td>\n",
       "      <td>knowablemagazine.org</td>\n",
       "      <td>other</td>\n",
       "      <td>High</td>\n",
       "    </tr>\n",
       "    <tr>\n",
       "      <th>2</th>\n",
       "      <td>30939040</td>\n",
       "      <td>Show HN: The Causes of Latency in Computing Systems, and Why It Frustrates Us</td>\n",
       "      <td>show_hn</td>\n",
       "      <td>narner</td>\n",
       "      <td>2022-04-07 00:05:40</td>\n",
       "      <td>https://nickarner.com/notes/the-causes-of-latency-in-computing-systems-and-why-exactly-it-frustrates-us-april-6-2022/</td>\n",
       "      <td>4</td>\n",
       "      <td>0.0</td>\n",
       "      <td>2022-04-07 00:05:40</td>\n",
       "      <td>0</td>\n",
       "      <td>nickarner.com</td>\n",
       "      <td>other</td>\n",
       "      <td>Inactive</td>\n",
       "    </tr>\n",
       "    <tr>\n",
       "      <th>3</th>\n",
       "      <td>30939052</td>\n",
       "      <td>How much do you generate in terms of donations?</td>\n",
       "      <td>story</td>\n",
       "      <td>victor_e</td>\n",
       "      <td>2022-04-07 00:06:41</td>\n",
       "      <td>no_url</td>\n",
       "      <td>2</td>\n",
       "      <td>2.0</td>\n",
       "      <td>2022-04-07 00:06:41</td>\n",
       "      <td>0</td>\n",
       "      <td>no_url</td>\n",
       "      <td>no_url</td>\n",
       "      <td>Inactive</td>\n",
       "    </tr>\n",
       "    <tr>\n",
       "      <th>4</th>\n",
       "      <td>30939055</td>\n",
       "      <td>Meet with Wallet</td>\n",
       "      <td>story</td>\n",
       "      <td>ycombdoramon</td>\n",
       "      <td>2022-04-07 00:07:18</td>\n",
       "      <td>https://meetwithwallet.xyz</td>\n",
       "      <td>2</td>\n",
       "      <td>0.0</td>\n",
       "      <td>2022-04-07 00:07:18</td>\n",
       "      <td>0</td>\n",
       "      <td>meetwithwallet.xyz</td>\n",
       "      <td>other</td>\n",
       "      <td>Inactive</td>\n",
       "    </tr>\n",
       "    <tr>\n",
       "      <th>...</th>\n",
       "      <td>...</td>\n",
       "      <td>...</td>\n",
       "      <td>...</td>\n",
       "      <td>...</td>\n",
       "      <td>...</td>\n",
       "      <td>...</td>\n",
       "      <td>...</td>\n",
       "      <td>...</td>\n",
       "      <td>...</td>\n",
       "      <td>...</td>\n",
       "      <td>...</td>\n",
       "      <td>...</td>\n",
       "      <td>...</td>\n",
       "    </tr>\n",
       "    <tr>\n",
       "      <th>302680</th>\n",
       "      <td>35480629</td>\n",
       "      <td>Neovim 0.9 Released</td>\n",
       "      <td>story</td>\n",
       "      <td>eugene_pirogov</td>\n",
       "      <td>2023-04-07 11:50:56</td>\n",
       "      <td>https://github.com/neovim/neovim/commit/040f1459849ab05b04f6bb1e77b3def16b4c2f2b</td>\n",
       "      <td>2</td>\n",
       "      <td>0.0</td>\n",
       "      <td>2023-04-07 11:50:56</td>\n",
       "      <td>11</td>\n",
       "      <td>github.com</td>\n",
       "      <td>github.com</td>\n",
       "      <td>Inactive</td>\n",
       "    </tr>\n",
       "    <tr>\n",
       "      <th>302681</th>\n",
       "      <td>35480632</td>\n",
       "      <td>Analogy between GPTs of today and CPUs from the early days of computing</td>\n",
       "      <td>story</td>\n",
       "      <td>cal85</td>\n",
       "      <td>2023-04-07 11:51:39</td>\n",
       "      <td>https://twitter.com/karpathy/status/1644183721405464576</td>\n",
       "      <td>1</td>\n",
       "      <td>0.0</td>\n",
       "      <td>2023-04-07 11:51:39</td>\n",
       "      <td>11</td>\n",
       "      <td>twitter.com</td>\n",
       "      <td>twitter.com</td>\n",
       "      <td>Low</td>\n",
       "    </tr>\n",
       "    <tr>\n",
       "      <th>302682</th>\n",
       "      <td>35480641</td>\n",
       "      <td>Show HN: Shoogle – fast, FOSS and tracking-free Yellow Pages powered by OSM data</td>\n",
       "      <td>show_hn</td>\n",
       "      <td>midzer</td>\n",
       "      <td>2023-04-07 11:53:17</td>\n",
       "      <td>https://us.shoogle.net/</td>\n",
       "      <td>1</td>\n",
       "      <td>1.0</td>\n",
       "      <td>2023-04-07 11:53:17</td>\n",
       "      <td>11</td>\n",
       "      <td>us.shoogle.net</td>\n",
       "      <td>other</td>\n",
       "      <td>Low</td>\n",
       "    </tr>\n",
       "    <tr>\n",
       "      <th>302683</th>\n",
       "      <td>35480652</td>\n",
       "      <td>UFOs had sexual encounters with witnesses and left woman pregnant: Pentagon docs</td>\n",
       "      <td>story</td>\n",
       "      <td>Gys</td>\n",
       "      <td>2023-04-07 11:54:59</td>\n",
       "      <td>https://www.news.com.au/technology/science/space/ufos-had-sexual-encounters-with-witnesses-and-left-one-woman-pregnant-bombshell-pentagon-docs-claim/news-story/ef4f818e09d2a753deec97d02cb97599</td>\n",
       "      <td>1</td>\n",
       "      <td>0.0</td>\n",
       "      <td>2023-04-07 11:54:59</td>\n",
       "      <td>11</td>\n",
       "      <td>www.news.com.au</td>\n",
       "      <td>other</td>\n",
       "      <td>Inactive</td>\n",
       "    </tr>\n",
       "    <tr>\n",
       "      <th>302684</th>\n",
       "      <td>35480661</td>\n",
       "      <td>My (never complete) Tube Tester Collection</td>\n",
       "      <td>story</td>\n",
       "      <td>belter</td>\n",
       "      <td>2023-04-07 11:56:53</td>\n",
       "      <td>http://www.jacmusic.com/Tube-testers/index-temporary-text.html#SOFIA</td>\n",
       "      <td>1</td>\n",
       "      <td>0.0</td>\n",
       "      <td>2023-04-07 11:56:53</td>\n",
       "      <td>11</td>\n",
       "      <td>www.jacmusic.com</td>\n",
       "      <td>other</td>\n",
       "      <td>High</td>\n",
       "    </tr>\n",
       "  </tbody>\n",
       "</table>\n",
       "<p>302685 rows × 13 columns</p>\n",
       "</div>"
      ],
      "text/plain": [
       "        Object ID  \\\n",
       "0        30939000   \n",
       "1        30939037   \n",
       "2        30939040   \n",
       "3        30939052   \n",
       "4        30939055   \n",
       "...           ...   \n",
       "302680   35480629   \n",
       "302681   35480632   \n",
       "302682   35480641   \n",
       "302683   35480652   \n",
       "302684   35480661   \n",
       "\n",
       "                                                                                   Title  \\\n",
       "0                                                       Hi-Mom – Say hi to your mom FAST   \n",
       "1                                             Bear hibernation: More than a winter’s nap   \n",
       "2          Show HN: The Causes of Latency in Computing Systems, and Why It Frustrates Us   \n",
       "3                                        How much do you generate in terms of donations?   \n",
       "4                                                                       Meet with Wallet   \n",
       "...                                                                                  ...   \n",
       "302680                                                               Neovim 0.9 Released   \n",
       "302681           Analogy between GPTs of today and CPUs from the early days of computing   \n",
       "302682  Show HN: Shoogle – fast, FOSS and tracking-free Yellow Pages powered by OSM data   \n",
       "302683  UFOs had sexual encounters with witnesses and left woman pregnant: Pentagon docs   \n",
       "302684                                        My (never complete) Tube Tester Collection   \n",
       "\n",
       "       Post Type          Author           Created At  \\\n",
       "0          story        maydemir  2022-04-07 00:00:25   \n",
       "1          story           gmays  2022-04-07 00:05:02   \n",
       "2        show_hn          narner  2022-04-07 00:05:40   \n",
       "3          story        victor_e  2022-04-07 00:06:41   \n",
       "4          story    ycombdoramon  2022-04-07 00:07:18   \n",
       "...          ...             ...                  ...   \n",
       "302680     story  eugene_pirogov  2023-04-07 11:50:56   \n",
       "302681     story           cal85  2023-04-07 11:51:39   \n",
       "302682   show_hn          midzer  2023-04-07 11:53:17   \n",
       "302683     story             Gys  2023-04-07 11:54:59   \n",
       "302684     story          belter  2023-04-07 11:56:53   \n",
       "\n",
       "                                                                                                                                                                                                     URL  \\\n",
       "0                                                                                                                                                                    https://github.com/tsivinsky/hi-mom   \n",
       "1                                                                                                               https://knowablemagazine.org/article/living-world/2022/bear-hibernation-more-winters-nap   \n",
       "2                                                                                  https://nickarner.com/notes/the-causes-of-latency-in-computing-systems-and-why-exactly-it-frustrates-us-april-6-2022/   \n",
       "3                                                                                                                                                                                                 no_url   \n",
       "4                                                                                                                                                                             https://meetwithwallet.xyz   \n",
       "...                                                                                                                                                                                                  ...   \n",
       "302680                                                                                                                  https://github.com/neovim/neovim/commit/040f1459849ab05b04f6bb1e77b3def16b4c2f2b   \n",
       "302681                                                                                                                                           https://twitter.com/karpathy/status/1644183721405464576   \n",
       "302682                                                                                                                                                                           https://us.shoogle.net/   \n",
       "302683  https://www.news.com.au/technology/science/space/ufos-had-sexual-encounters-with-witnesses-and-left-one-woman-pregnant-bombshell-pentagon-docs-claim/news-story/ef4f818e09d2a753deec97d02cb97599   \n",
       "302684                                                                                                                              http://www.jacmusic.com/Tube-testers/index-temporary-text.html#SOFIA   \n",
       "\n",
       "        Points  Number of Comments          created_at  hour_created  \\\n",
       "0            2                 0.0 2022-04-07 00:00:25             0   \n",
       "1            3                 0.0 2022-04-07 00:05:02             0   \n",
       "2            4                 0.0 2022-04-07 00:05:40             0   \n",
       "3            2                 2.0 2022-04-07 00:06:41             0   \n",
       "4            2                 0.0 2022-04-07 00:07:18             0   \n",
       "...        ...                 ...                 ...           ...   \n",
       "302680       2                 0.0 2023-04-07 11:50:56            11   \n",
       "302681       1                 0.0 2023-04-07 11:51:39            11   \n",
       "302682       1                 1.0 2023-04-07 11:53:17            11   \n",
       "302683       1                 0.0 2023-04-07 11:54:59            11   \n",
       "302684       1                 0.0 2023-04-07 11:56:53            11   \n",
       "\n",
       "                  url_domain domain_categorized author_activity  \n",
       "0                 github.com         github.com          Medium  \n",
       "1       knowablemagazine.org              other            High  \n",
       "2              nickarner.com              other        Inactive  \n",
       "3                     no_url             no_url        Inactive  \n",
       "4         meetwithwallet.xyz              other        Inactive  \n",
       "...                      ...                ...             ...  \n",
       "302680            github.com         github.com        Inactive  \n",
       "302681           twitter.com        twitter.com             Low  \n",
       "302682        us.shoogle.net              other             Low  \n",
       "302683       www.news.com.au              other        Inactive  \n",
       "302684      www.jacmusic.com              other            High  \n",
       "\n",
       "[302685 rows x 13 columns]"
      ]
     },
     "execution_count": 18,
     "metadata": {},
     "output_type": "execute_result"
    }
   ],
   "source": [
    "hn3 = hn2.merge(activity_level_df, on='Author', how='left')\n",
    "hn3"
   ]
  },
  {
   "cell_type": "code",
   "execution_count": 19,
   "id": "384a2bb4-86e4-4902-9944-215a1feef288",
   "metadata": {
    "jp-MarkdownHeadingCollapsed": true
   },
   "outputs": [
    {
     "data": {
      "image/png": "[encoded data removed]",
      "text/plain": [
       "<Figure size 640x480 with 1 Axes>"
      ]
     },
     "metadata": {},
     "output_type": "display_data"
    }
   ],
   "source": [
    "hn3['author_activity'].value_counts().plot.barh(color='blueviolet')\n",
    "plt.title('Authors by Posting Activity'+'\\n', size=16)\n",
    "plt.show()"
   ]
  },
  {
   "cell_type": "markdown",
   "id": "65f7551e-e2a8-4623-afbc-292a8b32adfc",
   "metadata": {},
   "source": [
    "### Transforming Title\n",
    "\n",
    "First we will drop the columns we will not need."
   ]
  },
  {
   "cell_type": "code",
   "execution_count": 21,
   "id": "940ba4c9-19a7-4f32-9c05-d092270b10c4",
   "metadata": {},
   "outputs": [
    {
     "data": {
      "text/html": [
       "<div>\n",
       "<style scoped>\n",
       "    .dataframe tbody tr th:only-of-type {\n",
       "        vertical-align: middle;\n",
       "    }\n",
       "\n",
       "    .dataframe tbody tr th {\n",
       "        vertical-align: top;\n",
       "    }\n",
       "\n",
       "    .dataframe thead th {\n",
       "        text-align: right;\n",
       "    }\n",
       "</style>\n",
       "<table border=\"1\" class=\"dataframe\">\n",
       "  <thead>\n",
       "    <tr style=\"text-align: right;\">\n",
       "      <th></th>\n",
       "      <th>Title</th>\n",
       "      <th>Post Type</th>\n",
       "      <th>Points</th>\n",
       "      <th>Number of Comments</th>\n",
       "      <th>hour_created</th>\n",
       "      <th>domain_categorized</th>\n",
       "      <th>author_activity</th>\n",
       "    </tr>\n",
       "  </thead>\n",
       "  <tbody>\n",
       "    <tr>\n",
       "      <th>0</th>\n",
       "      <td>Hi-Mom – Say hi to your mom FAST</td>\n",
       "      <td>story</td>\n",
       "      <td>2</td>\n",
       "      <td>0.0</td>\n",
       "      <td>0</td>\n",
       "      <td>github.com</td>\n",
       "      <td>Medium</td>\n",
       "    </tr>\n",
       "    <tr>\n",
       "      <th>1</th>\n",
       "      <td>Bear hibernation: More than a winter’s nap</td>\n",
       "      <td>story</td>\n",
       "      <td>3</td>\n",
       "      <td>0.0</td>\n",
       "      <td>0</td>\n",
       "      <td>other</td>\n",
       "      <td>High</td>\n",
       "    </tr>\n",
       "    <tr>\n",
       "      <th>2</th>\n",
       "      <td>Show HN: The Causes of Latency in Computing Systems, and Why It Frustrates Us</td>\n",
       "      <td>show_hn</td>\n",
       "      <td>4</td>\n",
       "      <td>0.0</td>\n",
       "      <td>0</td>\n",
       "      <td>other</td>\n",
       "      <td>Inactive</td>\n",
       "    </tr>\n",
       "    <tr>\n",
       "      <th>3</th>\n",
       "      <td>How much do you generate in terms of donations?</td>\n",
       "      <td>story</td>\n",
       "      <td>2</td>\n",
       "      <td>2.0</td>\n",
       "      <td>0</td>\n",
       "      <td>no_url</td>\n",
       "      <td>Inactive</td>\n",
       "    </tr>\n",
       "    <tr>\n",
       "      <th>4</th>\n",
       "      <td>Meet with Wallet</td>\n",
       "      <td>story</td>\n",
       "      <td>2</td>\n",
       "      <td>0.0</td>\n",
       "      <td>0</td>\n",
       "      <td>other</td>\n",
       "      <td>Inactive</td>\n",
       "    </tr>\n",
       "    <tr>\n",
       "      <th>...</th>\n",
       "      <td>...</td>\n",
       "      <td>...</td>\n",
       "      <td>...</td>\n",
       "      <td>...</td>\n",
       "      <td>...</td>\n",
       "      <td>...</td>\n",
       "      <td>...</td>\n",
       "    </tr>\n",
       "    <tr>\n",
       "      <th>302680</th>\n",
       "      <td>Neovim 0.9 Released</td>\n",
       "      <td>story</td>\n",
       "      <td>2</td>\n",
       "      <td>0.0</td>\n",
       "      <td>11</td>\n",
       "      <td>github.com</td>\n",
       "      <td>Inactive</td>\n",
       "    </tr>\n",
       "    <tr>\n",
       "      <th>302681</th>\n",
       "      <td>Analogy between GPTs of today and CPUs from the early days of computing</td>\n",
       "      <td>story</td>\n",
       "      <td>1</td>\n",
       "      <td>0.0</td>\n",
       "      <td>11</td>\n",
       "      <td>twitter.com</td>\n",
       "      <td>Low</td>\n",
       "    </tr>\n",
       "    <tr>\n",
       "      <th>302682</th>\n",
       "      <td>Show HN: Shoogle – fast, FOSS and tracking-free Yellow Pages powered by OSM data</td>\n",
       "      <td>show_hn</td>\n",
       "      <td>1</td>\n",
       "      <td>1.0</td>\n",
       "      <td>11</td>\n",
       "      <td>other</td>\n",
       "      <td>Low</td>\n",
       "    </tr>\n",
       "    <tr>\n",
       "      <th>302683</th>\n",
       "      <td>UFOs had sexual encounters with witnesses and left woman pregnant: Pentagon docs</td>\n",
       "      <td>story</td>\n",
       "      <td>1</td>\n",
       "      <td>0.0</td>\n",
       "      <td>11</td>\n",
       "      <td>other</td>\n",
       "      <td>Inactive</td>\n",
       "    </tr>\n",
       "    <tr>\n",
       "      <th>302684</th>\n",
       "      <td>My (never complete) Tube Tester Collection</td>\n",
       "      <td>story</td>\n",
       "      <td>1</td>\n",
       "      <td>0.0</td>\n",
       "      <td>11</td>\n",
       "      <td>other</td>\n",
       "      <td>High</td>\n",
       "    </tr>\n",
       "  </tbody>\n",
       "</table>\n",
       "<p>302685 rows × 7 columns</p>\n",
       "</div>"
      ],
      "text/plain": [
       "                                                                                   Title  \\\n",
       "0                                                       Hi-Mom – Say hi to your mom FAST   \n",
       "1                                             Bear hibernation: More than a winter’s nap   \n",
       "2          Show HN: The Causes of Latency in Computing Systems, and Why It Frustrates Us   \n",
       "3                                        How much do you generate in terms of donations?   \n",
       "4                                                                       Meet with Wallet   \n",
       "...                                                                                  ...   \n",
       "302680                                                               Neovim 0.9 Released   \n",
       "302681           Analogy between GPTs of today and CPUs from the early days of computing   \n",
       "302682  Show HN: Shoogle – fast, FOSS and tracking-free Yellow Pages powered by OSM data   \n",
       "302683  UFOs had sexual encounters with witnesses and left woman pregnant: Pentagon docs   \n",
       "302684                                        My (never complete) Tube Tester Collection   \n",
       "\n",
       "       Post Type  Points  Number of Comments  hour_created domain_categorized  \\\n",
       "0          story       2                 0.0             0         github.com   \n",
       "1          story       3                 0.0             0              other   \n",
       "2        show_hn       4                 0.0             0              other   \n",
       "3          story       2                 2.0             0             no_url   \n",
       "4          story       2                 0.0             0              other   \n",
       "...          ...     ...                 ...           ...                ...   \n",
       "302680     story       2                 0.0            11         github.com   \n",
       "302681     story       1                 0.0            11        twitter.com   \n",
       "302682   show_hn       1                 1.0            11              other   \n",
       "302683     story       1                 0.0            11              other   \n",
       "302684     story       1                 0.0            11              other   \n",
       "\n",
       "       author_activity  \n",
       "0               Medium  \n",
       "1                 High  \n",
       "2             Inactive  \n",
       "3             Inactive  \n",
       "4             Inactive  \n",
       "...                ...  \n",
       "302680        Inactive  \n",
       "302681             Low  \n",
       "302682             Low  \n",
       "302683        Inactive  \n",
       "302684            High  \n",
       "\n",
       "[302685 rows x 7 columns]"
      ]
     },
     "execution_count": 21,
     "metadata": {},
     "output_type": "execute_result"
    }
   ],
   "source": [
    "hn4 = hn3.drop(['Object ID', 'Author', 'Created At', 'URL', 'created_at', 'url_domain'], axis=1)\n",
    "hn4"
   ]
  },
  {
   "cell_type": "code",
   "execution_count": 22,
   "id": "f7f3ee67-84e6-4212-81ff-b69f5a5d3a76",
   "metadata": {},
   "outputs": [
    {
     "data": {
      "text/html": [
       "<div>\n",
       "<style scoped>\n",
       "    .dataframe tbody tr th:only-of-type {\n",
       "        vertical-align: middle;\n",
       "    }\n",
       "\n",
       "    .dataframe tbody tr th {\n",
       "        vertical-align: top;\n",
       "    }\n",
       "\n",
       "    .dataframe thead th {\n",
       "        text-align: right;\n",
       "    }\n",
       "</style>\n",
       "<table border=\"1\" class=\"dataframe\">\n",
       "  <thead>\n",
       "    <tr style=\"text-align: right;\">\n",
       "      <th></th>\n",
       "      <th>Title</th>\n",
       "      <th>Post Type</th>\n",
       "      <th>Points</th>\n",
       "      <th>Number of Comments</th>\n",
       "      <th>hour_created</th>\n",
       "      <th>domain_categorized</th>\n",
       "      <th>author_activity</th>\n",
       "    </tr>\n",
       "  </thead>\n",
       "  <tbody>\n",
       "    <tr>\n",
       "      <th>139105</th>\n",
       "      <td>NaN</td>\n",
       "      <td>story</td>\n",
       "      <td>3</td>\n",
       "      <td>2.0</td>\n",
       "      <td>16</td>\n",
       "      <td>no_url</td>\n",
       "      <td>Inactive</td>\n",
       "    </tr>\n",
       "    <tr>\n",
       "      <th>169609</th>\n",
       "      <td>NaN</td>\n",
       "      <td>story</td>\n",
       "      <td>1</td>\n",
       "      <td>0.0</td>\n",
       "      <td>20</td>\n",
       "      <td>no_url</td>\n",
       "      <td>Medium</td>\n",
       "    </tr>\n",
       "    <tr>\n",
       "      <th>227106</th>\n",
       "      <td>NaN</td>\n",
       "      <td>story</td>\n",
       "      <td>2</td>\n",
       "      <td>0.0</td>\n",
       "      <td>0</td>\n",
       "      <td>other</td>\n",
       "      <td>Medium</td>\n",
       "    </tr>\n",
       "    <tr>\n",
       "      <th>235782</th>\n",
       "      <td>NaN</td>\n",
       "      <td>story</td>\n",
       "      <td>1</td>\n",
       "      <td>1.0</td>\n",
       "      <td>6</td>\n",
       "      <td>no_url</td>\n",
       "      <td>Inactive</td>\n",
       "    </tr>\n",
       "  </tbody>\n",
       "</table>\n",
       "</div>"
      ],
      "text/plain": [
       "       Title Post Type  Points  Number of Comments  hour_created  \\\n",
       "139105   NaN     story       3                 2.0            16   \n",
       "169609   NaN     story       1                 0.0            20   \n",
       "227106   NaN     story       2                 0.0             0   \n",
       "235782   NaN     story       1                 1.0             6   \n",
       "\n",
       "       domain_categorized author_activity  \n",
       "139105             no_url        Inactive  \n",
       "169609             no_url          Medium  \n",
       "227106              other          Medium  \n",
       "235782             no_url        Inactive  "
      ]
     },
     "execution_count": 22,
     "metadata": {},
     "output_type": "execute_result"
    }
   ],
   "source": [
    "# Checking for missing values\n",
    "hn4[hn4['Title'].isna()]"
   ]
  },
  {
   "cell_type": "code",
   "execution_count": 23,
   "id": "de86fee9-bf7c-48a5-94c1-9668634a4741",
   "metadata": {},
   "outputs": [],
   "source": [
    "# Dropping rows with missing values\n",
    "hn5 = hn4[hn4['Title'].notna()].copy()"
   ]
  },
  {
   "cell_type": "markdown",
   "id": "e0a1eb35-3f1c-4643-9113-22d179b3826c",
   "metadata": {},
   "source": [
    "Now we will remove unnecessary characters from the Title column."
   ]
  },
  {
   "cell_type": "code",
   "execution_count": 24,
   "id": "6efc218e-4e5c-468e-a386-dc869b1be3e7",
   "metadata": {},
   "outputs": [],
   "source": [
    "import string\n",
    "import re"
   ]
  },
  {
   "cell_type": "code",
   "execution_count": 25,
   "id": "9e4141b0-e0fe-49dd-bf06-db153d448cd5",
   "metadata": {},
   "outputs": [],
   "source": [
    "def clean_title(text):\n",
    "    # Removing all characters except English letters\n",
    "    text = re.sub('[^a-zA-Z]', ' ', text)\n",
    "\n",
    "    # Removing Ask HN and Show HN\n",
    "    text = re.sub('Show HN ', '', text)\n",
    "    text = re.sub('Ask HN ', '', text)\n",
    "\n",
    "    # Removing extra spaces\n",
    "    text = re.sub('\\s+', ' ', text).strip()\n",
    "\n",
    "    return text"
   ]
  },
  {
   "cell_type": "code",
   "execution_count": 26,
   "id": "1c8847c1-029e-403d-9b21-b24f309b7b22",
   "metadata": {},
   "outputs": [],
   "source": [
    "hn5['Title'] = hn5['Title'].apply(clean_title).str.lower()"
   ]
  },
  {
   "cell_type": "code",
   "execution_count": 27,
   "id": "afbbef46-c896-44f3-8941-0ebeaeb1163d",
   "metadata": {},
   "outputs": [
    {
     "data": {
      "text/plain": [
       "0                                                          hi mom say hi to your mom fast\n",
       "1                                               bear hibernation more than a winter s nap\n",
       "2                     the causes of latency in computing systems and why it frustrates us\n",
       "3                                          how much do you generate in terms of donations\n",
       "4                                                                        meet with wallet\n",
       "                                               ...                                       \n",
       "302680                                                                    neovim released\n",
       "302681            analogy between gpts of today and cpus from the early days of computing\n",
       "302682               shoogle fast foss and tracking free yellow pages powered by osm data\n",
       "302683    ufos had sexual encounters with witnesses and left woman pregnant pentagon docs\n",
       "302684                                           my never complete tube tester collection\n",
       "Name: Title, Length: 302681, dtype: object"
      ]
     },
     "execution_count": 27,
     "metadata": {},
     "output_type": "execute_result"
    }
   ],
   "source": [
    "hn5['Title']"
   ]
  },
  {
   "cell_type": "markdown",
   "id": "92d5e1b3-4782-47cb-862d-80ca45a643d5",
   "metadata": {},
   "source": [
    "Next we will reduce words to their root form so that we can use them for Bag of Words model."
   ]
  },
  {
   "cell_type": "code",
   "execution_count": 28,
   "id": "48232f16-7331-4870-bb76-57e98c5d0e8a",
   "metadata": {},
   "outputs": [],
   "source": [
    "import nltk\n",
    "from nltk.corpus import stopwords\n",
    "from nltk.stem import PorterStemmer\n",
    "from nltk.tokenize import word_tokenize"
   ]
  },
  {
   "cell_type": "code",
   "execution_count": 29,
   "id": "96ed816b-b3ac-4cb4-b9f6-2d9f8a3b3293",
   "metadata": {},
   "outputs": [
    {
     "data": {
      "text/plain": [
       "0                                                              [hi, mom, say, hi, to, your, mom, fast]\n",
       "1                                                   [bear, hibernation, more, than, a, winter, s, nap]\n",
       "2                     [the, causes, of, latency, in, computing, systems, and, why, it, frustrates, us]\n",
       "3                                             [how, much, do, you, generate, in, terms, of, donations]\n",
       "4                                                                                 [meet, with, wallet]\n",
       "                                                      ...                                             \n",
       "302680                                                                              [neovim, released]\n",
       "302681           [analogy, between, gpts, of, today, and, cpus, from, the, early, days, of, computing]\n",
       "302682               [shoogle, fast, foss, and, tracking, free, yellow, pages, powered, by, osm, data]\n",
       "302683    [ufos, had, sexual, encounters, with, witnesses, and, left, woman, pregnant, pentagon, docs]\n",
       "302684                                                 [my, never, complete, tube, tester, collection]\n",
       "Name: title_tokenized, Length: 302681, dtype: object"
      ]
     },
     "execution_count": 29,
     "metadata": {},
     "output_type": "execute_result"
    }
   ],
   "source": [
    "# Tokenizing title\n",
    "hn5['title_tokenized'] = hn5['Title'].apply(word_tokenize)\n",
    "hn5['title_tokenized']"
   ]
  },
  {
   "cell_type": "code",
   "execution_count": 30,
   "id": "5a9262bb-2b12-4529-8331-205dfb012e8c",
   "metadata": {},
   "outputs": [],
   "source": [
    "# Removing stopwords\n",
    "hn5['title_tokenized'] = hn5['title_tokenized'].apply(lambda x: [word for word in x if word not in stopwords.words('english')])"
   ]
  },
  {
   "cell_type": "code",
   "execution_count": 31,
   "id": "3d82085d-61e5-4113-86b6-59b233ba5d1f",
   "metadata": {},
   "outputs": [
    {
     "data": {
      "text/plain": [
       "0                                                        [hi, mom, say, hi, mom, fast]\n",
       "1                                                     [bear, hibernation, winter, nap]\n",
       "2                                [causes, latency, computing, systems, frustrates, us]\n",
       "3                                                   [much, generate, terms, donations]\n",
       "4                                                                       [meet, wallet]\n",
       "                                              ...                                     \n",
       "302680                                                              [neovim, released]\n",
       "302681                            [analogy, gpts, today, cpus, early, days, computing]\n",
       "302682        [shoogle, fast, foss, tracking, free, yellow, pages, powered, osm, data]\n",
       "302683    [ufos, sexual, encounters, witnesses, left, woman, pregnant, pentagon, docs]\n",
       "302684                                     [never, complete, tube, tester, collection]\n",
       "Name: title_tokenized, Length: 302681, dtype: object"
      ]
     },
     "execution_count": 31,
     "metadata": {},
     "output_type": "execute_result"
    }
   ],
   "source": [
    "hn5['title_tokenized']"
   ]
  },
  {
   "cell_type": "code",
   "execution_count": 32,
   "id": "8ee7b599-bbb2-4fc7-9883-6e36ae4f9302",
   "metadata": {},
   "outputs": [],
   "source": [
    "# Stemming\n",
    "stemmer = PorterStemmer()\n",
    "\n",
    "hn5['title_tokenized'] = hn5['title_tokenized'].apply(lambda x: [stemmer.stem(word) for word in x])"
   ]
  },
  {
   "cell_type": "code",
   "execution_count": 33,
   "id": "c8025c3d-da9a-4c74-ba0d-3537fd00dc3b",
   "metadata": {},
   "outputs": [
    {
     "data": {
      "text/plain": [
       "0                                             [hi, mom, say, hi, mom, fast]\n",
       "1                                               [bear, hibern, winter, nap]\n",
       "2                              [caus, latenc, comput, system, frustrat, us]\n",
       "3                                                [much, gener, term, donat]\n",
       "4                                                            [meet, wallet]\n",
       "                                        ...                                \n",
       "302680                                                     [neovim, releas]\n",
       "302681                        [analog, gpt, today, cpu, earli, day, comput]\n",
       "302682    [shoogl, fast, foss, track, free, yellow, page, power, osm, data]\n",
       "302683    [ufo, sexual, encount, wit, left, woman, pregnant, pentagon, doc]\n",
       "302684                              [never, complet, tube, tester, collect]\n",
       "Name: title_tokenized, Length: 302681, dtype: object"
      ]
     },
     "execution_count": 33,
     "metadata": {},
     "output_type": "execute_result"
    }
   ],
   "source": [
    "hn5['title_tokenized']"
   ]
  },
  {
   "cell_type": "markdown",
   "id": "61135106-b838-40b4-9a8f-246cd3763d3e",
   "metadata": {},
   "source": [
    "Now we can implement Bag of Words for Title. To reduce dimensionality, we will use top-500 most frequent words only."
   ]
  },
  {
   "cell_type": "code",
   "execution_count": 34,
   "id": "43741353-30d1-458e-9381-a7845760b388",
   "metadata": {},
   "outputs": [],
   "source": [
    "from sklearn.feature_extraction.text import CountVectorizer"
   ]
  },
  {
   "cell_type": "code",
   "execution_count": 35,
   "id": "45016d6e-002b-46a8-8108-2679b47af925",
   "metadata": {},
   "outputs": [],
   "source": [
    "vectorizer = CountVectorizer(max_features=500)\n",
    "\n",
    "# Joining the tokens into a single string for each title\n",
    "title_joined = hn5['title_tokenized'].apply(lambda x: ' '.join(x))\n",
    "\n",
    "# Using CountVectorizer\n",
    "title_bow = vectorizer.fit_transform(title_joined)"
   ]
  },
  {
   "cell_type": "code",
   "execution_count": 36,
   "id": "26d91245-59c2-4914-968e-28055a0be310",
   "metadata": {},
   "outputs": [
    {
     "data": {
      "text/plain": [
       "array([[0, 0, 0, ..., 0, 0, 0],\n",
       "       [0, 0, 0, ..., 0, 0, 0],\n",
       "       [0, 0, 0, ..., 0, 0, 0],\n",
       "       ...,\n",
       "       [0, 0, 0, ..., 0, 0, 0],\n",
       "       [0, 0, 0, ..., 0, 0, 0],\n",
       "       [0, 0, 0, ..., 0, 0, 0]])"
      ]
     },
     "execution_count": 36,
     "metadata": {},
     "output_type": "execute_result"
    }
   ],
   "source": [
    "title_bow_arr = title_bow.toarray()\n",
    "title_names = vectorizer.get_feature_names_out()\n",
    "\n",
    "title_bow_arr"
   ]
  },
  {
   "cell_type": "code",
   "execution_count": 37,
   "id": "97705f13-561c-4248-94fd-79c576fd208a",
   "metadata": {
    "scrolled": true
   },
   "outputs": [
    {
     "data": {
      "text/plain": [
       "array(['access', 'account', 'action', 'activ', 'ad', 'add', 'age', 'ai',\n",
       "       'air', 'algorithm', 'altern', 'amazon', 'america', 'american',\n",
       "       'analysi', 'android', 'anim', 'announc', 'anyon', 'api', 'app',\n",
       "       'appl', 'applic', 'architectur', 'art', 'ask', 'attack', 'autom',\n",
       "       'avail', 'aw', 'back', 'bad', 'ban', 'bank', 'base', 'batteri',\n",
       "       'becom', 'behind', 'best', 'better', 'big', 'bill', 'bitcoin',\n",
       "       'black', 'block', 'blog', 'book', 'brain', 'break', 'bring',\n",
       "       'browser', 'bug', 'build', 'built', 'busi', 'buy', 'california',\n",
       "       'call', 'car', 'case', 'caus', 'ceo', 'challeng', 'chang', 'charg',\n",
       "       'chat', 'chatgpt', 'china', 'chines', 'chip', 'chrome', 'citi',\n",
       "       'claim', 'client', 'climat', 'close', 'cloud', 'co', 'code',\n",
       "       'collect', 'com', 'come', 'command', 'commun', 'compani', 'compil',\n",
       "       'complet', 'comput', 'connect', 'content', 'control', 'cost',\n",
       "       'could', 'court', 'covid', 'crash', 'creat', 'crisi', 'crypto',\n",
       "       'custom', 'cut', 'data', 'databas', 'day', 'dead', 'deal', 'death',\n",
       "       'deep', 'design', 'detect', 'dev', 'develop', 'devic', 'die',\n",
       "       'differ', 'diffus', 'digit', 'discov', 'distribut', 'document',\n",
       "       'drive', 'drone', 'drop', 'earli', 'earth', 'edit', 'effect',\n",
       "       'electr', 'elon', 'email', 'employe', 'encrypt', 'end', 'energi',\n",
       "       'engin', 'eu', 'europ', 'ev', 'ever', 'everi', 'everyth', 'execut',\n",
       "       'experi', 'explain', 'explor', 'extens', 'face', 'facebook',\n",
       "       'fail', 'fake', 'fall', 'fast', 'faster', 'featur', 'fight',\n",
       "       'file', 'final', 'find', 'fire', 'first', 'fix', 'food', 'forc',\n",
       "       'found', 'founder', 'framework', 'free', 'ftx', 'full', 'function',\n",
       "       'fund', 'futur', 'game', 'gener', 'get', 'git', 'github', 'give',\n",
       "       'global', 'go', 'good', 'googl', 'got', 'govern', 'gpt', 'great',\n",
       "       'group', 'grow', 'guid', 'hack', 'hacker', 'happen', 'hard',\n",
       "       'health', 'help', 'high', 'hire', 'histori', 'hit', 'hn', 'home',\n",
       "       'host', 'hour', 'hous', 'human', 'idea', 'imag', 'impact',\n",
       "       'implement', 'improv', 'increas', 'india', 'industri', 'insid',\n",
       "       'intel', 'intellig', 'interact', 'intern', 'internet', 'interview',\n",
       "       'invest', 'io', 'iphon', 'issu', 'japan', 'javascript', 'job',\n",
       "       'js', 'keep', 'key', 'kill', 'know', 'kubernet', 'languag', 'larg',\n",
       "       'last', 'launch', 'law', 'layoff', 'lead', 'leak', 'learn', 'leav',\n",
       "       'less', 'let', 'level', 'librari', 'life', 'light', 'like',\n",
       "       'limit', 'line', 'link', 'linux', 'list', 'live', 'long', 'look',\n",
       "       'lose', 'lost', 'love', 'low', 'mac', 'machin', 'maco', 'made',\n",
       "       'make', 'man', 'manag', 'mani', 'map', 'market', 'mastodon',\n",
       "       'math', 'may', 'mean', 'media', 'meet', 'memori', 'messag', 'meta',\n",
       "       'microsoft', 'million', 'mobil', 'model', 'modern', 'money',\n",
       "       'monitor', 'month', 'move', 'much', 'music', 'musk', 'name',\n",
       "       'nasa', 'nation', 'need', 'network', 'never', 'new', 'news',\n",
       "       'next', 'nft', 'node', 'non', 'note', 'nuclear', 'number',\n",
       "       'object', 'offer', 'offic', 'offici', 'old', 'one', 'onlin',\n",
       "       'open', 'openai', 'oper', 'optim', 'order', 'origin', 'packag',\n",
       "       'page', 'paper', 'part', 'password', 'pay', 'pdf', 'peopl',\n",
       "       'perform', 'person', 'phone', 'physic', 'plan', 'plant',\n",
       "       'platform', 'play', 'polici', 'post', 'power', 'practic',\n",
       "       'predict', 'price', 'privaci', 'privat', 'pro', 'problem',\n",
       "       'process', 'product', 'program', 'project', 'protect', 'public',\n",
       "       'put', 'python', 'quantum', 'question', 'rais', 'rate', 'react',\n",
       "       'read', 'real', 'record', 'releas', 'remot', 'remov', 'replac',\n",
       "       'report', 'research', 'respons', 'return', 'reveal', 'review',\n",
       "       'right', 'rise', 'risk', 'robot', 'rule', 'run', 'russia',\n",
       "       'russian', 'rust', 'sale', 'save', 'say', 'scale', 'school',\n",
       "       'scienc', 'scientist', 'search', 'second', 'secret', 'secur',\n",
       "       'see', 'self', 'sell', 'server', 'servic', 'set', 'share', 'show',\n",
       "       'side', 'sign', 'silicon', 'simpl', 'singl', 'site', 'small',\n",
       "       'social', 'softwar', 'solar', 'solv', 'sourc', 'space', 'speed',\n",
       "       'stabl', 'stack', 'start', 'startup', 'state', 'step', 'still',\n",
       "       'stock', 'stop', 'storag', 'store', 'stori', 'stream', 'student',\n",
       "       'studi', 'success', 'support', 'system', 'take', 'talk', 'target',\n",
       "       'team', 'tech', 'technolog', 'tell', 'termin', 'tesla', 'test',\n",
       "       'text', 'theori', 'thing', 'think', 'thought', 'three', 'tiktok',\n",
       "       'time', 'tool', 'top', 'track', 'trade', 'train', 'tri', 'turn',\n",
       "       'twitter', 'two', 'type', 'uk', 'ukrain', 'understand', 'univers',\n",
       "       'updat', 'us', 'use', 'user', 'valley', 'valu', 'version', 'via',\n",
       "       'video', 'virtual', 'visual', 'vs', 'vulner', 'want', 'war',\n",
       "       'warn', 'watch', 'water', 'way', 'web', 'websit', 'week', 'win',\n",
       "       'window', 'without', 'word', 'work', 'worker', 'world', 'would',\n",
       "       'write', 'wrong', 'year', 'youtub', 'zero'], dtype=object)"
      ]
     },
     "execution_count": 37,
     "metadata": {},
     "output_type": "execute_result"
    }
   ],
   "source": [
    "title_names"
   ]
  },
  {
   "cell_type": "markdown",
   "id": "b3acb7c1-1414-42de-a1b0-0e311b9bb79e",
   "metadata": {},
   "source": [
    "### Creating response variable\n",
    "\n",
    "We will combine points and comments into new response, which will reflect the popularity of the post."
   ]
  },
  {
   "cell_type": "code",
   "execution_count": 38,
   "id": "a1b5e7c0-d344-4f2c-8655-4e0b81388a72",
   "metadata": {},
   "outputs": [],
   "source": [
    "y = hn5['Points'] + hn5['Number of Comments']"
   ]
  },
  {
   "cell_type": "code",
   "execution_count": 39,
   "id": "728486f2-735b-4c49-a3cc-78af3295808c",
   "metadata": {},
   "outputs": [
    {
     "data": {
      "text/plain": [
       "count    302681.000000\n",
       "mean         34.078677\n",
       "std         126.110349\n",
       "min           1.000000\n",
       "25%           2.000000\n",
       "50%           3.000000\n",
       "75%           8.000000\n",
       "max        6599.000000\n",
       "dtype: float64"
      ]
     },
     "execution_count": 39,
     "metadata": {},
     "output_type": "execute_result"
    }
   ],
   "source": [
    "y.describe()"
   ]
  },
  {
   "cell_type": "code",
   "execution_count": 40,
   "id": "4fe827f1-9faa-4518-a414-765a70f53a1f",
   "metadata": {},
   "outputs": [
    {
     "data": {
      "image/png": "[encoded data removed]",
      "text/plain": [
       "<Figure size 640x480 with 1 Axes>"
      ]
     },
     "metadata": {},
     "output_type": "display_data"
    }
   ],
   "source": [
    "bins = [0, 8, np.inf]\n",
    "labels = ['Low', 'High']\n",
    "\n",
    "pd.cut(y, bins=bins, labels=labels).value_counts().plot.pie(normalize=True,\n",
    "                                                            colors=['dimgray', 'darkgrey'],\n",
    "                                                            labels=labels,\n",
    "                                                            autopct='%1.1f%%',\n",
    "                                                            explode = (0, 0.1))\n",
    "plt.title('Posts by Popularity', size=16)\n",
    "plt.show()"
   ]
  },
  {
   "cell_type": "markdown",
   "id": "537b6d1d-70ce-44ed-b555-9d9138d604c9",
   "metadata": {},
   "source": [
    "We will use 8 reactions (75th percentile) as a threshold that defines popular post, since it represents an adequate share of total posts."
   ]
  },
  {
   "cell_type": "code",
   "execution_count": 41,
   "id": "1b6fd87b-bc47-46b1-9ee4-571f48a6f8d5",
   "metadata": {},
   "outputs": [
    {
     "data": {
      "text/plain": [
       "array([0., 0., 0., ..., 0., 0., 0.])"
      ]
     },
     "execution_count": 41,
     "metadata": {},
     "output_type": "execute_result"
    }
   ],
   "source": [
    "y_cat = np.ones(y.shape[0])\n",
    "\n",
    "y_cat[y < 8] = 0\n",
    "\n",
    "y_cat"
   ]
  },
  {
   "cell_type": "code",
   "execution_count": 42,
   "id": "52464669-f3ec-461f-b49c-cb3ffe24304b",
   "metadata": {},
   "outputs": [
    {
     "data": {
      "text/plain": [
       "76618.0"
      ]
     },
     "execution_count": 42,
     "metadata": {},
     "output_type": "execute_result"
    }
   ],
   "source": [
    "y_cat.sum()"
   ]
  },
  {
   "cell_type": "markdown",
   "id": "fe99a40d-c922-4183-95f8-48fee5b8b904",
   "metadata": {},
   "source": [
    "### One-hot encoding and combining all features"
   ]
  },
  {
   "cell_type": "code",
   "execution_count": 43,
   "id": "e7f3dee4-5a55-4ab8-ba29-7fe619eaec09",
   "metadata": {},
   "outputs": [
    {
     "data": {
      "text/html": [
       "<div>\n",
       "<style scoped>\n",
       "    .dataframe tbody tr th:only-of-type {\n",
       "        vertical-align: middle;\n",
       "    }\n",
       "\n",
       "    .dataframe tbody tr th {\n",
       "        vertical-align: top;\n",
       "    }\n",
       "\n",
       "    .dataframe thead th {\n",
       "        text-align: right;\n",
       "    }\n",
       "</style>\n",
       "<table border=\"1\" class=\"dataframe\">\n",
       "  <thead>\n",
       "    <tr style=\"text-align: right;\">\n",
       "      <th></th>\n",
       "      <th>type</th>\n",
       "      <th>hour_created</th>\n",
       "      <th>url</th>\n",
       "      <th>author_activity</th>\n",
       "    </tr>\n",
       "  </thead>\n",
       "  <tbody>\n",
       "    <tr>\n",
       "      <th>0</th>\n",
       "      <td>story</td>\n",
       "      <td>0</td>\n",
       "      <td>github.com</td>\n",
       "      <td>Medium</td>\n",
       "    </tr>\n",
       "    <tr>\n",
       "      <th>1</th>\n",
       "      <td>story</td>\n",
       "      <td>0</td>\n",
       "      <td>other</td>\n",
       "      <td>High</td>\n",
       "    </tr>\n",
       "    <tr>\n",
       "      <th>2</th>\n",
       "      <td>show_hn</td>\n",
       "      <td>0</td>\n",
       "      <td>other</td>\n",
       "      <td>Inactive</td>\n",
       "    </tr>\n",
       "    <tr>\n",
       "      <th>3</th>\n",
       "      <td>story</td>\n",
       "      <td>0</td>\n",
       "      <td>no_url</td>\n",
       "      <td>Inactive</td>\n",
       "    </tr>\n",
       "    <tr>\n",
       "      <th>4</th>\n",
       "      <td>story</td>\n",
       "      <td>0</td>\n",
       "      <td>other</td>\n",
       "      <td>Inactive</td>\n",
       "    </tr>\n",
       "    <tr>\n",
       "      <th>...</th>\n",
       "      <td>...</td>\n",
       "      <td>...</td>\n",
       "      <td>...</td>\n",
       "      <td>...</td>\n",
       "    </tr>\n",
       "    <tr>\n",
       "      <th>302680</th>\n",
       "      <td>story</td>\n",
       "      <td>11</td>\n",
       "      <td>github.com</td>\n",
       "      <td>Inactive</td>\n",
       "    </tr>\n",
       "    <tr>\n",
       "      <th>302681</th>\n",
       "      <td>story</td>\n",
       "      <td>11</td>\n",
       "      <td>twitter.com</td>\n",
       "      <td>Low</td>\n",
       "    </tr>\n",
       "    <tr>\n",
       "      <th>302682</th>\n",
       "      <td>show_hn</td>\n",
       "      <td>11</td>\n",
       "      <td>other</td>\n",
       "      <td>Low</td>\n",
       "    </tr>\n",
       "    <tr>\n",
       "      <th>302683</th>\n",
       "      <td>story</td>\n",
       "      <td>11</td>\n",
       "      <td>other</td>\n",
       "      <td>Inactive</td>\n",
       "    </tr>\n",
       "    <tr>\n",
       "      <th>302684</th>\n",
       "      <td>story</td>\n",
       "      <td>11</td>\n",
       "      <td>other</td>\n",
       "      <td>High</td>\n",
       "    </tr>\n",
       "  </tbody>\n",
       "</table>\n",
       "<p>302681 rows × 4 columns</p>\n",
       "</div>"
      ],
      "text/plain": [
       "           type  hour_created          url author_activity\n",
       "0         story             0   github.com          Medium\n",
       "1         story             0        other            High\n",
       "2       show_hn             0        other        Inactive\n",
       "3         story             0       no_url        Inactive\n",
       "4         story             0        other        Inactive\n",
       "...         ...           ...          ...             ...\n",
       "302680    story            11   github.com        Inactive\n",
       "302681    story            11  twitter.com             Low\n",
       "302682  show_hn            11        other             Low\n",
       "302683    story            11        other        Inactive\n",
       "302684    story            11        other            High\n",
       "\n",
       "[302681 rows x 4 columns]"
      ]
     },
     "execution_count": 43,
     "metadata": {},
     "output_type": "execute_result"
    }
   ],
   "source": [
    "X = hn5[['Post Type', 'hour_created', 'domain_categorized', 'author_activity']].copy()\n",
    "\n",
    "X.rename({'Post Type' : 'type', 'domain_categorized' : 'url'}, axis=1, inplace=True)\n",
    "\n",
    "X"
   ]
  },
  {
   "cell_type": "code",
   "execution_count": 44,
   "id": "fbe75291-fafc-434b-918a-c34f16b1f8c7",
   "metadata": {
    "scrolled": true
   },
   "outputs": [
    {
     "data": {
      "text/plain": [
       "['hour_created',\n",
       " 'type_poll',\n",
       " 'type_show_hn',\n",
       " 'type_story',\n",
       " 'url_arstechnica.com',\n",
       " 'url_arxiv.org',\n",
       " 'url_en.wikipedia.org',\n",
       " 'url_github.blog',\n",
       " 'url_github.com',\n",
       " 'url_gizmodo.com',\n",
       " 'url_hackaday.com',\n",
       " 'url_lite.cnn.com',\n",
       " 'url_medium.com',\n",
       " 'url_no_url',\n",
       " 'url_old.reddit.com',\n",
       " 'url_other',\n",
       " 'url_phys.org',\n",
       " 'url_spectrum.ieee.org',\n",
       " 'url_techcrunch.com',\n",
       " 'url_theconversation.com',\n",
       " 'url_thenewstack.io',\n",
       " 'url_twitter.com',\n",
       " 'url_www.axios.com',\n",
       " 'url_www.bbc.co.uk',\n",
       " 'url_www.bbc.com',\n",
       " 'url_www.bleepingcomputer.com',\n",
       " 'url_www.bloomberg.com',\n",
       " 'url_www.businessinsider.com',\n",
       " 'url_www.cnbc.com',\n",
       " 'url_www.cnn.com',\n",
       " 'url_www.economist.com',\n",
       " 'url_www.engadget.com',\n",
       " 'url_www.forbes.com',\n",
       " 'url_www.ft.com',\n",
       " 'url_www.macrumors.com',\n",
       " 'url_www.nature.com',\n",
       " 'url_www.newyorker.com',\n",
       " 'url_www.npr.org',\n",
       " 'url_www.nytimes.com',\n",
       " 'url_www.phoronix.com',\n",
       " 'url_www.quantamagazine.org',\n",
       " 'url_www.reuters.com',\n",
       " 'url_www.science.org',\n",
       " 'url_www.technologyreview.com',\n",
       " 'url_www.theatlantic.com',\n",
       " 'url_www.theguardian.com',\n",
       " 'url_www.theregister.com',\n",
       " 'url_www.theverge.com',\n",
       " 'url_www.tomshardware.com',\n",
       " 'url_www.vice.com',\n",
       " 'url_www.washingtonpost.com',\n",
       " 'url_www.wired.com',\n",
       " 'url_www.wsj.com',\n",
       " 'url_www.youtube.com',\n",
       " 'author_activity_Low',\n",
       " 'author_activity_Medium',\n",
       " 'author_activity_High']"
      ]
     },
     "execution_count": 44,
     "metadata": {},
     "output_type": "execute_result"
    }
   ],
   "source": [
    "X = pd.get_dummies(X, drop_first=True)\n",
    "\n",
    "feature_names = X.columns.to_list()\n",
    "\n",
    "X = np.asarray(X)\n",
    "\n",
    "feature_names"
   ]
  },
  {
   "cell_type": "code",
   "execution_count": 45,
   "id": "bdfc5e41-0749-4e47-9e79-ba0a6560eef2",
   "metadata": {
    "scrolled": true
   },
   "outputs": [
    {
     "data": {
      "text/plain": [
       "array(['hour_created', 'type_poll', 'type_show_hn', 'type_story',\n",
       "       'url_arstechnica.com', 'url_arxiv.org', 'url_en.wikipedia.org',\n",
       "       'url_github.blog', 'url_github.com', 'url_gizmodo.com',\n",
       "       'url_hackaday.com', 'url_lite.cnn.com', 'url_medium.com',\n",
       "       'url_no_url', 'url_old.reddit.com', 'url_other', 'url_phys.org',\n",
       "       'url_spectrum.ieee.org', 'url_techcrunch.com',\n",
       "       'url_theconversation.com', 'url_thenewstack.io', 'url_twitter.com',\n",
       "       'url_www.axios.com', 'url_www.bbc.co.uk', 'url_www.bbc.com',\n",
       "       'url_www.bleepingcomputer.com', 'url_www.bloomberg.com',\n",
       "       'url_www.businessinsider.com', 'url_www.cnbc.com',\n",
       "       'url_www.cnn.com', 'url_www.economist.com', 'url_www.engadget.com',\n",
       "       'url_www.forbes.com', 'url_www.ft.com', 'url_www.macrumors.com',\n",
       "       'url_www.nature.com', 'url_www.newyorker.com', 'url_www.npr.org',\n",
       "       'url_www.nytimes.com', 'url_www.phoronix.com',\n",
       "       'url_www.quantamagazine.org', 'url_www.reuters.com',\n",
       "       'url_www.science.org', 'url_www.technologyreview.com',\n",
       "       'url_www.theatlantic.com', 'url_www.theguardian.com',\n",
       "       'url_www.theregister.com', 'url_www.theverge.com',\n",
       "       'url_www.tomshardware.com', 'url_www.vice.com',\n",
       "       'url_www.washingtonpost.com', 'url_www.wired.com',\n",
       "       'url_www.wsj.com', 'url_www.youtube.com', 'author_activity_Low',\n",
       "       'author_activity_Medium', 'author_activity_High', 'title_access',\n",
       "       'title_account', 'title_action', 'title_activ', 'title_ad',\n",
       "       'title_add', 'title_age', 'title_ai', 'title_air',\n",
       "       'title_algorithm', 'title_altern', 'title_amazon', 'title_america',\n",
       "       'title_american', 'title_analysi', 'title_android', 'title_anim',\n",
       "       'title_announc', 'title_anyon', 'title_api', 'title_app',\n",
       "       'title_appl', 'title_applic', 'title_architectur', 'title_art',\n",
       "       'title_ask', 'title_attack', 'title_autom', 'title_avail',\n",
       "       'title_aw', 'title_back', 'title_bad', 'title_ban', 'title_bank',\n",
       "       'title_base', 'title_batteri', 'title_becom', 'title_behind',\n",
       "       'title_best', 'title_better', 'title_big', 'title_bill',\n",
       "       'title_bitcoin', 'title_black', 'title_block', 'title_blog',\n",
       "       'title_book', 'title_brain', 'title_break', 'title_bring',\n",
       "       'title_browser', 'title_bug', 'title_build', 'title_built',\n",
       "       'title_busi', 'title_buy', 'title_california', 'title_call',\n",
       "       'title_car', 'title_case', 'title_caus', 'title_ceo',\n",
       "       'title_challeng', 'title_chang', 'title_charg', 'title_chat',\n",
       "       'title_chatgpt', 'title_china', 'title_chines', 'title_chip',\n",
       "       'title_chrome', 'title_citi', 'title_claim', 'title_client',\n",
       "       'title_climat', 'title_close', 'title_cloud', 'title_co',\n",
       "       'title_code', 'title_collect', 'title_com', 'title_come',\n",
       "       'title_command', 'title_commun', 'title_compani', 'title_compil',\n",
       "       'title_complet', 'title_comput', 'title_connect', 'title_content',\n",
       "       'title_control', 'title_cost', 'title_could', 'title_court',\n",
       "       'title_covid', 'title_crash', 'title_creat', 'title_crisi',\n",
       "       'title_crypto', 'title_custom', 'title_cut', 'title_data',\n",
       "       'title_databas', 'title_day', 'title_dead', 'title_deal',\n",
       "       'title_death', 'title_deep', 'title_design', 'title_detect',\n",
       "       'title_dev', 'title_develop', 'title_devic', 'title_die',\n",
       "       'title_differ', 'title_diffus', 'title_digit', 'title_discov',\n",
       "       'title_distribut', 'title_document', 'title_drive', 'title_drone',\n",
       "       'title_drop', 'title_earli', 'title_earth', 'title_edit',\n",
       "       'title_effect', 'title_electr', 'title_elon', 'title_email',\n",
       "       'title_employe', 'title_encrypt', 'title_end', 'title_energi',\n",
       "       'title_engin', 'title_eu', 'title_europ', 'title_ev', 'title_ever',\n",
       "       'title_everi', 'title_everyth', 'title_execut', 'title_experi',\n",
       "       'title_explain', 'title_explor', 'title_extens', 'title_face',\n",
       "       'title_facebook', 'title_fail', 'title_fake', 'title_fall',\n",
       "       'title_fast', 'title_faster', 'title_featur', 'title_fight',\n",
       "       'title_file', 'title_final', 'title_find', 'title_fire',\n",
       "       'title_first', 'title_fix', 'title_food', 'title_forc',\n",
       "       'title_found', 'title_founder', 'title_framework', 'title_free',\n",
       "       'title_ftx', 'title_full', 'title_function', 'title_fund',\n",
       "       'title_futur', 'title_game', 'title_gener', 'title_get',\n",
       "       'title_git', 'title_github', 'title_give', 'title_global',\n",
       "       'title_go', 'title_good', 'title_googl', 'title_got',\n",
       "       'title_govern', 'title_gpt', 'title_great', 'title_group',\n",
       "       'title_grow', 'title_guid', 'title_hack', 'title_hacker',\n",
       "       'title_happen', 'title_hard', 'title_health', 'title_help',\n",
       "       'title_high', 'title_hire', 'title_histori', 'title_hit',\n",
       "       'title_hn', 'title_home', 'title_host', 'title_hour', 'title_hous',\n",
       "       'title_human', 'title_idea', 'title_imag', 'title_impact',\n",
       "       'title_implement', 'title_improv', 'title_increas', 'title_india',\n",
       "       'title_industri', 'title_insid', 'title_intel', 'title_intellig',\n",
       "       'title_interact', 'title_intern', 'title_internet',\n",
       "       'title_interview', 'title_invest', 'title_io', 'title_iphon',\n",
       "       'title_issu', 'title_japan', 'title_javascript', 'title_job',\n",
       "       'title_js', 'title_keep', 'title_key', 'title_kill', 'title_know',\n",
       "       'title_kubernet', 'title_languag', 'title_larg', 'title_last',\n",
       "       'title_launch', 'title_law', 'title_layoff', 'title_lead',\n",
       "       'title_leak', 'title_learn', 'title_leav', 'title_less',\n",
       "       'title_let', 'title_level', 'title_librari', 'title_life',\n",
       "       'title_light', 'title_like', 'title_limit', 'title_line',\n",
       "       'title_link', 'title_linux', 'title_list', 'title_live',\n",
       "       'title_long', 'title_look', 'title_lose', 'title_lost',\n",
       "       'title_love', 'title_low', 'title_mac', 'title_machin',\n",
       "       'title_maco', 'title_made', 'title_make', 'title_man',\n",
       "       'title_manag', 'title_mani', 'title_map', 'title_market',\n",
       "       'title_mastodon', 'title_math', 'title_may', 'title_mean',\n",
       "       'title_media', 'title_meet', 'title_memori', 'title_messag',\n",
       "       'title_meta', 'title_microsoft', 'title_million', 'title_mobil',\n",
       "       'title_model', 'title_modern', 'title_money', 'title_monitor',\n",
       "       'title_month', 'title_move', 'title_much', 'title_music',\n",
       "       'title_musk', 'title_name', 'title_nasa', 'title_nation',\n",
       "       'title_need', 'title_network', 'title_never', 'title_new',\n",
       "       'title_news', 'title_next', 'title_nft', 'title_node', 'title_non',\n",
       "       'title_note', 'title_nuclear', 'title_number', 'title_object',\n",
       "       'title_offer', 'title_offic', 'title_offici', 'title_old',\n",
       "       'title_one', 'title_onlin', 'title_open', 'title_openai',\n",
       "       'title_oper', 'title_optim', 'title_order', 'title_origin',\n",
       "       'title_packag', 'title_page', 'title_paper', 'title_part',\n",
       "       'title_password', 'title_pay', 'title_pdf', 'title_peopl',\n",
       "       'title_perform', 'title_person', 'title_phone', 'title_physic',\n",
       "       'title_plan', 'title_plant', 'title_platform', 'title_play',\n",
       "       'title_polici', 'title_post', 'title_power', 'title_practic',\n",
       "       'title_predict', 'title_price', 'title_privaci', 'title_privat',\n",
       "       'title_pro', 'title_problem', 'title_process', 'title_product',\n",
       "       'title_program', 'title_project', 'title_protect', 'title_public',\n",
       "       'title_put', 'title_python', 'title_quantum', 'title_question',\n",
       "       'title_rais', 'title_rate', 'title_react', 'title_read',\n",
       "       'title_real', 'title_record', 'title_releas', 'title_remot',\n",
       "       'title_remov', 'title_replac', 'title_report', 'title_research',\n",
       "       'title_respons', 'title_return', 'title_reveal', 'title_review',\n",
       "       'title_right', 'title_rise', 'title_risk', 'title_robot',\n",
       "       'title_rule', 'title_run', 'title_russia', 'title_russian',\n",
       "       'title_rust', 'title_sale', 'title_save', 'title_say',\n",
       "       'title_scale', 'title_school', 'title_scienc', 'title_scientist',\n",
       "       'title_search', 'title_second', 'title_secret', 'title_secur',\n",
       "       'title_see', 'title_self', 'title_sell', 'title_server',\n",
       "       'title_servic', 'title_set', 'title_share', 'title_show',\n",
       "       'title_side', 'title_sign', 'title_silicon', 'title_simpl',\n",
       "       'title_singl', 'title_site', 'title_small', 'title_social',\n",
       "       'title_softwar', 'title_solar', 'title_solv', 'title_sourc',\n",
       "       'title_space', 'title_speed', 'title_stabl', 'title_stack',\n",
       "       'title_start', 'title_startup', 'title_state', 'title_step',\n",
       "       'title_still', 'title_stock', 'title_stop', 'title_storag',\n",
       "       'title_store', 'title_stori', 'title_stream', 'title_student',\n",
       "       'title_studi', 'title_success', 'title_support', 'title_system',\n",
       "       'title_take', 'title_talk', 'title_target', 'title_team',\n",
       "       'title_tech', 'title_technolog', 'title_tell', 'title_termin',\n",
       "       'title_tesla', 'title_test', 'title_text', 'title_theori',\n",
       "       'title_thing', 'title_think', 'title_thought', 'title_three',\n",
       "       'title_tiktok', 'title_time', 'title_tool', 'title_top',\n",
       "       'title_track', 'title_trade', 'title_train', 'title_tri',\n",
       "       'title_turn', 'title_twitter', 'title_two', 'title_type',\n",
       "       'title_uk', 'title_ukrain', 'title_understand', 'title_univers',\n",
       "       'title_updat', 'title_us', 'title_use', 'title_user',\n",
       "       'title_valley', 'title_valu', 'title_version', 'title_via',\n",
       "       'title_video', 'title_virtual', 'title_visual', 'title_vs',\n",
       "       'title_vulner', 'title_want', 'title_war', 'title_warn',\n",
       "       'title_watch', 'title_water', 'title_way', 'title_web',\n",
       "       'title_websit', 'title_week', 'title_win', 'title_window',\n",
       "       'title_without', 'title_word', 'title_work', 'title_worker',\n",
       "       'title_world', 'title_would', 'title_write', 'title_wrong',\n",
       "       'title_year', 'title_youtub', 'title_zero'], dtype=object)"
      ]
     },
     "execution_count": 45,
     "metadata": {},
     "output_type": "execute_result"
    }
   ],
   "source": [
    "feature_names2 = np.concatenate((feature_names, ('title_' + title_names)))\n",
    "feature_names2"
   ]
  },
  {
   "cell_type": "code",
   "execution_count": 46,
   "id": "0642619b-13b4-49a7-87d4-74dec701b721",
   "metadata": {},
   "outputs": [],
   "source": [
    "X = np.concatenate((X, title_bow_arr), axis=1)"
   ]
  },
  {
   "cell_type": "code",
   "execution_count": 47,
   "id": "53f82cff-c24f-4518-a1f5-3a1094ac001a",
   "metadata": {},
   "outputs": [
    {
     "data": {
      "text/plain": [
       "(302681, 557)"
      ]
     },
     "execution_count": 47,
     "metadata": {},
     "output_type": "execute_result"
    }
   ],
   "source": [
    "X.shape"
   ]
  },
  {
   "cell_type": "markdown",
   "id": "b6d5f6f1-d619-4000-b07d-c43348da4c09",
   "metadata": {},
   "source": [
    "## Logistic Regression\n",
    "\n",
    "We will start with logistic regression, and grid-seach for optimal hyperparameters."
   ]
  },
  {
   "cell_type": "code",
   "execution_count": 48,
   "id": "aa469c35-ebb0-4acc-9a51-3f71b1e51847",
   "metadata": {},
   "outputs": [],
   "source": [
    "import sklearn.model_selection as skm\n",
    "from sklearn.linear_model import SGDClassifier\n",
    "from sklearn.preprocessing import StandardScaler\n",
    "from sklearn.metrics import classification_report"
   ]
  },
  {
   "cell_type": "code",
   "execution_count": 49,
   "id": "3a64dcc1-fa8b-4425-8e2d-fadcdeb106e0",
   "metadata": {},
   "outputs": [],
   "source": [
    "# Scaling the non-binary feature\n",
    "scaler = StandardScaler(with_mean=True, with_std=True, copy=True)\n",
    "\n",
    "X0_scaled = scaler.fit_transform(X[:,0].reshape(-1,1))\n",
    "Xrest = X[:,1:]\n",
    "\n",
    "X_scaled = np.concatenate((X0_scaled, Xrest), axis=1)"
   ]
  },
  {
   "cell_type": "code",
   "execution_count": 50,
   "id": "1b385d64-a3c2-4fbf-87a7-866399dd2f42",
   "metadata": {},
   "outputs": [],
   "source": [
    "X_train, X_test, y_train, y_test = skm.train_test_split(X_scaled, y_cat, test_size=0.25, random_state=212)"
   ]
  },
  {
   "cell_type": "code",
   "execution_count": 51,
   "id": "f860b42c-9f5d-4163-9c11-5b2e972aa5aa",
   "metadata": {},
   "outputs": [],
   "source": [
    "kfold = skm.KFold(5, \n",
    "                  random_state=212,\n",
    "                  shuffle=True)"
   ]
  },
  {
   "cell_type": "markdown",
   "id": "58886672-f2b3-4e82-a0e7-f04275c95c88",
   "metadata": {},
   "source": [
    "We will use f1 score as a scoring parameter for grid search, since we are mostly interested in indentifying 'Popular' posts, that represent only under 25% of total observations."
   ]
  },
  {
   "cell_type": "code",
   "execution_count": 52,
   "id": "a2d1baf2-a343-4068-8494-49a5cc1ce352",
   "metadata": {},
   "outputs": [
    {
     "data": {
      "text/plain": [
       "{'alpha': 0.0001, 'penalty': 'l2'}"
      ]
     },
     "execution_count": 52,
     "metadata": {},
     "output_type": "execute_result"
    }
   ],
   "source": [
    "logit = SGDClassifier(loss='log_loss',\n",
    "                      max_iter=1000,\n",
    "                      n_jobs=-1,\n",
    "                      early_stopping=True,\n",
    "                      class_weight='balanced')\n",
    "\n",
    "logit_params = {'penalty':['l1', 'l2', 'elasticnet'],\n",
    "                'alpha':[0.0001, 0.001, 0.01, 0.1]}\n",
    "\n",
    "gs_logit = skm.GridSearchCV(logit, logit_params, cv=kfold, scoring='f1')\n",
    "gs_logit.fit(X_train, y_train)\n",
    "\n",
    "gs_logit.best_params_"
   ]
  },
  {
   "cell_type": "markdown",
   "id": "94a00c99-3388-477d-a842-11fb83c4f6dc",
   "metadata": {},
   "source": [
    "The best model implements weak l2 regularization, with no feature selection."
   ]
  },
  {
   "cell_type": "code",
   "execution_count": 53,
   "id": "a5a5401a-994a-41db-b5a3-8767cd870a83",
   "metadata": {},
   "outputs": [
    {
     "name": "stdout",
     "output_type": "stream",
     "text": [
      "Log Regression\n",
      "\n",
      "              precision    recall  f1-score   support\n",
      "\n",
      "         0.0       0.80      0.60      0.68     56382\n",
      "         1.0       0.33      0.57      0.41     19289\n",
      "\n",
      "    accuracy                           0.59     75671\n",
      "   macro avg       0.56      0.58      0.55     75671\n",
      "weighted avg       0.68      0.59      0.62     75671\n",
      "\n"
     ]
    }
   ],
   "source": [
    "print('Log Regression'+'\\n')\n",
    "print(classification_report(y_test, gs_logit.best_estimator_.predict(X_test)))"
   ]
  },
  {
   "cell_type": "markdown",
   "id": "f0f1d94b-bd28-490d-a621-c77b6dba9e4d",
   "metadata": {},
   "source": [
    "Logistic regression shows moderate recall and precision for 'Popular' class.\n",
    "\n",
    "We will try to improve results with different models."
   ]
  },
  {
   "cell_type": "markdown",
   "id": "335471e7-326a-4fc4-9525-0df21b209c88",
   "metadata": {},
   "source": [
    "## Linear SVC\n",
    "\n",
    "Next we will try linear support vector classifier."
   ]
  },
  {
   "cell_type": "code",
   "execution_count": 56,
   "id": "811be2d4-9dbe-40e9-bef3-798283def237",
   "metadata": {},
   "outputs": [
    {
     "data": {
      "text/plain": [
       "{'alpha': 0.0001, 'penalty': 'l2'}"
      ]
     },
     "execution_count": 56,
     "metadata": {},
     "output_type": "execute_result"
    }
   ],
   "source": [
    "svc = SGDClassifier(loss='hinge',\n",
    "                    max_iter=1000,\n",
    "                    n_jobs=-1,\n",
    "                    early_stopping=True,\n",
    "                    class_weight='balanced')\n",
    "\n",
    "svc_params = {'penalty':['l1', 'l2', 'elasticnet'],\n",
    "                'alpha':[0.0001, 0.001, 0.01, 0.1]}\n",
    "\n",
    "gs_svc = skm.GridSearchCV(svc, svc_params, cv=kfold, scoring='f1')\n",
    "gs_svc.fit(X_train, y_train)\n",
    "\n",
    "gs_svc.best_params_"
   ]
  },
  {
   "cell_type": "code",
   "execution_count": 57,
   "id": "31ad4b3b-97dd-46d9-b24b-e1c78151c038",
   "metadata": {},
   "outputs": [
    {
     "name": "stdout",
     "output_type": "stream",
     "text": [
      "Linear SVC\n",
      "\n",
      "              precision    recall  f1-score   support\n",
      "\n",
      "         0.0       0.80      0.66      0.72     56382\n",
      "         1.0       0.34      0.51      0.40     19289\n",
      "\n",
      "    accuracy                           0.62     75671\n",
      "   macro avg       0.57      0.58      0.56     75671\n",
      "weighted avg       0.68      0.62      0.64     75671\n",
      "\n"
     ]
    }
   ],
   "source": [
    "print('Linear SVC'+'\\n')\n",
    "print(classification_report(y_test, gs_svc.best_estimator_.predict(X_test)))"
   ]
  },
  {
   "cell_type": "markdown",
   "id": "13717c1c-41d1-4330-baa8-b0213d08d579",
   "metadata": {},
   "source": [
    "Linear Support Vector Classifier shows slightly worse performance for Popular class.\n",
    "\n",
    "## Support Vector Machine\n",
    "\n",
    "Due to large size of the data set, we will approximate radial kernel transformation with Nystroem transformer, and then use Stochastic Gradient Descent Classfier."
   ]
  },
  {
   "cell_type": "code",
   "execution_count": 59,
   "id": "a55a5859-070a-4a93-a15a-2713f5c7a918",
   "metadata": {},
   "outputs": [],
   "source": [
    "from sklearn.kernel_approximation import Nystroem"
   ]
  },
  {
   "cell_type": "code",
   "execution_count": 60,
   "id": "03e7bf9d-9449-4b23-aaf2-555b384b0fc3",
   "metadata": {},
   "outputs": [],
   "source": [
    "feature_map_nystroem = Nystroem(gamma=0.1,\n",
    "                                random_state=212,\n",
    "                                n_components=500,\n",
    "                                n_jobs=-1)\n",
    "\n",
    "# Tranforming feature space\n",
    "X_train_nystroem = feature_map_nystroem.fit_transform(X_train)\n",
    "X_test_nystroem = feature_map_nystroem.transform(X_test)"
   ]
  },
  {
   "cell_type": "code",
   "execution_count": 61,
   "id": "ba6087a0-44bb-40dc-b91a-bd7594448dd2",
   "metadata": {},
   "outputs": [
    {
     "data": {
      "text/plain": [
       "{'alpha': 0.0001, 'penalty': 'l1'}"
      ]
     },
     "execution_count": 61,
     "metadata": {},
     "output_type": "execute_result"
    }
   ],
   "source": [
    "svm_rbf = SGDClassifier(loss='hinge',\n",
    "                    max_iter=1000,\n",
    "                    n_jobs=-1,\n",
    "                    early_stopping=True,\n",
    "                    class_weight='balanced')\n",
    "\n",
    "svm_params = {'penalty':['l1', 'l2', 'elasticnet'],\n",
    "                'alpha':[0.0001, 0.001, 0.01, 0.1]}\n",
    "\n",
    "gs_svm = skm.GridSearchCV(svm_rbf, svm_params, cv=kfold, scoring='f1')\n",
    "gs_svm.fit(X_train_nystroem, y_train)\n",
    "\n",
    "gs_svm.best_params_"
   ]
  },
  {
   "cell_type": "code",
   "execution_count": 62,
   "id": "bff53e18-a853-420e-be33-11a137e239b9",
   "metadata": {},
   "outputs": [
    {
     "name": "stdout",
     "output_type": "stream",
     "text": [
      "SVM\n",
      "\n",
      "              precision    recall  f1-score   support\n",
      "\n",
      "         0.0       0.78      0.79      0.78     56382\n",
      "         1.0       0.36      0.35      0.36     19289\n",
      "\n",
      "    accuracy                           0.68     75671\n",
      "   macro avg       0.57      0.57      0.57     75671\n",
      "weighted avg       0.67      0.68      0.68     75671\n",
      "\n"
     ]
    }
   ],
   "source": [
    "print('SVM'+'\\n')\n",
    "print(classification_report(y_test, gs_svm.best_estimator_.predict(X_test_nystroem)))"
   ]
  },
  {
   "cell_type": "markdown",
   "id": "36b4eee5-7a7b-4833-a1f7-26514459765c",
   "metadata": {},
   "source": [
    "SVM with radial kernel shows highest recall for 'Popular' class at the expense of recall, sorting more observations into 'Not popular' class."
   ]
  },
  {
   "cell_type": "markdown",
   "id": "1ecd56ca-0ef7-48e9-a11a-9287e838fa67",
   "metadata": {},
   "source": [
    "## Gradient Boosting Classifier\n",
    "\n",
    "We will use histogram gradient boosting which is much faster for large data sets."
   ]
  },
  {
   "cell_type": "code",
   "execution_count": 64,
   "id": "77702a9a-fb8e-43fe-9748-9127bb7a6357",
   "metadata": {},
   "outputs": [],
   "source": [
    "from sklearn.ensemble import HistGradientBoostingClassifier as HGBC"
   ]
  },
  {
   "cell_type": "code",
   "execution_count": 65,
   "id": "85d9cbb6-c7d0-49a4-be66-718b7844f90e",
   "metadata": {},
   "outputs": [
    {
     "data": {
      "text/plain": [
       "{'l2_regularization': 0.1, 'learning_rate': 0.1}"
      ]
     },
     "execution_count": 65,
     "metadata": {},
     "output_type": "execute_result"
    }
   ],
   "source": [
    "gbc = HGBC(random_state=212,\n",
    "           max_iter=1000,\n",
    "           class_weight='balanced',\n",
    "           max_depth=3)\n",
    "\n",
    "gbc_params = {'learning_rate' : [0.1, 1],\n",
    "              'l2_regularization' : [0.1, 0]}\n",
    "\n",
    "gs_gbc = skm.GridSearchCV(gbc, gbc_params, cv=kfold, scoring='f1')\n",
    "gs_gbc.fit(X_train, y_train)\n",
    "\n",
    "gs_gbc.best_params_"
   ]
  },
  {
   "cell_type": "code",
   "execution_count": 66,
   "id": "9a530761-4a69-4043-8976-ad007f2758ed",
   "metadata": {},
   "outputs": [
    {
     "name": "stdout",
     "output_type": "stream",
     "text": [
      "Gradient Boosting\n",
      "\n",
      "              precision    recall  f1-score   support\n",
      "\n",
      "         0.0       0.80      0.68      0.73     56382\n",
      "         1.0       0.34      0.49      0.40     19289\n",
      "\n",
      "    accuracy                           0.63     75671\n",
      "   macro avg       0.57      0.58      0.57     75671\n",
      "weighted avg       0.68      0.63      0.65     75671\n",
      "\n"
     ]
    }
   ],
   "source": [
    "print('Gradient Boosting'+'\\n')\n",
    "print(classification_report(y_test, gs_gbc.best_estimator_.predict(X_test)))"
   ]
  },
  {
   "cell_type": "markdown",
   "id": "ed2cea96-40a2-47e3-8efa-9bcf04aebaa2",
   "metadata": {},
   "source": [
    "GBC shows comparable performance to Logistic Regression. We will use more simple Logistic Regression since it offers good interpretability, which is valuable for understanding the factors influencing post popularity."
   ]
  },
  {
   "cell_type": "markdown",
   "id": "cfa0aa07-d200-499b-b23b-5d12d1f446c5",
   "metadata": {},
   "source": [
    "## Threshold-tuning Logistic Regression\n",
    "\n",
    "We can explore different threshold, e.g. 0.45, for classifying a post as 'Popular' to see if there's a better balance between precision and recall for our specific business needs"
   ]
  },
  {
   "cell_type": "code",
   "execution_count": null,
   "id": "097bd7e3-104d-4f9a-826a-41e0f8bb1142",
   "metadata": {},
   "outputs": [],
   "source": [
    "from sklearn.metrics import ConfusionMatrixDisplay"
   ]
  },
  {
   "cell_type": "code",
   "execution_count": 72,
   "id": "a2bb7a25-75fe-42e6-9b95-3ca49a1c3718",
   "metadata": {},
   "outputs": [
    {
     "data": {
      "image/png": "[encoded data removed]",
      "text/plain": [
       "<Figure size 600x400 with 2 Axes>"
      ]
     },
     "metadata": {},
     "output_type": "display_data"
    }
   ],
   "source": [
    "fig, ax = plt.subplots(figsize=(6, 4))\n",
    "display = ConfusionMatrixDisplay.from_estimator(gs_logit.best_estimator_,\n",
    "                                                X_test, y_test,\n",
    "                                                ax=ax,\n",
    "                                                cmap=plt.cm.Greys)\n",
    "\n",
    "plt.title('Logistic Regression'+'\\n', size=16)\n",
    "plt.show()"
   ]
  },
  {
   "cell_type": "markdown",
   "id": "08a3abde-bb15-4410-85a7-e190e7e1a569",
   "metadata": {},
   "source": [
    "Now we change the threshold and compare the confusion matrix."
   ]
  },
  {
   "cell_type": "code",
   "execution_count": 73,
   "id": "ada0d7a6-353f-4494-9f04-a2b485330681",
   "metadata": {},
   "outputs": [],
   "source": [
    "logit_best = gs_logit.best_estimator_"
   ]
  },
  {
   "cell_type": "code",
   "execution_count": 118,
   "id": "67f443c6-34c6-48b3-87ad-98b884cf3c67",
   "metadata": {},
   "outputs": [],
   "source": [
    "logit_pred_prob_1 = logit_best.predict_proba(X_test)[:,1]\n",
    "\n",
    "# Setting threshold at 0.45\n",
    "y_pred_thres = (logit_pred_prob_1 >= 0.45).astype(int)"
   ]
  },
  {
   "cell_type": "code",
   "execution_count": 119,
   "id": "23c16c96-1d7a-4494-a264-fe23659a76c2",
   "metadata": {},
   "outputs": [
    {
     "name": "stdout",
     "output_type": "stream",
     "text": [
      "Log Reg, new threshold\n",
      "\n",
      "              precision    recall  f1-score   support\n",
      "\n",
      "         0.0       0.83      0.39      0.53     56382\n",
      "         1.0       0.30      0.77      0.43     19289\n",
      "\n",
      "    accuracy                           0.49     75671\n",
      "   macro avg       0.57      0.58      0.48     75671\n",
      "weighted avg       0.70      0.49      0.51     75671\n",
      "\n"
     ]
    }
   ],
   "source": [
    "print('Log Reg, new threshold'+'\\n')\n",
    "print(classification_report(y_test, y_pred_thres))"
   ]
  },
  {
   "cell_type": "code",
   "execution_count": 120,
   "id": "e7df1cb4-37f5-4c4a-a35f-dca45abda003",
   "metadata": {},
   "outputs": [
    {
     "data": {
      "image/png": "[encoded data removed]",
      "text/plain": [
       "<Figure size 600x400 with 2 Axes>"
      ]
     },
     "metadata": {},
     "output_type": "display_data"
    }
   ],
   "source": [
    "fig, ax = plt.subplots(figsize=(6, 4))\n",
    "display = ConfusionMatrixDisplay.from_predictions(\n",
    "                                                y_test, y_pred_thres,\n",
    "                                                ax=ax,\n",
    "                                                cmap=plt.cm.Greys)\n",
    "\n",
    "plt.title('Log Reg, new threshold'+'\\n', size=16)\n",
    "plt.show()"
   ]
  },
  {
   "cell_type": "markdown",
   "id": "bc19d581-d6d4-4137-bba4-967e7237e173",
   "metadata": {},
   "source": [
    "We see that with adjusted threshold the model sorts more observations into 'Popular' class, increasing recall, at the cost of worse precision and overall accuracy. The choice of threshold would depend on the specific business context and objectives. Adjusting the classification threshold can help tailor the sensitivity and specificity of the model to align with particular goals at hand."
   ]
  },
  {
   "cell_type": "markdown",
   "id": "492c91f9-23f1-4138-8814-715179802b28",
   "metadata": {},
   "source": [
    "## Feature Analysis\n",
    "\n",
    "Now we will examine the coefficients associated with each feature, and identify which specific words, hour of posting or phrases from the Bag of Words are most strongly associated with 'Popular' and 'Not Popular' classes."
   ]
  },
  {
   "cell_type": "code",
   "execution_count": 68,
   "id": "740adb7c-33f6-4b71-a1cf-715e84fab02b",
   "metadata": {},
   "outputs": [
    {
     "data": {
      "text/html": [
       "<style>#sk-container-id-1 {color: black;}#sk-container-id-1 pre{padding: 0;}#sk-container-id-1 div.sk-toggleable {background-color: white;}#sk-container-id-1 label.sk-toggleable__label {cursor: pointer;display: block;width: 100%;margin-bottom: 0;padding: 0.3em;box-sizing: border-box;text-align: center;}#sk-container-id-1 label.sk-toggleable__label-arrow:before {content: \"▸\";float: left;margin-right: 0.25em;color: #696969;}#sk-container-id-1 label.sk-toggleable__label-arrow:hover:before {color: black;}#sk-container-id-1 div.sk-estimator:hover label.sk-toggleable__label-arrow:before {color: black;}#sk-container-id-1 div.sk-toggleable__content {max-height: 0;max-width: 0;overflow: hidden;text-align: left;background-color: #f0f8ff;}#sk-container-id-1 div.sk-toggleable__content pre {margin: 0.2em;color: black;border-radius: 0.25em;background-color: #f0f8ff;}#sk-container-id-1 input.sk-toggleable__control:checked~div.sk-toggleable__content {max-height: 200px;max-width: 100%;overflow: auto;}#sk-container-id-1 input.sk-toggleable__control:checked~label.sk-toggleable__label-arrow:before {content: \"▾\";}#sk-container-id-1 div.sk-estimator input.sk-toggleable__control:checked~label.sk-toggleable__label {background-color: #d4ebff;}#sk-container-id-1 div.sk-label input.sk-toggleable__control:checked~label.sk-toggleable__label {background-color: #d4ebff;}#sk-container-id-1 input.sk-hidden--visually {border: 0;clip: rect(1px 1px 1px 1px);clip: rect(1px, 1px, 1px, 1px);height: 1px;margin: -1px;overflow: hidden;padding: 0;position: absolute;width: 1px;}#sk-container-id-1 div.sk-estimator {font-family: monospace;background-color: #f0f8ff;border: 1px dotted black;border-radius: 0.25em;box-sizing: border-box;margin-bottom: 0.5em;}#sk-container-id-1 div.sk-estimator:hover {background-color: #d4ebff;}#sk-container-id-1 div.sk-parallel-item::after {content: \"\";width: 100%;border-bottom: 1px solid gray;flex-grow: 1;}#sk-container-id-1 div.sk-label:hover label.sk-toggleable__label {background-color: #d4ebff;}#sk-container-id-1 div.sk-serial::before {content: \"\";position: absolute;border-left: 1px solid gray;box-sizing: border-box;top: 0;bottom: 0;left: 50%;z-index: 0;}#sk-container-id-1 div.sk-serial {display: flex;flex-direction: column;align-items: center;background-color: white;padding-right: 0.2em;padding-left: 0.2em;position: relative;}#sk-container-id-1 div.sk-item {position: relative;z-index: 1;}#sk-container-id-1 div.sk-parallel {display: flex;align-items: stretch;justify-content: center;background-color: white;position: relative;}#sk-container-id-1 div.sk-item::before, #sk-container-id-1 div.sk-parallel-item::before {content: \"\";position: absolute;border-left: 1px solid gray;box-sizing: border-box;top: 0;bottom: 0;left: 50%;z-index: -1;}#sk-container-id-1 div.sk-parallel-item {display: flex;flex-direction: column;z-index: 1;position: relative;background-color: white;}#sk-container-id-1 div.sk-parallel-item:first-child::after {align-self: flex-end;width: 50%;}#sk-container-id-1 div.sk-parallel-item:last-child::after {align-self: flex-start;width: 50%;}#sk-container-id-1 div.sk-parallel-item:only-child::after {width: 0;}#sk-container-id-1 div.sk-dashed-wrapped {border: 1px dashed gray;margin: 0 0.4em 0.5em 0.4em;box-sizing: border-box;padding-bottom: 0.4em;background-color: white;}#sk-container-id-1 div.sk-label label {font-family: monospace;font-weight: bold;display: inline-block;line-height: 1.2em;}#sk-container-id-1 div.sk-label-container {text-align: center;}#sk-container-id-1 div.sk-container {/* jupyter's `normalize.less` sets `[hidden] { display: none; }` but bootstrap.min.css set `[hidden] { display: none !important; }` so we also need the `!important` here to be able to override the default hidden behavior on the sphinx rendered scikit-learn.org. See: https://github.com/scikit-learn/scikit-learn/issues/21755 */display: inline-block !important;position: relative;}#sk-container-id-1 div.sk-text-repr-fallback {display: none;}</style><div id=\"sk-container-id-1\" class=\"sk-top-container\"><div class=\"sk-text-repr-fallback\"><pre>SGDClassifier(class_weight=&#x27;balanced&#x27;, early_stopping=True, loss=&#x27;log_loss&#x27;,\n",
       "              n_jobs=-1)</pre><b>In a Jupyter environment, please rerun this cell to show the HTML representation or trust the notebook. <br />On GitHub, the HTML representation is unable to render, please try loading this page with nbviewer.org.</b></div><div class=\"sk-container\" hidden><div class=\"sk-item\"><div class=\"sk-estimator sk-toggleable\"><input class=\"sk-toggleable__control sk-hidden--visually\" id=\"sk-estimator-id-1\" type=\"checkbox\" checked><label for=\"sk-estimator-id-1\" class=\"sk-toggleable__label sk-toggleable__label-arrow\">SGDClassifier</label><div class=\"sk-toggleable__content\"><pre>SGDClassifier(class_weight=&#x27;balanced&#x27;, early_stopping=True, loss=&#x27;log_loss&#x27;,\n",
       "              n_jobs=-1)</pre></div></div></div></div></div>"
      ],
      "text/plain": [
       "SGDClassifier(class_weight='balanced', early_stopping=True, loss='log_loss',\n",
       "              n_jobs=-1)"
      ]
     },
     "execution_count": 68,
     "metadata": {},
     "output_type": "execute_result"
    }
   ],
   "source": [
    "# Fitting the model on the full data set\n",
    "logit_best = gs_logit.best_estimator_\n",
    "logit_best.fit(X_scaled, y_cat)"
   ]
  },
  {
   "cell_type": "code",
   "execution_count": 69,
   "id": "53718358-ca74-439f-a08f-cbbffbb67fc6",
   "metadata": {},
   "outputs": [
    {
     "data": {
      "text/html": [
       "<div>\n",
       "<style scoped>\n",
       "    .dataframe tbody tr th:only-of-type {\n",
       "        vertical-align: middle;\n",
       "    }\n",
       "\n",
       "    .dataframe tbody tr th {\n",
       "        vertical-align: top;\n",
       "    }\n",
       "\n",
       "    .dataframe thead th {\n",
       "        text-align: right;\n",
       "    }\n",
       "</style>\n",
       "<table border=\"1\" class=\"dataframe\">\n",
       "  <thead>\n",
       "    <tr style=\"text-align: right;\">\n",
       "      <th></th>\n",
       "      <th>Feature</th>\n",
       "      <th>Logit_Coef</th>\n",
       "    </tr>\n",
       "  </thead>\n",
       "  <tbody>\n",
       "    <tr>\n",
       "      <th>0</th>\n",
       "      <td>hour_created</td>\n",
       "      <td>-0.040608</td>\n",
       "    </tr>\n",
       "    <tr>\n",
       "      <th>1</th>\n",
       "      <td>type_poll</td>\n",
       "      <td>-0.365427</td>\n",
       "    </tr>\n",
       "    <tr>\n",
       "      <th>2</th>\n",
       "      <td>type_show_hn</td>\n",
       "      <td>-0.138307</td>\n",
       "    </tr>\n",
       "    <tr>\n",
       "      <th>3</th>\n",
       "      <td>type_story</td>\n",
       "      <td>-0.535571</td>\n",
       "    </tr>\n",
       "    <tr>\n",
       "      <th>4</th>\n",
       "      <td>url_arstechnica.com</td>\n",
       "      <td>0.232532</td>\n",
       "    </tr>\n",
       "    <tr>\n",
       "      <th>...</th>\n",
       "      <td>...</td>\n",
       "      <td>...</td>\n",
       "    </tr>\n",
       "    <tr>\n",
       "      <th>552</th>\n",
       "      <td>title_write</td>\n",
       "      <td>0.018077</td>\n",
       "    </tr>\n",
       "    <tr>\n",
       "      <th>553</th>\n",
       "      <td>title_wrong</td>\n",
       "      <td>0.354670</td>\n",
       "    </tr>\n",
       "    <tr>\n",
       "      <th>554</th>\n",
       "      <td>title_year</td>\n",
       "      <td>0.197569</td>\n",
       "    </tr>\n",
       "    <tr>\n",
       "      <th>555</th>\n",
       "      <td>title_youtub</td>\n",
       "      <td>0.015105</td>\n",
       "    </tr>\n",
       "    <tr>\n",
       "      <th>556</th>\n",
       "      <td>title_zero</td>\n",
       "      <td>-0.098971</td>\n",
       "    </tr>\n",
       "  </tbody>\n",
       "</table>\n",
       "<p>557 rows × 2 columns</p>\n",
       "</div>"
      ],
      "text/plain": [
       "                 Feature  Logit_Coef\n",
       "0           hour_created   -0.040608\n",
       "1              type_poll   -0.365427\n",
       "2           type_show_hn   -0.138307\n",
       "3             type_story   -0.535571\n",
       "4    url_arstechnica.com    0.232532\n",
       "..                   ...         ...\n",
       "552          title_write    0.018077\n",
       "553          title_wrong    0.354670\n",
       "554           title_year    0.197569\n",
       "555         title_youtub    0.015105\n",
       "556           title_zero   -0.098971\n",
       "\n",
       "[557 rows x 2 columns]"
      ]
     },
     "execution_count": 69,
     "metadata": {},
     "output_type": "execute_result"
    }
   ],
   "source": [
    "# Extracting coefficients\n",
    "logit_coefs = logit_best.coef_[0]\n",
    "\n",
    "feature_importance = pd.DataFrame({'Feature': feature_names2, 'Logit_Coef': logit_coefs})\n",
    "\n",
    "feature_importance"
   ]
  },
  {
   "cell_type": "code",
   "execution_count": 71,
   "id": "8af65a4a-6e4f-4ee4-a23e-73ded9a7eff1",
   "metadata": {},
   "outputs": [
    {
     "data": {
      "image/png": "[encoded data removed]",
      "text/plain": [
       "<Figure size 640x480 with 1 Axes>"
      ]
     },
     "metadata": {},
     "output_type": "display_data"
    }
   ],
   "source": [
    "# Selecting top-20 most important features\n",
    "top_features = feature_importance.sort_values(by='Logit_Coef', key=abs, ascending=False).head(20)\n",
    "\n",
    "plt.barh(top_features['Feature'],\n",
    "         top_features['Logit_Coef'],\n",
    "         color='blueviolet')\n",
    "\n",
    "plt.xlabel('Coefficient Value')\n",
    "plt.ylabel('Feature')\n",
    "plt.title('Top Features in Predicting Post Popularity'+'\\n', size=16)\n",
    "\n",
    "plt.show()"
   ]
  },
  {
   "cell_type": "markdown",
   "id": "c64cd767-4617-44f1-ae4e-6bd377d55345",
   "metadata": {},
   "source": [
    "Some words in the title might indicate that a post will get over 8 reactions (hn, ban, mastodon, employee etc.), while links to certain sites (YouTube, Wikipedia, medium.com, thenewsstack.io) tend to attract less reaction. Posts labeled as story might be less popular as well. Despite certain trends in hour of posting, it appears to not have any significant effect on the number of reactions the post gets, nor does the activity level of the post's author."
   ]
  },
  {
   "cell_type": "markdown",
   "id": "c9817b69",
   "metadata": {},
   "source": [
    "# Conclusion\n",
    "\n",
    "Through rigorous analysis of a substantial dataset from Hacker News, we sought to uncover the attributes that predispose a post to be deemed 'Popular'. Our investigation spanned numerous machine learning models, where we measured performance primarily by the f1 score due to the imbalanced nature of our response variable. Logistic Regression emerged as the model of choice, balancing simplicity with predictive power.\n",
    "\n",
    "The model's findings shed light on various features that correlate with post popularity. Notably, certain keywords within titles and the source domains of posted content were identified as significant predictors. While words such as 'hn', 'ban', and 'mastodon' tended to predict popularity, posts linking to domains like YouTube and Wikipedia were less likely to be classified as 'Popular'. Additionally, the post type 'story' was found to be a less influential feature.\n",
    "\n",
    "It is important to highlight that these results, while insightful, are predictive and not necessarily causative. Furthermore, the choice of threshold for classifying posts as 'Popular' is somewhat arbitrary and should be tailored to the specific needs and context of application.\n",
    "\n",
    "As we conclude, our analysis provides a foundation for understanding engagement on Hacker News and suggests avenues for content strategists to potentially amplify the reach of their posts. Future work may involve incorporating additional contextual data, refining feature engineering, or exploring more complex models to build upon the groundwork laid by this project."
   ]
  }
 ],
 "metadata": {
  "kernelspec": {
   "display_name": "Python 3 (ipykernel)",
   "language": "python",
   "name": "python3"
  },
  "language_info": {
   "codemirror_mode": {
    "name": "ipython",
    "version": 3
   },
   "file_extension": ".py",
   "mimetype": "text/x-python",
   "name": "python",
   "nbconvert_exporter": "python",
   "pygments_lexer": "ipython3",
   "version": "3.11.5"
  }
 },
 "nbformat": 4,
 "nbformat_minor": 5
}
